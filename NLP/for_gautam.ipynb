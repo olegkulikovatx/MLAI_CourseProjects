{
 "cells": [
  {
   "cell_type": "markdown",
   "id": "f88df34f",
   "metadata": {},
   "source": [
    "# 1. Import the libraries, load dataset, the print shape of data, data description. \n"
   ]
  },
  {
   "cell_type": "code",
   "execution_count": 59,
   "id": "88c4b668",
   "metadata": {},
   "outputs": [
    {
     "name": "stderr",
     "output_type": "stream",
     "text": [
      "[nltk_data] Downloading package stopwords to\n",
      "[nltk_data]     /Users/olegkulikov/nltk_data...\n",
      "[nltk_data]   Package stopwords is already up-to-date!\n"
     ]
    }
   ],
   "source": [
    "import numpy as np\n",
    "import pandas as pd\n",
    "import seaborn as sns\n",
    "import matplotlib.pyplot as plt\n",
    "%matplotlib inline\n",
    "\n",
    "from bs4 import BeautifulSoup\n",
    "import pandas as pd\n",
    "import numpy as np\n",
    "import re, string, unicodedata\n",
    "import nltk\n",
    "nltk.download('stopwords')\n",
    "\n",
    "import contractions\n",
    "\n",
    "from nltk import word_tokenize, sent_tokenize\n",
    "from nltk.corpus import stopwords, wordnet    # Stopwords, and wordnet corpus\n",
    "from nltk.stem import LancasterStemmer, WordNetLemmatizer\n",
    "\n",
    "from sklearn.feature_extraction.text import CountVectorizer\n",
    "from sklearn.feature_extraction.text import TfidfVectorizer"
   ]
  },
  {
   "cell_type": "code",
   "execution_count": 60,
   "id": "b5c5408f",
   "metadata": {},
   "outputs": [
    {
     "name": "stdout",
     "output_type": "stream",
     "text": [
      "/Users/olegkulikov/Documents/GitHub/GreatLearning/gl-pgp-aiml-uta-intl-nov20-olegkulikovatx/NLP/\n"
     ]
    }
   ],
   "source": [
    "import os\n",
    "path = os.getcwd() + '/'\n",
    "print (path)"
   ]
  },
  {
   "cell_type": "code",
   "execution_count": 61,
   "id": "75eb7670",
   "metadata": {},
   "outputs": [],
   "source": [
    "\n",
    "orig_data = pd.read_csv(path+'Tweets.csv')"
   ]
  },
  {
   "cell_type": "code",
   "execution_count": 62,
   "id": "f1697711",
   "metadata": {},
   "outputs": [
    {
     "data": {
      "text/html": [
       "<div>\n",
       "<style scoped>\n",
       "    .dataframe tbody tr th:only-of-type {\n",
       "        vertical-align: middle;\n",
       "    }\n",
       "\n",
       "    .dataframe tbody tr th {\n",
       "        vertical-align: top;\n",
       "    }\n",
       "\n",
       "    .dataframe thead th {\n",
       "        text-align: right;\n",
       "    }\n",
       "</style>\n",
       "<table border=\"1\" class=\"dataframe\">\n",
       "  <thead>\n",
       "    <tr style=\"text-align: right;\">\n",
       "      <th></th>\n",
       "      <th>tweet_id</th>\n",
       "      <th>airline_sentiment</th>\n",
       "      <th>airline_sentiment_confidence</th>\n",
       "      <th>negativereason</th>\n",
       "      <th>negativereason_confidence</th>\n",
       "      <th>airline</th>\n",
       "      <th>airline_sentiment_gold</th>\n",
       "      <th>name</th>\n",
       "      <th>negativereason_gold</th>\n",
       "      <th>retweet_count</th>\n",
       "      <th>text</th>\n",
       "      <th>tweet_coord</th>\n",
       "      <th>tweet_created</th>\n",
       "      <th>tweet_location</th>\n",
       "      <th>user_timezone</th>\n",
       "    </tr>\n",
       "  </thead>\n",
       "  <tbody>\n",
       "    <tr>\n",
       "      <th>0</th>\n",
       "      <td>570306133677760513</td>\n",
       "      <td>neutral</td>\n",
       "      <td>1.0000</td>\n",
       "      <td>NaN</td>\n",
       "      <td>NaN</td>\n",
       "      <td>Virgin America</td>\n",
       "      <td>NaN</td>\n",
       "      <td>cairdin</td>\n",
       "      <td>NaN</td>\n",
       "      <td>0</td>\n",
       "      <td>@VirginAmerica What @dhepburn said.</td>\n",
       "      <td>NaN</td>\n",
       "      <td>2015-02-24 11:35:52 -0800</td>\n",
       "      <td>NaN</td>\n",
       "      <td>Eastern Time (US &amp; Canada)</td>\n",
       "    </tr>\n",
       "    <tr>\n",
       "      <th>1</th>\n",
       "      <td>570301130888122368</td>\n",
       "      <td>positive</td>\n",
       "      <td>0.3486</td>\n",
       "      <td>NaN</td>\n",
       "      <td>0.0000</td>\n",
       "      <td>Virgin America</td>\n",
       "      <td>NaN</td>\n",
       "      <td>jnardino</td>\n",
       "      <td>NaN</td>\n",
       "      <td>0</td>\n",
       "      <td>@VirginAmerica plus you've added commercials t...</td>\n",
       "      <td>NaN</td>\n",
       "      <td>2015-02-24 11:15:59 -0800</td>\n",
       "      <td>NaN</td>\n",
       "      <td>Pacific Time (US &amp; Canada)</td>\n",
       "    </tr>\n",
       "    <tr>\n",
       "      <th>2</th>\n",
       "      <td>570301083672813571</td>\n",
       "      <td>neutral</td>\n",
       "      <td>0.6837</td>\n",
       "      <td>NaN</td>\n",
       "      <td>NaN</td>\n",
       "      <td>Virgin America</td>\n",
       "      <td>NaN</td>\n",
       "      <td>yvonnalynn</td>\n",
       "      <td>NaN</td>\n",
       "      <td>0</td>\n",
       "      <td>@VirginAmerica I didn't today... Must mean I n...</td>\n",
       "      <td>NaN</td>\n",
       "      <td>2015-02-24 11:15:48 -0800</td>\n",
       "      <td>Lets Play</td>\n",
       "      <td>Central Time (US &amp; Canada)</td>\n",
       "    </tr>\n",
       "    <tr>\n",
       "      <th>3</th>\n",
       "      <td>570301031407624196</td>\n",
       "      <td>negative</td>\n",
       "      <td>1.0000</td>\n",
       "      <td>Bad Flight</td>\n",
       "      <td>0.7033</td>\n",
       "      <td>Virgin America</td>\n",
       "      <td>NaN</td>\n",
       "      <td>jnardino</td>\n",
       "      <td>NaN</td>\n",
       "      <td>0</td>\n",
       "      <td>@VirginAmerica it's really aggressive to blast...</td>\n",
       "      <td>NaN</td>\n",
       "      <td>2015-02-24 11:15:36 -0800</td>\n",
       "      <td>NaN</td>\n",
       "      <td>Pacific Time (US &amp; Canada)</td>\n",
       "    </tr>\n",
       "    <tr>\n",
       "      <th>4</th>\n",
       "      <td>570300817074462722</td>\n",
       "      <td>negative</td>\n",
       "      <td>1.0000</td>\n",
       "      <td>Can't Tell</td>\n",
       "      <td>1.0000</td>\n",
       "      <td>Virgin America</td>\n",
       "      <td>NaN</td>\n",
       "      <td>jnardino</td>\n",
       "      <td>NaN</td>\n",
       "      <td>0</td>\n",
       "      <td>@VirginAmerica and it's a really big bad thing...</td>\n",
       "      <td>NaN</td>\n",
       "      <td>2015-02-24 11:14:45 -0800</td>\n",
       "      <td>NaN</td>\n",
       "      <td>Pacific Time (US &amp; Canada)</td>\n",
       "    </tr>\n",
       "  </tbody>\n",
       "</table>\n",
       "</div>"
      ],
      "text/plain": [
       "             tweet_id airline_sentiment  airline_sentiment_confidence  \\\n",
       "0  570306133677760513           neutral                        1.0000   \n",
       "1  570301130888122368          positive                        0.3486   \n",
       "2  570301083672813571           neutral                        0.6837   \n",
       "3  570301031407624196          negative                        1.0000   \n",
       "4  570300817074462722          negative                        1.0000   \n",
       "\n",
       "  negativereason  negativereason_confidence         airline  \\\n",
       "0            NaN                        NaN  Virgin America   \n",
       "1            NaN                     0.0000  Virgin America   \n",
       "2            NaN                        NaN  Virgin America   \n",
       "3     Bad Flight                     0.7033  Virgin America   \n",
       "4     Can't Tell                     1.0000  Virgin America   \n",
       "\n",
       "  airline_sentiment_gold        name negativereason_gold  retweet_count  \\\n",
       "0                    NaN     cairdin                 NaN              0   \n",
       "1                    NaN    jnardino                 NaN              0   \n",
       "2                    NaN  yvonnalynn                 NaN              0   \n",
       "3                    NaN    jnardino                 NaN              0   \n",
       "4                    NaN    jnardino                 NaN              0   \n",
       "\n",
       "                                                text tweet_coord  \\\n",
       "0                @VirginAmerica What @dhepburn said.         NaN   \n",
       "1  @VirginAmerica plus you've added commercials t...         NaN   \n",
       "2  @VirginAmerica I didn't today... Must mean I n...         NaN   \n",
       "3  @VirginAmerica it's really aggressive to blast...         NaN   \n",
       "4  @VirginAmerica and it's a really big bad thing...         NaN   \n",
       "\n",
       "               tweet_created tweet_location               user_timezone  \n",
       "0  2015-02-24 11:35:52 -0800            NaN  Eastern Time (US & Canada)  \n",
       "1  2015-02-24 11:15:59 -0800            NaN  Pacific Time (US & Canada)  \n",
       "2  2015-02-24 11:15:48 -0800      Lets Play  Central Time (US & Canada)  \n",
       "3  2015-02-24 11:15:36 -0800            NaN  Pacific Time (US & Canada)  \n",
       "4  2015-02-24 11:14:45 -0800            NaN  Pacific Time (US & Canada)  "
      ]
     },
     "execution_count": 62,
     "metadata": {},
     "output_type": "execute_result"
    }
   ],
   "source": [
    "orig_data.head(5)"
   ]
  },
  {
   "cell_type": "code",
   "execution_count": 63,
   "id": "05067f21",
   "metadata": {},
   "outputs": [
    {
     "name": "stdout",
     "output_type": "stream",
     "text": [
      "(14640, 15)\n"
     ]
    }
   ],
   "source": [
    "print(orig_data.shape)"
   ]
  },
  {
   "cell_type": "code",
   "execution_count": 64,
   "id": "832f0db0",
   "metadata": {},
   "outputs": [
    {
     "name": "stdout",
     "output_type": "stream",
     "text": [
      "           tweet_id  airline_sentiment_confidence  negativereason_confidence  \\\n",
      "count  1.464000e+04                  14640.000000               10522.000000   \n",
      "mean   5.692184e+17                      0.900169                   0.638298   \n",
      "std    7.791112e+14                      0.162830                   0.330440   \n",
      "min    5.675883e+17                      0.335000                   0.000000   \n",
      "25%    5.685592e+17                      0.692300                   0.360600   \n",
      "50%    5.694779e+17                      1.000000                   0.670600   \n",
      "75%    5.698905e+17                      1.000000                   1.000000   \n",
      "max    5.703106e+17                      1.000000                   1.000000   \n",
      "\n",
      "       retweet_count  \n",
      "count   14640.000000  \n",
      "mean        0.082650  \n",
      "std         0.745778  \n",
      "min         0.000000  \n",
      "25%         0.000000  \n",
      "50%         0.000000  \n",
      "75%         0.000000  \n",
      "max        44.000000  \n"
     ]
    }
   ],
   "source": [
    "print(orig_data.describe())"
   ]
  },
  {
   "cell_type": "code",
   "execution_count": 65,
   "id": "623b0412",
   "metadata": {},
   "outputs": [
    {
     "name": "stdout",
     "output_type": "stream",
     "text": [
      "tweet_id                            0\n",
      "airline_sentiment                   0\n",
      "airline_sentiment_confidence        0\n",
      "negativereason                   5462\n",
      "negativereason_confidence        4118\n",
      "airline                             0\n",
      "airline_sentiment_gold          14600\n",
      "name                                0\n",
      "negativereason_gold             14608\n",
      "retweet_count                       0\n",
      "text                                0\n",
      "tweet_coord                     13621\n",
      "tweet_created                       0\n",
      "tweet_location                   4733\n",
      "user_timezone                    4820\n",
      "dtype: int64\n"
     ]
    }
   ],
   "source": [
    "print(orig_data.isna().sum())"
   ]
  },
  {
   "cell_type": "code",
   "execution_count": 66,
   "id": "33a4bfac",
   "metadata": {},
   "outputs": [
    {
     "name": "stdout",
     "output_type": "stream",
     "text": [
      "<class 'pandas.core.frame.DataFrame'>\n",
      "RangeIndex: 14640 entries, 0 to 14639\n",
      "Data columns (total 15 columns):\n",
      " #   Column                        Non-Null Count  Dtype  \n",
      "---  ------                        --------------  -----  \n",
      " 0   tweet_id                      14640 non-null  int64  \n",
      " 1   airline_sentiment             14640 non-null  object \n",
      " 2   airline_sentiment_confidence  14640 non-null  float64\n",
      " 3   negativereason                9178 non-null   object \n",
      " 4   negativereason_confidence     10522 non-null  float64\n",
      " 5   airline                       14640 non-null  object \n",
      " 6   airline_sentiment_gold        40 non-null     object \n",
      " 7   name                          14640 non-null  object \n",
      " 8   negativereason_gold           32 non-null     object \n",
      " 9   retweet_count                 14640 non-null  int64  \n",
      " 10  text                          14640 non-null  object \n",
      " 11  tweet_coord                   1019 non-null   object \n",
      " 12  tweet_created                 14640 non-null  object \n",
      " 13  tweet_location                9907 non-null   object \n",
      " 14  user_timezone                 9820 non-null   object \n",
      "dtypes: float64(2), int64(2), object(11)\n",
      "memory usage: 1.7+ MB\n",
      "None\n"
     ]
    }
   ],
   "source": [
    "print(orig_data.info())"
   ]
  },
  {
   "cell_type": "markdown",
   "id": "712bd29f",
   "metadata": {},
   "source": [
    "# 2. Understand of data columns: "
   ]
  },
  {
   "cell_type": "markdown",
   "id": "45dafdee",
   "metadata": {},
   "source": [
    "## Create a small data set to test data set transformations"
   ]
  },
  {
   "cell_type": "code",
   "execution_count": 67,
   "id": "d7511ce9",
   "metadata": {},
   "outputs": [
    {
     "data": {
      "text/html": [
       "<div>\n",
       "<style scoped>\n",
       "    .dataframe tbody tr th:only-of-type {\n",
       "        vertical-align: middle;\n",
       "    }\n",
       "\n",
       "    .dataframe tbody tr th {\n",
       "        vertical-align: top;\n",
       "    }\n",
       "\n",
       "    .dataframe thead th {\n",
       "        text-align: right;\n",
       "    }\n",
       "</style>\n",
       "<table border=\"1\" class=\"dataframe\">\n",
       "  <thead>\n",
       "    <tr style=\"text-align: right;\">\n",
       "      <th></th>\n",
       "      <th>tweet_id</th>\n",
       "      <th>airline_sentiment</th>\n",
       "      <th>airline_sentiment_confidence</th>\n",
       "      <th>negativereason</th>\n",
       "      <th>negativereason_confidence</th>\n",
       "      <th>airline</th>\n",
       "      <th>airline_sentiment_gold</th>\n",
       "      <th>name</th>\n",
       "      <th>negativereason_gold</th>\n",
       "      <th>retweet_count</th>\n",
       "      <th>text</th>\n",
       "      <th>tweet_coord</th>\n",
       "      <th>tweet_created</th>\n",
       "      <th>tweet_location</th>\n",
       "      <th>user_timezone</th>\n",
       "    </tr>\n",
       "  </thead>\n",
       "  <tbody>\n",
       "    <tr>\n",
       "      <th>0</th>\n",
       "      <td>570306133677760513</td>\n",
       "      <td>neutral</td>\n",
       "      <td>1.0000</td>\n",
       "      <td>NaN</td>\n",
       "      <td>NaN</td>\n",
       "      <td>Virgin America</td>\n",
       "      <td>NaN</td>\n",
       "      <td>cairdin</td>\n",
       "      <td>NaN</td>\n",
       "      <td>0</td>\n",
       "      <td>@VirginAmerica What @dhepburn said.</td>\n",
       "      <td>NaN</td>\n",
       "      <td>2015-02-24 11:35:52 -0800</td>\n",
       "      <td>NaN</td>\n",
       "      <td>Eastern Time (US &amp; Canada)</td>\n",
       "    </tr>\n",
       "    <tr>\n",
       "      <th>1</th>\n",
       "      <td>570301130888122368</td>\n",
       "      <td>positive</td>\n",
       "      <td>0.3486</td>\n",
       "      <td>NaN</td>\n",
       "      <td>0.0000</td>\n",
       "      <td>Virgin America</td>\n",
       "      <td>NaN</td>\n",
       "      <td>jnardino</td>\n",
       "      <td>NaN</td>\n",
       "      <td>0</td>\n",
       "      <td>@VirginAmerica plus you've added commercials t...</td>\n",
       "      <td>NaN</td>\n",
       "      <td>2015-02-24 11:15:59 -0800</td>\n",
       "      <td>NaN</td>\n",
       "      <td>Pacific Time (US &amp; Canada)</td>\n",
       "    </tr>\n",
       "    <tr>\n",
       "      <th>2</th>\n",
       "      <td>570301083672813571</td>\n",
       "      <td>neutral</td>\n",
       "      <td>0.6837</td>\n",
       "      <td>NaN</td>\n",
       "      <td>NaN</td>\n",
       "      <td>Virgin America</td>\n",
       "      <td>NaN</td>\n",
       "      <td>yvonnalynn</td>\n",
       "      <td>NaN</td>\n",
       "      <td>0</td>\n",
       "      <td>@VirginAmerica I didn't today... Must mean I n...</td>\n",
       "      <td>NaN</td>\n",
       "      <td>2015-02-24 11:15:48 -0800</td>\n",
       "      <td>Lets Play</td>\n",
       "      <td>Central Time (US &amp; Canada)</td>\n",
       "    </tr>\n",
       "    <tr>\n",
       "      <th>3</th>\n",
       "      <td>570301031407624196</td>\n",
       "      <td>negative</td>\n",
       "      <td>1.0000</td>\n",
       "      <td>Bad Flight</td>\n",
       "      <td>0.7033</td>\n",
       "      <td>Virgin America</td>\n",
       "      <td>NaN</td>\n",
       "      <td>jnardino</td>\n",
       "      <td>NaN</td>\n",
       "      <td>0</td>\n",
       "      <td>@VirginAmerica it's really aggressive to blast...</td>\n",
       "      <td>NaN</td>\n",
       "      <td>2015-02-24 11:15:36 -0800</td>\n",
       "      <td>NaN</td>\n",
       "      <td>Pacific Time (US &amp; Canada)</td>\n",
       "    </tr>\n",
       "    <tr>\n",
       "      <th>4</th>\n",
       "      <td>570300817074462722</td>\n",
       "      <td>negative</td>\n",
       "      <td>1.0000</td>\n",
       "      <td>Can't Tell</td>\n",
       "      <td>1.0000</td>\n",
       "      <td>Virgin America</td>\n",
       "      <td>NaN</td>\n",
       "      <td>jnardino</td>\n",
       "      <td>NaN</td>\n",
       "      <td>0</td>\n",
       "      <td>@VirginAmerica and it's a really big bad thing...</td>\n",
       "      <td>NaN</td>\n",
       "      <td>2015-02-24 11:14:45 -0800</td>\n",
       "      <td>NaN</td>\n",
       "      <td>Pacific Time (US &amp; Canada)</td>\n",
       "    </tr>\n",
       "  </tbody>\n",
       "</table>\n",
       "</div>"
      ],
      "text/plain": [
       "             tweet_id airline_sentiment  airline_sentiment_confidence  \\\n",
       "0  570306133677760513           neutral                        1.0000   \n",
       "1  570301130888122368          positive                        0.3486   \n",
       "2  570301083672813571           neutral                        0.6837   \n",
       "3  570301031407624196          negative                        1.0000   \n",
       "4  570300817074462722          negative                        1.0000   \n",
       "\n",
       "  negativereason  negativereason_confidence         airline  \\\n",
       "0            NaN                        NaN  Virgin America   \n",
       "1            NaN                     0.0000  Virgin America   \n",
       "2            NaN                        NaN  Virgin America   \n",
       "3     Bad Flight                     0.7033  Virgin America   \n",
       "4     Can't Tell                     1.0000  Virgin America   \n",
       "\n",
       "  airline_sentiment_gold        name negativereason_gold  retweet_count  \\\n",
       "0                    NaN     cairdin                 NaN              0   \n",
       "1                    NaN    jnardino                 NaN              0   \n",
       "2                    NaN  yvonnalynn                 NaN              0   \n",
       "3                    NaN    jnardino                 NaN              0   \n",
       "4                    NaN    jnardino                 NaN              0   \n",
       "\n",
       "                                                text tweet_coord  \\\n",
       "0                @VirginAmerica What @dhepburn said.         NaN   \n",
       "1  @VirginAmerica plus you've added commercials t...         NaN   \n",
       "2  @VirginAmerica I didn't today... Must mean I n...         NaN   \n",
       "3  @VirginAmerica it's really aggressive to blast...         NaN   \n",
       "4  @VirginAmerica and it's a really big bad thing...         NaN   \n",
       "\n",
       "               tweet_created tweet_location               user_timezone  \n",
       "0  2015-02-24 11:35:52 -0800            NaN  Eastern Time (US & Canada)  \n",
       "1  2015-02-24 11:15:59 -0800            NaN  Pacific Time (US & Canada)  \n",
       "2  2015-02-24 11:15:48 -0800      Lets Play  Central Time (US & Canada)  \n",
       "3  2015-02-24 11:15:36 -0800            NaN  Pacific Time (US & Canada)  \n",
       "4  2015-02-24 11:14:45 -0800            NaN  Pacific Time (US & Canada)  "
      ]
     },
     "execution_count": 67,
     "metadata": {},
     "output_type": "execute_result"
    }
   ],
   "source": [
    "first5 = orig_data.head(5)\n",
    "first5"
   ]
  },
  {
   "cell_type": "markdown",
   "id": "cc2479ed",
   "metadata": {},
   "source": [
    "## a. Drop all other columns except “text” and “airline_sentiment”."
   ]
  },
  {
   "cell_type": "code",
   "execution_count": 68,
   "id": "7269655a",
   "metadata": {},
   "outputs": [],
   "source": [
    "from sklearn.base import BaseEstimator, TransformerMixin"
   ]
  },
  {
   "cell_type": "code",
   "execution_count": 69,
   "id": "14166839",
   "metadata": {},
   "outputs": [],
   "source": [
    "def my_print(a):\n",
    "    \"\"\"\n",
    "    Function my_print prints out parameter a if global \n",
    "    variable debug is True. Otherwise does nothing\\\n",
    "    \"\"\"\n",
    "    global debug\n",
    "    try: debug\n",
    "    except NameError: debug=False\n",
    "    if debug:\n",
    "        print(a)\n",
    "\n",
    "## disable debugging info print out\n",
    "debug=True"
   ]
  },
  {
   "cell_type": "code",
   "execution_count": 70,
   "id": "1e7e6bcc",
   "metadata": {},
   "outputs": [],
   "source": [
    "class ColumnDropper(BaseEstimator, TransformerMixin):\n",
    "    \"\"\"\n",
    "    class ColumnDropper(columns) drops columns in the dataframe.\n",
    "    columns - list of columns to be droppped\n",
    "    \"\"\"    \n",
    "    def __init__(self, columns):\n",
    "        self.columns = columns\n",
    "        return\n",
    "    def fit(self, X, y=None, **fit_params):\n",
    "        my_print (\"-- ColumnDropper::fit() --\")\n",
    "        # Do nothing\n",
    "        return self\n",
    "    def transform(self, X):\n",
    "        my_print (\"-- ColumnDropper::transform() --\")    \n",
    "        new_X = X.drop(columns=self.columns)\n",
    "        return new_X"
   ]
  },
  {
   "cell_type": "code",
   "execution_count": 71,
   "id": "b2e9326b",
   "metadata": {},
   "outputs": [
    {
     "name": "stdout",
     "output_type": "stream",
     "text": [
      "Index(['tweet_id', 'airline_sentiment', 'airline_sentiment_confidence',\n",
      "       'negativereason', 'negativereason_confidence', 'airline',\n",
      "       'airline_sentiment_gold', 'name', 'negativereason_gold',\n",
      "       'retweet_count', 'text', 'tweet_coord', 'tweet_created',\n",
      "       'tweet_location', 'user_timezone'],\n",
      "      dtype='object')\n"
     ]
    }
   ],
   "source": [
    "columns_to_drop = first5.columns\n",
    "print (columns_to_drop)"
   ]
  },
  {
   "cell_type": "code",
   "execution_count": 72,
   "id": "9fe72ce2",
   "metadata": {},
   "outputs": [
    {
     "name": "stdout",
     "output_type": "stream",
     "text": [
      "Index(['tweet_id', 'airline_sentiment_confidence', 'negativereason',\n",
      "       'negativereason_confidence', 'airline', 'airline_sentiment_gold',\n",
      "       'name', 'negativereason_gold', 'retweet_count', 'tweet_coord',\n",
      "       'tweet_created', 'tweet_location', 'user_timezone'],\n",
      "      dtype='object')\n"
     ]
    }
   ],
   "source": [
    "columns_to_drop = columns_to_drop.delete(1)\n",
    "columns_to_drop = columns_to_drop.delete(-5)\n",
    "print(columns_to_drop)"
   ]
  },
  {
   "cell_type": "code",
   "execution_count": 73,
   "id": "c4293f5d",
   "metadata": {},
   "outputs": [],
   "source": [
    "dropper = ColumnDropper(columns_to_drop)"
   ]
  },
  {
   "cell_type": "code",
   "execution_count": 74,
   "id": "6ea7b83b",
   "metadata": {},
   "outputs": [
    {
     "name": "stdout",
     "output_type": "stream",
     "text": [
      "-- ColumnDropper::fit() --\n",
      "-- ColumnDropper::transform() --\n"
     ]
    }
   ],
   "source": [
    "dropper.fit(first5)\n",
    "first5 = dropper.transform(first5)"
   ]
  },
  {
   "cell_type": "markdown",
   "id": "706517ed",
   "metadata": {},
   "source": [
    "## b. Check the shape of the data."
   ]
  },
  {
   "cell_type": "code",
   "execution_count": 75,
   "id": "9c442e29",
   "metadata": {},
   "outputs": [
    {
     "name": "stdout",
     "output_type": "stream",
     "text": [
      "(5, 2)\n"
     ]
    }
   ],
   "source": [
    "print(first5.shape)"
   ]
  },
  {
   "cell_type": "markdown",
   "id": "9aa00eaf",
   "metadata": {},
   "source": [
    "## c. Print the first 5 rows of data."
   ]
  },
  {
   "cell_type": "code",
   "execution_count": 76,
   "id": "ee553681",
   "metadata": {},
   "outputs": [
    {
     "data": {
      "text/html": [
       "<div>\n",
       "<style scoped>\n",
       "    .dataframe tbody tr th:only-of-type {\n",
       "        vertical-align: middle;\n",
       "    }\n",
       "\n",
       "    .dataframe tbody tr th {\n",
       "        vertical-align: top;\n",
       "    }\n",
       "\n",
       "    .dataframe thead th {\n",
       "        text-align: right;\n",
       "    }\n",
       "</style>\n",
       "<table border=\"1\" class=\"dataframe\">\n",
       "  <thead>\n",
       "    <tr style=\"text-align: right;\">\n",
       "      <th></th>\n",
       "      <th>airline_sentiment</th>\n",
       "      <th>text</th>\n",
       "    </tr>\n",
       "  </thead>\n",
       "  <tbody>\n",
       "    <tr>\n",
       "      <th>0</th>\n",
       "      <td>neutral</td>\n",
       "      <td>@VirginAmerica What @dhepburn said.</td>\n",
       "    </tr>\n",
       "    <tr>\n",
       "      <th>1</th>\n",
       "      <td>positive</td>\n",
       "      <td>@VirginAmerica plus you've added commercials t...</td>\n",
       "    </tr>\n",
       "    <tr>\n",
       "      <th>2</th>\n",
       "      <td>neutral</td>\n",
       "      <td>@VirginAmerica I didn't today... Must mean I n...</td>\n",
       "    </tr>\n",
       "    <tr>\n",
       "      <th>3</th>\n",
       "      <td>negative</td>\n",
       "      <td>@VirginAmerica it's really aggressive to blast...</td>\n",
       "    </tr>\n",
       "    <tr>\n",
       "      <th>4</th>\n",
       "      <td>negative</td>\n",
       "      <td>@VirginAmerica and it's a really big bad thing...</td>\n",
       "    </tr>\n",
       "  </tbody>\n",
       "</table>\n",
       "</div>"
      ],
      "text/plain": [
       "  airline_sentiment                                               text\n",
       "0           neutral                @VirginAmerica What @dhepburn said.\n",
       "1          positive  @VirginAmerica plus you've added commercials t...\n",
       "2           neutral  @VirginAmerica I didn't today... Must mean I n...\n",
       "3          negative  @VirginAmerica it's really aggressive to blast...\n",
       "4          negative  @VirginAmerica and it's a really big bad thing..."
      ]
     },
     "execution_count": 76,
     "metadata": {},
     "output_type": "execute_result"
    }
   ],
   "source": [
    "first5"
   ]
  },
  {
   "cell_type": "markdown",
   "id": "660047b8",
   "metadata": {},
   "source": [
    "# 3. Text pre-processing: Data preparation. \n",
    "## a. Html tag removal.\n",
    "## b. Tokenization.\n",
    "## c. Remove the numbers.\n",
    "## d. Removal of Special Characters and Punctuations.\n",
    "## e. Removal of stopwords\n",
    "## f. Conversion to lowercase.\n",
    "## g. Lemmatize or stemming.\n",
    "## h. Join the words in the list to convert back to text string in the data frame. (So that each row contains the data in text format.)\n",
    "## i. Print the first 5 rows of data after pre-processing.\n"
   ]
  },
  {
   "cell_type": "code",
   "execution_count": 77,
   "id": "afa9a319",
   "metadata": {},
   "outputs": [
    {
     "name": "stderr",
     "output_type": "stream",
     "text": [
      "[nltk_data] Downloading package punkt to\n",
      "[nltk_data]     /Users/olegkulikov/nltk_data...\n",
      "[nltk_data]   Package punkt is already up-to-date!\n"
     ]
    },
    {
     "data": {
      "text/plain": [
       "True"
      ]
     },
     "execution_count": 77,
     "metadata": {},
     "output_type": "execute_result"
    }
   ],
   "source": [
    "import spacy\n",
    "nlp = spacy.load('en', parse=True, tag=True, entity=True)\n",
    "nltk.download('punkt')"
   ]
  },
  {
   "cell_type": "code",
   "execution_count": 78,
   "id": "5a009c4c",
   "metadata": {},
   "outputs": [],
   "source": [
    "class TextPreprocessor(BaseEstimator, TransformerMixin):\n",
    "    \"\"\"\n",
    "    class TextPreprocessor(type, nlp) preprocesses the text in column 'text'.\n",
    "    Preprocessing includes:\n",
    "     a. Html tag removal.\n",
    "     b. Tokenization.\n",
    "     c. Removat of the numbers.\n",
    "     d. Removal of Special Characters and Punctuations.\n",
    "     e. Removal of stopwords\n",
    "     f. Conversion to lowercase.\n",
    "     g. Lemmatization or stemming.\n",
    "    Parameters:\n",
    "    type - tells TextPreprocessor whether lemmatize or stem the text\n",
    "           Values: 'lemma' or 'stem'\n",
    "    nlp  - language model for lemmatization\n",
    "    \"\"\"    \n",
    "    def __init__(self, my_type, nlp):\n",
    "        self.type_ = my_type\n",
    "        self.nlp_ = nlp\n",
    "        self.stemmer_ = nltk.porter.PorterStemmer()\n",
    "        return\n",
    "    \n",
    "    def remove_html(self, text):\n",
    "        soup = BeautifulSoup(text, \"html.parser\")\n",
    "        text_no_html = soup.get_text()\n",
    "        return text_no_html\n",
    "    \n",
    "    ## If particular airline receives mostly positive/negative reviews\n",
    "    ## Airline name itself may become a positive/negative marker\n",
    "    ## revove airline names from the tweets\n",
    "    def remove_airline_reference(self, text):\n",
    "        pattern = r'@[a-zA-Z0-9]+[\\t\\s]+' \n",
    "        new_text = re.sub(pattern, '', text)\n",
    "        return new_text\n",
    "    \n",
    "    def remove_contractions(self, text):\n",
    "        expanded_words = []    \n",
    "        for word in text.split():\n",
    "          # using contractions.fix to expand the shotened words\n",
    "          expanded_words.append(contractions.fix(word)) \n",
    "        return \" \".join(expanded_words)         \n",
    "    \n",
    "    def tokenize(self, text):\n",
    "        tokens = word_tokenize(text)\n",
    "        return tokens\n",
    "        \n",
    "    \n",
    "    def remove_non_ascii(self, words):\n",
    "        new_words = []\n",
    "        for w in words:\n",
    "            w = unicodedata.normalize('NFKD', w).encode('ascii', 'ignore').decode('utf-8','ignore')\n",
    "            new_words.append(w)\n",
    "        return new_words\n",
    "\n",
    "    def to_lower(self, words):\n",
    "        new_words = []\n",
    "        for w in words:\n",
    "            w = w.lower()\n",
    "            new_words.append(w)\n",
    "        return new_words\n",
    "\n",
    "\n",
    "    def remove_punctuations(self, words):\n",
    "        pattern = r'[^a-zA-Z0-9\\s]' \n",
    "        new_words = []\n",
    "        for w in words:\n",
    "            w = re.sub(pattern, '', w)\n",
    "            if len(w) > 0:\n",
    "                new_words.append(w)        \n",
    "        return new_words\n",
    "\n",
    "    def remove_digits(self, words):\n",
    "        pattern = r'[0-9]' \n",
    "        new_words = []\n",
    "        for w in words:\n",
    "            w = re.sub(pattern, '', w)\n",
    "            if len(w) > 0:\n",
    "                new_words.append(w)        \n",
    "        return new_words\n",
    "\n",
    "    def remove_stopwords(self, words):\n",
    "        stopword_list = stopwords.words('english')\n",
    "        stopword_list.remove('not')\n",
    "        new_words = []\n",
    "        for w in words:\n",
    "            if w not in stopword_list:\n",
    "                new_words.append(w)\n",
    "        return new_words\n",
    "\n",
    "\n",
    "    def convert_to_stem(self, words):\n",
    "        new_words = []\n",
    "        ps = nltk.porter.PorterStemmer()\n",
    "        for w in words:\n",
    "            w = ps.stem(w)\n",
    "            new_words.append(w)        \n",
    "        return new_words\n",
    "\n",
    "\n",
    "    def lemmatize(self, words):\n",
    "        global nlp\n",
    "        new_words = []\n",
    "        twit = \" \".join(words)\n",
    "        text = nlp(twit)\n",
    "        for w in words:\n",
    "            #text = nlp(w)\n",
    "            w = ' '.join([word.lemma_ if word.lemma_ != '-PRON-' else word.text for word in text])\n",
    "            new_words.append(w)\n",
    "        return new_words\n",
    "\n",
    "\n",
    "    def preprocess_text(self, text):\n",
    "        new_text  = self.remove_html(text)\n",
    "        #new_text  = self.remove_airline_reference(new_text)\n",
    "        new_text  = self.remove_contractions(new_text)      \n",
    "        words     = self.tokenize(new_text)\n",
    "        words     = self.remove_non_ascii(words)\n",
    "        words     = self.to_lower(words)\n",
    "        words     = self.remove_punctuations(words)\n",
    "        words     = self.remove_digits(words)\n",
    "        words     = self.remove_stopwords(words)\n",
    "        if (self.type_ == 'stem'):\n",
    "            words     = self.convert_to_stem(words)\n",
    "        else:\n",
    "            words     = self.lemmatize(words)\n",
    "        ## if tweet consists of stopwords\n",
    "        ## add something neutral\n",
    "        if len(words) == 0:\n",
    "            words.append(\"ok\")\n",
    "        new_text  = \" \".join(words)\n",
    "        return new_text\n",
    "\n",
    "    def fit(self, X, y=None, **fit_params):\n",
    "        my_print (\"-- TextPreprocessor::fit() -- type: {}\".format(self.type_))\n",
    "        ## do nothing\n",
    "        return self\n",
    "    \n",
    "    def transform(self, X):\n",
    "        my_print (\"-- TextPreprocessor::transform() --\")    \n",
    "        new_X = X.copy()\n",
    "        #self.preprocess_text('abc')\n",
    "        new_X['text'] = new_X['text'].apply(self.preprocess_text)\n",
    "        return new_X\n",
    "\n",
    "    def get_params(self, deep=True):\n",
    "        return {\"my_type\": self.type_,\n",
    "               \"nlp\": self.nlp_}\n",
    "\n",
    "    def set_params(self, **parameters):\n",
    "        for parameter, value in parameters.items():\n",
    "            p = parameter\n",
    "            if parameter == \"my_type\":\n",
    "                p = \"type_\"\n",
    "                self.type_ = value\n",
    "            elif parameter == \"nlp\":\n",
    "                p = \"nlp_\"\n",
    "                self.nlp_ = value\n",
    "            my_print(\"TextPreprocessor setattr {} = {}\".format(p, value))\n",
    "            #setattr(self, p, value)\n",
    "        return self\n",
    "\n",
    "    "
   ]
  },
  {
   "cell_type": "code",
   "execution_count": 79,
   "id": "022e88a3",
   "metadata": {},
   "outputs": [
    {
     "name": "stdout",
     "output_type": "stream",
     "text": [
      "-- TextPreprocessor::fit() -- type: stem\n",
      "-- TextPreprocessor::transform() --\n"
     ]
    },
    {
     "data": {
      "text/html": [
       "<div>\n",
       "<style scoped>\n",
       "    .dataframe tbody tr th:only-of-type {\n",
       "        vertical-align: middle;\n",
       "    }\n",
       "\n",
       "    .dataframe tbody tr th {\n",
       "        vertical-align: top;\n",
       "    }\n",
       "\n",
       "    .dataframe thead th {\n",
       "        text-align: right;\n",
       "    }\n",
       "</style>\n",
       "<table border=\"1\" class=\"dataframe\">\n",
       "  <thead>\n",
       "    <tr style=\"text-align: right;\">\n",
       "      <th></th>\n",
       "      <th>airline_sentiment</th>\n",
       "      <th>text</th>\n",
       "    </tr>\n",
       "  </thead>\n",
       "  <tbody>\n",
       "    <tr>\n",
       "      <th>0</th>\n",
       "      <td>neutral</td>\n",
       "      <td>virginamerica dhepburn said</td>\n",
       "    </tr>\n",
       "    <tr>\n",
       "      <th>1</th>\n",
       "      <td>positive</td>\n",
       "      <td>virginamerica plu ad commerci experi tacki</td>\n",
       "    </tr>\n",
       "    <tr>\n",
       "      <th>2</th>\n",
       "      <td>neutral</td>\n",
       "      <td>virginamerica not today must mean need take an...</td>\n",
       "    </tr>\n",
       "    <tr>\n",
       "      <th>3</th>\n",
       "      <td>negative</td>\n",
       "      <td>virginamerica realli aggress blast obnoxi ente...</td>\n",
       "    </tr>\n",
       "    <tr>\n",
       "      <th>4</th>\n",
       "      <td>negative</td>\n",
       "      <td>virginamerica realli big bad thing</td>\n",
       "    </tr>\n",
       "  </tbody>\n",
       "</table>\n",
       "</div>"
      ],
      "text/plain": [
       "  airline_sentiment                                               text\n",
       "0           neutral                        virginamerica dhepburn said\n",
       "1          positive         virginamerica plu ad commerci experi tacki\n",
       "2           neutral  virginamerica not today must mean need take an...\n",
       "3          negative  virginamerica realli aggress blast obnoxi ente...\n",
       "4          negative                 virginamerica realli big bad thing"
      ]
     },
     "execution_count": 79,
     "metadata": {},
     "output_type": "execute_result"
    }
   ],
   "source": [
    "text_prepocessor = TextPreprocessor('stem',nlp)\n",
    "text_prepocessor.fit(first5)\n",
    "first5_stem = text_prepocessor.transform(first5)\n",
    "first5_stem"
   ]
  },
  {
   "cell_type": "code",
   "execution_count": 80,
   "id": "90aff238",
   "metadata": {},
   "outputs": [
    {
     "name": "stdout",
     "output_type": "stream",
     "text": [
      "-- TextPreprocessor::fit() -- type: lemma\n",
      "-- TextPreprocessor::transform() --\n"
     ]
    },
    {
     "data": {
      "text/html": [
       "<div>\n",
       "<style scoped>\n",
       "    .dataframe tbody tr th:only-of-type {\n",
       "        vertical-align: middle;\n",
       "    }\n",
       "\n",
       "    .dataframe tbody tr th {\n",
       "        vertical-align: top;\n",
       "    }\n",
       "\n",
       "    .dataframe thead th {\n",
       "        text-align: right;\n",
       "    }\n",
       "</style>\n",
       "<table border=\"1\" class=\"dataframe\">\n",
       "  <thead>\n",
       "    <tr style=\"text-align: right;\">\n",
       "      <th></th>\n",
       "      <th>airline_sentiment</th>\n",
       "      <th>text</th>\n",
       "    </tr>\n",
       "  </thead>\n",
       "  <tbody>\n",
       "    <tr>\n",
       "      <th>0</th>\n",
       "      <td>neutral</td>\n",
       "      <td>virginamerica dhepburn say virginamerica dhepb...</td>\n",
       "    </tr>\n",
       "    <tr>\n",
       "      <th>1</th>\n",
       "      <td>positive</td>\n",
       "      <td>virginamerica plus add commercial experience t...</td>\n",
       "    </tr>\n",
       "    <tr>\n",
       "      <th>2</th>\n",
       "      <td>neutral</td>\n",
       "      <td>virginamerica not today must mean need take an...</td>\n",
       "    </tr>\n",
       "    <tr>\n",
       "      <th>3</th>\n",
       "      <td>negative</td>\n",
       "      <td>virginamerica really aggressive blast obnoxiou...</td>\n",
       "    </tr>\n",
       "    <tr>\n",
       "      <th>4</th>\n",
       "      <td>negative</td>\n",
       "      <td>virginamerica really big bad thing virginameri...</td>\n",
       "    </tr>\n",
       "  </tbody>\n",
       "</table>\n",
       "</div>"
      ],
      "text/plain": [
       "  airline_sentiment                                               text\n",
       "0           neutral  virginamerica dhepburn say virginamerica dhepb...\n",
       "1          positive  virginamerica plus add commercial experience t...\n",
       "2           neutral  virginamerica not today must mean need take an...\n",
       "3          negative  virginamerica really aggressive blast obnoxiou...\n",
       "4          negative  virginamerica really big bad thing virginameri..."
      ]
     },
     "execution_count": 80,
     "metadata": {},
     "output_type": "execute_result"
    }
   ],
   "source": [
    "text_prepocessor = TextPreprocessor('lemma',nlp)\n",
    "text_prepocessor.fit(first5)\n",
    "first5_lemma = text_prepocessor.transform(first5)\n",
    "first5_lemma"
   ]
  },
  {
   "cell_type": "markdown",
   "id": "71eeb426",
   "metadata": {},
   "source": [
    "# 4. Vectorization: \n",
    "## a. Use CountVectorizer.\n",
    "## b. Use TfidfVectorizer."
   ]
  },
  {
   "cell_type": "code",
   "execution_count": 81,
   "id": "52370d55",
   "metadata": {},
   "outputs": [],
   "source": [
    "class TextVectorzer(BaseEstimator, TransformerMixin):\n",
    "    \"\"\"\n",
    "    class TextVectorzer(type) Vectorizes the text in column 'text'.\n",
    "    Parameters:\n",
    "    type - tells TextVectorzer whether to use Count or TF/IDF vectorization\n",
    "           Values: 'count' or 'tfidf'\n",
    "    max_features - maximun number of features\n",
    "    ngram_range  - ngram range\n",
    "    \"\"\"    \n",
    "    vectorizer_ = None\n",
    "    def __init__(self, my_type, max_features, ngram_range):\n",
    "        self.type_ = my_type\n",
    "        self.max_features_ = max_features\n",
    "        self.ngram_range_ = ngram_range\n",
    "        return\n",
    "    \n",
    "\n",
    "    def fit(self, X, y=None, **fit_params):\n",
    "        my_print (\"-- TextVectorzer::fit() -- type: {}, max_features: {}, ngram_range: {}\".format( \n",
    "                  self.type_, self.max_features_, self.ngram_range_))\n",
    "        if (self.type_ == \"count\"):\n",
    "            self.vectorizer_ = CountVectorizer(max_features=self.max_features_, ngram_range=self.ngram_range_)\n",
    "        else:\n",
    "            self.vectorizer_ = TfidfVectorizer(max_features=self.max_features_, ngram_range=self.ngram_range_)\n",
    "        self.vectorizer_.fit(X.text)\n",
    "        return self\n",
    "    \n",
    "    def transform(self, X):\n",
    "        my_print (\"-- TextVectorzer::transform() --\")\n",
    "        features = self.vectorizer_.transform(X['text'])\n",
    "        feature_df = pd.DataFrame(features.toarray(), columns=self.vectorizer_.get_feature_names())\n",
    "        new_X = feature_df.copy()\n",
    "        if 'airline_sentiment' in X.columns:\n",
    "            new_X['airline_sentiment'] = X['airline_sentiment'].to_numpy()\n",
    "        new_X['text'] = X['text'].to_numpy()        \n",
    "        return new_X\n",
    "    \n",
    "    def get_params(self, deep=True):\n",
    "        return {\"my_type\": self.type_,\n",
    "               \"max_features\": self.max_features_,\n",
    "               \"ngram_range\": self.ngram_range_}\n",
    "\n",
    "    def set_params(self, **parameters):\n",
    "        for parameter, value in parameters.items():\n",
    "            if parameter == \"my_type\":\n",
    "                p = \"type_\"\n",
    "                self.type_ = value\n",
    "            elif parameter == \"max_features\":\n",
    "                p = \"max_features_\"\n",
    "                self.max_features_ = value\n",
    "            elif parameter == \"ngram_range\":\n",
    "                p = \"ngram_range_\"\n",
    "                self.ngram_range_ = value\n",
    "            my_print(\"TextVectorzer setattr {} = {}\".format(p, value))    \n",
    "            #setattr(self, parameter, value)\n",
    "        return self\n",
    "    "
   ]
  },
  {
   "cell_type": "code",
   "execution_count": 82,
   "id": "9ea0692f",
   "metadata": {},
   "outputs": [
    {
     "name": "stdout",
     "output_type": "stream",
     "text": [
      "-- TextVectorzer::fit() -- type: count, max_features: 10, ngram_range: (1, 1)\n",
      "-- TextVectorzer::transform() --\n",
      "   aggressive  blast  entertainment  face  guest  little  obnoxious  really  \\\n",
      "0           0      0              0     0      0       0          0       0   \n",
      "1           0      0              0     0      0       0          0       0   \n",
      "2           0      0              0     0      0       0          0       0   \n",
      "3          10     10             10    10     10      10         10      10   \n",
      "4           0      0              0     0      0       0          0       5   \n",
      "\n",
      "   recourse  virginamerica airline_sentiment  \\\n",
      "0         0              3           neutral   \n",
      "1         0              6          positive   \n",
      "2         0              9           neutral   \n",
      "3        10             10          negative   \n",
      "4         0              5          negative   \n",
      "\n",
      "                                                text  \n",
      "0  virginamerica dhepburn say virginamerica dhepb...  \n",
      "1  virginamerica plus add commercial experience t...  \n",
      "2  virginamerica not today must mean need take an...  \n",
      "3  virginamerica really aggressive blast obnoxiou...  \n",
      "4  virginamerica really big bad thing virginameri...  \n"
     ]
    }
   ],
   "source": [
    "vectorizer = TextVectorzer('count', 10, (1,1))\n",
    "vectorizer.fit(first5_lemma)\n",
    "first5_count = vectorizer.transform(first5_lemma)\n",
    "print(first5_count)"
   ]
  },
  {
   "cell_type": "code",
   "execution_count": 83,
   "id": "c1f5eed5",
   "metadata": {},
   "outputs": [
    {
     "name": "stdout",
     "output_type": "stream",
     "text": [
      "-- TextVectorzer::fit() -- type: tfidf, max_features: 10, ngram_range: (1, 1)\n",
      "-- TextVectorzer::transform() --\n",
      "   aggressive     blast  entertainment      face     guest    little  \\\n",
      "0    0.000000  0.000000       0.000000  0.000000  0.000000  0.000000   \n",
      "1    0.000000  0.000000       0.000000  0.000000  0.000000  0.000000   \n",
      "2    0.000000  0.000000       0.000000  0.000000  0.000000  0.000000   \n",
      "3    0.335616  0.335616       0.335616  0.335616  0.335616  0.335616   \n",
      "4    0.000000  0.000000       0.000000  0.000000  0.000000  0.000000   \n",
      "\n",
      "   obnoxious    really  recourse  virginamerica airline_sentiment  \\\n",
      "0   0.000000  0.000000  0.000000       1.000000           neutral   \n",
      "1   0.000000  0.000000  0.000000       1.000000          positive   \n",
      "2   0.000000  0.000000  0.000000       1.000000           neutral   \n",
      "3   0.335616  0.270773  0.335616       0.159923          negative   \n",
      "4   0.000000  0.861037  0.000000       0.508542          negative   \n",
      "\n",
      "                                                text  \n",
      "0  virginamerica dhepburn say virginamerica dhepb...  \n",
      "1  virginamerica plus add commercial experience t...  \n",
      "2  virginamerica not today must mean need take an...  \n",
      "3  virginamerica really aggressive blast obnoxiou...  \n",
      "4  virginamerica really big bad thing virginameri...  \n"
     ]
    }
   ],
   "source": [
    "vectorizer = TextVectorzer('tfidf', 10, (1,1))\n",
    "vectorizer.fit(first5_lemma)\n",
    "first5_count = vectorizer.transform(first5_lemma)\n",
    "print(first5_count)"
   ]
  },
  {
   "cell_type": "markdown",
   "id": "e0f96273",
   "metadata": {},
   "source": [
    "## Test classes in a pipeline"
   ]
  },
  {
   "cell_type": "code",
   "execution_count": 84,
   "id": "8e64b26b",
   "metadata": {},
   "outputs": [],
   "source": [
    "from sklearn.pipeline import Pipeline\n",
    "from sklearn.pipeline import make_pipeline\n",
    "from sklearn.model_selection import train_test_split"
   ]
  },
  {
   "cell_type": "code",
   "execution_count": 85,
   "id": "9816a9d5",
   "metadata": {},
   "outputs": [
    {
     "name": "stdout",
     "output_type": "stream",
     "text": [
      "-- ColumnDropper::fit() --\n",
      "-- ColumnDropper::transform() --\n",
      "-- TextPreprocessor::fit() -- type: lemma\n",
      "-- TextPreprocessor::transform() --\n",
      "-- TextVectorzer::fit() -- type: tfidf, max_features: 8, ngram_range: (1, 1)\n",
      "-- TextVectorzer::transform() --\n",
      "-- ColumnDropper::fit() --\n",
      "-- ColumnDropper::transform() --\n",
      "-- TextPreprocessor::transform() --\n",
      "-- TextVectorzer::transform() --\n",
      "-- ColumnDropper::transform() --\n",
      "        eat    entire    flight      food      meal       not     serve  \\\n",
      "0  0.000000  0.000000  0.707107  0.000000  0.000000  0.707107  0.000000   \n",
      "1  0.000000  0.000000  0.000000  0.000000  0.000000  0.000000  0.000000   \n",
      "2  0.000000  0.000000  0.000000  0.000000  0.000000  0.000000  0.000000   \n",
      "3  0.398352  0.398352  0.321388  0.398352  0.398352  0.321388  0.398352   \n",
      "4  0.000000  0.000000  0.000000  0.000000  0.000000  0.000000  0.000000   \n",
      "\n",
      "   southwestair  \n",
      "0           0.0  \n",
      "1           1.0  \n",
      "2           1.0  \n",
      "3           0.0  \n",
      "4           0.0  \n"
     ]
    }
   ],
   "source": [
    "dropper = ColumnDropper(columns_to_drop)\n",
    "text_prepocessor = TextPreprocessor(my_type='lemma', nlp='nlp')\n",
    "vectorizer = TextVectorzer('tfidf', 8, (1,1))\n",
    "dropper2 = ColumnDropper(['text'])\n",
    "pipeline = make_pipeline(dropper, text_prepocessor, vectorizer, dropper2)\n",
    "sample_data = orig_data.sample(5).drop(columns='airline_sentiment')\n",
    "pipeline.fit(sample_data)\n",
    "transformed_sample_data = pipeline.transform(sample_data)\n",
    "print(transformed_sample_data)"
   ]
  },
  {
   "cell_type": "markdown",
   "id": "4d08d0e2",
   "metadata": {},
   "source": [
    "## TODO: count words and find an optimal number of features"
   ]
  },
  {
   "cell_type": "markdown",
   "id": "56ee69b4",
   "metadata": {},
   "source": [
    "# 5. Fit and evaluate the model using both types of vectorization. \n"
   ]
  },
  {
   "cell_type": "markdown",
   "id": "a3b9ca27",
   "metadata": {},
   "source": [
    "## Split data into training and test sets"
   ]
  },
  {
   "cell_type": "code",
   "execution_count": 86,
   "id": "60683209",
   "metadata": {},
   "outputs": [],
   "source": [
    "X = orig_data.drop(columns='airline_sentiment')\n",
    "y = orig_data['airline_sentiment']\n",
    "\n",
    "X_train, X_test, y_train, y_test = train_test_split(X, y, random_state=1, test_size=0.2, stratify=y)"
   ]
  },
  {
   "cell_type": "code",
   "execution_count": 87,
   "id": "0780ca88",
   "metadata": {},
   "outputs": [],
   "source": [
    "from sklearn import metrics as metrics"
   ]
  },
  {
   "cell_type": "code",
   "execution_count": 88,
   "id": "3fc910ec",
   "metadata": {},
   "outputs": [],
   "source": [
    "def get_metrics_score(model, X_train, y_train, pred_train, X_test, y_test, pred_test, flag=True):\n",
    "    '''\n",
    "    model : classifier to predict values of X\n",
    "\n",
    "    '''\n",
    "    # defining an empty list to store train and test results\n",
    "    score_list=[] \n",
    "    average = 'macro'\n",
    "    \n",
    "    #Predicting on train and tests\n",
    "    #pred_train = model.predict(X_train)\n",
    "    #pred_test = model.predict(X_test)\n",
    "    \n",
    "    #Accuracy of the model\n",
    "    train_acc = metrics.accuracy_score(y_train, pred_train)\n",
    "    test_acc  = metrics.accuracy_score(y_test,  pred_test)\n",
    "    \n",
    "    #Recall of the model\n",
    "    train_recall = metrics.recall_score(y_train,pred_train,average=average)\n",
    "    test_recall = metrics.recall_score(y_test,pred_test,average=average)\n",
    "    \n",
    "    #Precision of the model\n",
    "    train_precision = metrics.precision_score(y_train,pred_train,average=average)\n",
    "    test_precision = metrics.precision_score(y_test,pred_test,average=average)\n",
    "    \n",
    "    train_f1 = metrics.f1_score(y_train,pred_train,average=average)\n",
    "    test_f1 = metrics.f1_score(y_test,pred_test,average=average)\n",
    "    \n",
    "    train_cm = metrics.confusion_matrix(y_train, pred_train)\n",
    "    test_cm  = metrics.confusion_matrix(y_test, pred_test)\n",
    "    \n",
    "    score_list.extend((train_acc,test_acc,train_recall,test_recall,train_precision,\\\n",
    "                       test_precision, train_f1, test_f1, train_cm, test_cm))\n",
    "        \n",
    "    # If the flag is set to True then only the following print statements will be dispayed. The default value is set to True.\n",
    "    if flag == True: \n",
    "        print(\"Accuracy on training set : \",train_acc)\n",
    "        print(\"Accuracy on test set : \",test_acc)\n",
    "        print(\"Recall on training set : \",train_recall)\n",
    "        print(\"Recall on test set : \",test_recall)\n",
    "        print(\"Precision on training set : \",train_precision)\n",
    "        print(\"Precision on test set : \",test_precision)\n",
    "        print(\"F1 on training set : \",train_f1)\n",
    "        print(\"F1 on test set : \",test_f1)\n",
    "        print(\"Confusion matrix on train set:\\n\", train_cm)\n",
    "        print(\"Confusion matrix on test set:\\n\", test_cm)\n",
    "        print(\"Classification report on Test set:\\n\", metrics.classification_report(y_test, pred_test, \\\n",
    "                target_names=['negative', 'neutral', 'positive']))\n",
    "    \n",
    "    return score_list # returning the list with train and test scores"
   ]
  },
  {
   "cell_type": "code",
   "execution_count": 89,
   "id": "e99c6d34",
   "metadata": {},
   "outputs": [],
   "source": [
    "def make_confusion_matrix(cm,labels=['negative', 'neutral', 'positive']):\n",
    "    '''\n",
    "    model : classifier to predict values of X\n",
    "    y_actual : ground truth  \n",
    "    \n",
    "    '''\n",
    "    df_cm = pd.DataFrame(cm, index = [i for i in [\"Actual - Negative\",\"Actual - Neutral\", \"Actual - Positive\"]],\n",
    "                  columns = [i for i in [\"Predicted - Negative\",\"Predicted - Neutral\", \"Predicted - Positive\"]])\n",
    "    group_counts = [\"{0:0.0f}\".format(value) for value in\n",
    "                cm.flatten()]\n",
    "    group_percentages = [\"{0:.2%}\".format(value) for value in\n",
    "                         cm.flatten()/np.sum(cm)]\n",
    "    labels = [f\"{v1}\\n{v2}\" for v1, v2 in\n",
    "              zip(group_counts,group_percentages)]\n",
    "    labels = np.asarray(labels).reshape(3,3)\n",
    "    plt.figure(figsize = (10,7))\n",
    "    sns.heatmap(df_cm, annot=labels,fmt='')\n",
    "    plt.ylabel('Actual label')\n",
    "    plt.xlabel('Predicted label')\n",
    "    plt.show()"
   ]
  },
  {
   "cell_type": "markdown",
   "id": "c9d4b9df",
   "metadata": {},
   "source": [
    "## Build random forest model"
   ]
  },
  {
   "cell_type": "code",
   "execution_count": 90,
   "id": "c6aa1bb8",
   "metadata": {},
   "outputs": [],
   "source": [
    "from sklearn.ensemble import RandomForestClassifier\n"
   ]
  },
  {
   "cell_type": "code",
   "execution_count": 91,
   "id": "592fafed",
   "metadata": {},
   "outputs": [],
   "source": [
    "import time"
   ]
  },
  {
   "cell_type": "code",
   "execution_count": 92,
   "id": "504cb737",
   "metadata": {},
   "outputs": [],
   "source": [
    "debug = False"
   ]
  },
  {
   "cell_type": "code",
   "execution_count": 93,
   "id": "0e07934d",
   "metadata": {},
   "outputs": [],
   "source": [
    "dropper = ColumnDropper(columns_to_drop)\n",
    "text_prepocessor = TextPreprocessor('stem', nlp)\n",
    "vectorizer = TextVectorzer('count', 1000, (1,2))\n",
    "dropper2 = ColumnDropper(['text'])\n",
    "forest = RandomForestClassifier(n_estimators = 200,n_jobs=16, class_weight='balanced', random_state=1) \n",
    "model = make_pipeline(dropper, text_prepocessor, vectorizer, dropper2, forest)"
   ]
  },
  {
   "cell_type": "code",
   "execution_count": 94,
   "id": "0323857c",
   "metadata": {},
   "outputs": [
    {
     "name": "stdout",
     "output_type": "stream",
     "text": [
      "Accuracy on training set :  0.9889856557377049\n",
      "Accuracy on test set :  0.7636612021857924\n",
      "Recall on training set :  0.9871308669308076\n",
      "Recall on test set :  0.6717890633158271\n",
      "Precision on training set :  0.9806727707006369\n",
      "Precision on test set :  0.6974350805446843\n",
      "F1 on training set :  0.9838627168982707\n",
      "F1 on test set :  0.6826233029962062\n",
      "Confusion matrix on train set:\n",
      " [[7280   50   12]\n",
      " [   0 2437   42]\n",
      " [   0   25 1866]]\n",
      "Confusion matrix on test set:\n",
      " [[1631  140   65]\n",
      " [ 232  306   82]\n",
      " [ 102   71  299]]\n",
      "Classification report on Test set:\n",
      "               precision    recall  f1-score   support\n",
      "\n",
      "    negative       0.83      0.89      0.86      1836\n",
      "     neutral       0.59      0.49      0.54       620\n",
      "    positive       0.67      0.63      0.65       472\n",
      "\n",
      "    accuracy                           0.76      2928\n",
      "   macro avg       0.70      0.67      0.68      2928\n",
      "weighted avg       0.75      0.76      0.76      2928\n",
      "\n",
      "Elapsed time 19 seconds\n"
     ]
    }
   ],
   "source": [
    "start = time.time()\n",
    "\n",
    "model.fit(X_train, y_train)\n",
    "\n",
    "pred_train = model.predict(X_train)\n",
    "pred_test = model.predict(X_test)\n",
    "\n",
    "rf_score = get_metrics_score(model, X_train, y_train, pred_train, X_test,y_test, pred_test)\n",
    "finish = time.time()\n",
    "print (\"Elapsed time {} seconds\".format(int(finish-start)))"
   ]
  },
  {
   "cell_type": "code",
   "execution_count": 95,
   "id": "2762ef47",
   "metadata": {},
   "outputs": [
    {
     "data": {
      "image/png": "[encoded data removed]",
      "text/plain": [
       "<Figure size 720x504 with 2 Axes>"
      ]
     },
     "metadata": {
      "needs_background": "light"
     },
     "output_type": "display_data"
    }
   ],
   "source": [
    "make_confusion_matrix(rf_score[-1])"
   ]
  },
  {
   "cell_type": "code",
   "execution_count": 96,
   "id": "42b73336",
   "metadata": {},
   "outputs": [],
   "source": [
    "dropper = ColumnDropper(columns_to_drop)\n",
    "text_prepocessor = TextPreprocessor('lemma', nlp)\n",
    "vectorizer = TextVectorzer('tfidf', 1000, (1,2))\n",
    "dropper2 = ColumnDropper(['text'])\n",
    "forest = RandomForestClassifier(n_estimators = 200,n_jobs=16, class_weight='balanced', random_state=1) \n",
    "model2 = make_pipeline(dropper, text_prepocessor, vectorizer, dropper2, forest)"
   ]
  },
  {
   "cell_type": "code",
   "execution_count": 97,
   "id": "2054c8c4",
   "metadata": {},
   "outputs": [
    {
     "name": "stdout",
     "output_type": "stream",
     "text": [
      "Accuracy on training set :  0.987363387978142\n",
      "Accuracy on test set :  0.7691256830601093\n",
      "Recall on training set :  0.9853667498716892\n",
      "Recall on test set :  0.6624013959713849\n",
      "Precision on training set :  0.9774044457561106\n",
      "Precision on test set :  0.710471623755549\n",
      "F1 on training set :  0.9813073561485887\n",
      "F1 on test set :  0.6816321721735298\n",
      "Confusion matrix on train set:\n",
      " [[7273   49   20]\n",
      " [   1 2421   57]\n",
      " [   0   21 1870]]\n",
      "Confusion matrix on test set:\n",
      " [[1673  112   51]\n",
      " [ 252  298   70]\n",
      " [ 114   77  281]]\n",
      "Classification report on Test set:\n",
      "               precision    recall  f1-score   support\n",
      "\n",
      "    negative       0.82      0.91      0.86      1836\n",
      "     neutral       0.61      0.48      0.54       620\n",
      "    positive       0.70      0.60      0.64       472\n",
      "\n",
      "    accuracy                           0.77      2928\n",
      "   macro avg       0.71      0.66      0.68      2928\n",
      "weighted avg       0.76      0.77      0.76      2928\n",
      "\n",
      "Elapsed time 132 seconds\n"
     ]
    }
   ],
   "source": [
    "start = time.time()\n",
    "\n",
    "model2.fit(X_train, y_train)\n",
    "\n",
    "pred_train2 = model2.predict(X_train)\n",
    "pred_test2 = model2.predict(X_test)\n",
    "\n",
    "rf_score2 = get_metrics_score(model2, X_train, y_train, pred_train2, X_test,y_test, pred_test2)\n",
    "\n",
    "finish = time.time()\n",
    "print (\"Elapsed time {} seconds\".format(int(finish-start)))\n"
   ]
  },
  {
   "cell_type": "code",
   "execution_count": 98,
   "id": "c2a7f8d5",
   "metadata": {},
   "outputs": [
    {
     "data": {
      "image/png": "[encoded data removed]",
      "text/plain": [
       "<Figure size 720x504 with 2 Axes>"
      ]
     },
     "metadata": {
      "needs_background": "light"
     },
     "output_type": "display_data"
    }
   ],
   "source": [
    "make_confusion_matrix(rf_score2[-1])"
   ]
  },
  {
   "cell_type": "markdown",
   "id": "0dbfde5b",
   "metadata": {},
   "source": [
    "## Random search on Random forest models"
   ]
  },
  {
   "cell_type": "code",
   "execution_count": 128,
   "id": "f8e44563",
   "metadata": {},
   "outputs": [],
   "source": [
    "from sklearn.model_selection import RandomizedSearchCV\n",
    "import scipy.stats as stats"
   ]
  },
  {
   "cell_type": "code",
   "execution_count": 129,
   "id": "deaad8c4",
   "metadata": {},
   "outputs": [],
   "source": [
    "n_iter = 10\n",
    "n_jobs = 4"
   ]
  },
  {
   "cell_type": "code",
   "execution_count": 130,
   "id": "3693962a",
   "metadata": {},
   "outputs": [],
   "source": [
    "#my_type, max_features, ngram_range\n",
    "rf_param_grid = {\\\n",
    "                 'textpreprocessor__my_type' : ['stem','lemma'], \n",
    "                 'textpreprocessor__nlp' : [nlp],\n",
    "                 'textvectorzer__my_type' : ['count', 'tfidf'],\n",
    "                 'textvectorzer__max_features' : stats.randint(500,10000),\n",
    "                 'textvectorzer__ngram_range' : [(1,2), (1,3), (2,3), (2,2)],                   \n",
    "                 'randomforestclassifier__class_weight':['balanced', None],\n",
    "                 'randomforestclassifier__n_estimators': stats.randint(50,200),\n",
    "                 'randomforestclassifier__max_features' : stats.uniform(0.6,0.4),\n",
    "                 'randomforestclassifier__max_samples' : stats.uniform(0.6,0.4),\n",
    "                 'randomforestclassifier__max_depth' : stats.randint(5,15),\n",
    "                 'randomforestclassifier__n_jobs' : [16],               \n",
    "                }\n"
   ]
  },
  {
   "cell_type": "code",
   "execution_count": 131,
   "id": "68eab1a0",
   "metadata": {},
   "outputs": [],
   "source": [
    "from sklearn.metrics import make_scorer\n",
    "\n",
    "#scorer = make_scorer(metrics.recall_score, average='macro')\n",
    "#\n",
    "#grid = RandomizedSearchCV(model , param_distributions=rf_param_grid, cv = 4, n_jobs=n_jobs, n_iter=n_iter,\\\n",
    "#                    scoring=scorer, random_state=1)\n",
    "#\n",
    "start = time.time()\n",
    "#result= grid.fit( X_train, y_train) \n",
    "\n",
    "#rf_rand_model = grid.best_estimator_"
   ]
  },
  {
   "cell_type": "markdown",
   "id": "185e66e6",
   "metadata": {},
   "source": [
    "Randomized searchtake about 7 hours to complete. So we commented out the search process and reuse pre-calculated result in the cell below:"
   ]
  },
  {
   "cell_type": "code",
   "execution_count": 132,
   "id": "4353f41f",
   "metadata": {},
   "outputs": [
    {
     "data": {
      "text/plain": [
       "Pipeline(steps=[('columndropper-1',\n",
       "                 ColumnDropper(columns=Index(['tweet_id', 'airline_sentiment_confidence', 'negativereason',\n",
       "       'negativereason_confidence', 'airline', 'airline_sentiment_gold',\n",
       "       'name', 'negativereason_gold', 'retweet_count', 'tweet_coord',\n",
       "       'tweet_created', 'tweet_location', 'user_timezone'],\n",
       "      dtype='object'))),\n",
       "                ('textpreprocessor',\n",
       "                 TextPreprocessor(...\n",
       "                                  nlp=<spacy.lang.en.English object at 0x7fe69bb6dc70>)),\n",
       "                ('textvectorzer',\n",
       "                 TextVectorzer(max_features=5506, my_type='tfidf',\n",
       "                               ngram_range=(1, 2))),\n",
       "                ('columndropper-2', ColumnDropper(columns=['text'])),\n",
       "                ('randomforestclassifier',\n",
       "                 RandomForestClassifier(class_weight='balanced', max_depth=14,\n",
       "                                        max_features=0.8205299764791811,\n",
       "                                        max_samples=0.6280325984130516,\n",
       "                                        n_estimators=75, n_jobs=16,\n",
       "                                        random_state=1))])"
      ]
     },
     "execution_count": 132,
     "metadata": {},
     "output_type": "execute_result"
    }
   ],
   "source": [
    "#Results of random search:\n",
    "rf = RandomForestClassifier(class_weight='balanced', max_depth=14,\n",
    "                       max_features=0.8205299764791811,\n",
    "                       max_samples=0.6280325984130516, n_estimators=75,\n",
    "                       n_jobs=16, random_state=1)\n",
    "tv = TextVectorzer(max_features=5506, my_type='tfidf', ngram_range=(1, 2)) \n",
    "tp = TextPreprocessor(my_type='lemma',\n",
    "                 nlp=nlp)\n",
    "rf_rand_model = make_pipeline(dropper, tp, tv, dropper2, rf)\n",
    "\n",
    "\n",
    "\n",
    "rf_rand_model.fit(X_train, y_train)"
   ]
  },
  {
   "cell_type": "code",
   "execution_count": 133,
   "id": "0bf577d3",
   "metadata": {},
   "outputs": [
    {
     "name": "stdout",
     "output_type": "stream",
     "text": [
      "Accuracy on training set :  0.6804132513661202\n",
      "Accuracy on test set :  0.6502732240437158\n",
      "Recall on training set :  0.6914543783865034\n",
      "Recall on test set :  0.6515643729901495\n",
      "Precision on training set :  0.6778640456915395\n",
      "Precision on test set :  0.636348014788875\n",
      "F1 on training set :  0.6579801758207066\n",
      "F1 on test set :  0.6214431487082471\n",
      "Confusion matrix on train set:\n",
      " [[4830 2210  302]\n",
      " [ 360 1941  178]\n",
      " [ 130  563 1198]]\n",
      "Confusion matrix on test set:\n",
      " [[1178  560   98]\n",
      " [ 120  445   55]\n",
      " [  52  139  281]]\n",
      "Classification report on Test set:\n",
      "               precision    recall  f1-score   support\n",
      "\n",
      "    negative       0.87      0.64      0.74      1836\n",
      "     neutral       0.39      0.72      0.50       620\n",
      "    positive       0.65      0.60      0.62       472\n",
      "\n",
      "    accuracy                           0.65      2928\n",
      "   macro avg       0.64      0.65      0.62      2928\n",
      "weighted avg       0.73      0.65      0.67      2928\n",
      "\n",
      "Elapsed time 151 seconds\n"
     ]
    }
   ],
   "source": [
    "\n",
    "pred_train_rand_rf = rf_rand_model.predict(X_train)\n",
    "pred_test_rand_rf = rf_rand_model.predict(X_test)\n",
    "\n",
    "rf_rand_score = get_metrics_score(rf_rand_model, X_train, y_train, pred_train_rand_rf, X_test,y_test, pred_test_rand_rf)\n",
    "\n",
    "finish = time.time()\n",
    "print (\"Elapsed time {} seconds\".format(int(finish-start)))"
   ]
  },
  {
   "cell_type": "code",
   "execution_count": 134,
   "id": "43014771",
   "metadata": {},
   "outputs": [
    {
     "name": "stdout",
     "output_type": "stream",
     "text": [
      "RandomForestClassifier(class_weight='balanced', max_depth=14,\n",
      "                       max_features=0.8205299764791811,\n",
      "                       max_samples=0.6280325984130516, n_estimators=75,\n",
      "                       n_jobs=16, random_state=1) \n",
      " TextVectorzer(max_features=5506, my_type='tfidf', ngram_range=(1, 2)) \n",
      " TextPreprocessor(my_type='lemma',\n",
      "                 nlp=<spacy.lang.en.English object at 0x7fe69bb6dc70>)\n"
     ]
    }
   ],
   "source": [
    "print(rf_rand_model[-1], \"\\n\", rf_rand_model[-3], \"\\n\", rf_rand_model[-4])"
   ]
  },
  {
   "cell_type": "code",
   "execution_count": 135,
   "id": "ed34f3a8",
   "metadata": {},
   "outputs": [
    {
     "data": {
      "image/png": "[encoded data removed]",
      "text/plain": [
       "<Figure size 720x504 with 2 Axes>"
      ]
     },
     "metadata": {
      "needs_background": "light"
     },
     "output_type": "display_data"
    }
   ],
   "source": [
    "make_confusion_matrix(rf_rand_score[-1])"
   ]
  },
  {
   "cell_type": "markdown",
   "id": "f5917364",
   "metadata": {},
   "source": [
    "# 6. Summarize your understanding of the application of Various Pre-processing and Vectorization and performance of your model on this dataset. \n"
   ]
  },
  {
   "cell_type": "code",
   "execution_count": 136,
   "id": "51e609bb",
   "metadata": {},
   "outputs": [],
   "source": [
    "result_df = X_test.copy()"
   ]
  },
  {
   "cell_type": "code",
   "execution_count": 137,
   "id": "cb83de99",
   "metadata": {},
   "outputs": [],
   "source": [
    "result_df['Y'] = y_test\n",
    "result_df['predicted_rf'] = pred_test\n",
    "result_df['correct'] = (result_df['Y'] == result_df['predicted_rf'])"
   ]
  },
  {
   "cell_type": "code",
   "execution_count": 138,
   "id": "e8ace680",
   "metadata": {},
   "outputs": [
    {
     "data": {
      "text/plain": [
       "tweet_id                           0\n",
       "airline_sentiment_confidence       0\n",
       "negativereason                  1092\n",
       "negativereason_confidence        810\n",
       "airline                            0\n",
       "airline_sentiment_gold          2924\n",
       "name                               0\n",
       "negativereason_gold             2925\n",
       "retweet_count                      0\n",
       "text                               0\n",
       "tweet_coord                     2728\n",
       "tweet_created                      0\n",
       "tweet_location                   932\n",
       "user_timezone                    938\n",
       "Y                                  0\n",
       "predicted_rf                       0\n",
       "correct                            0\n",
       "dtype: int64"
      ]
     },
     "execution_count": 138,
     "metadata": {},
     "output_type": "execute_result"
    }
   ],
   "source": [
    "result_df.isna().sum()"
   ]
  },
  {
   "cell_type": "code",
   "execution_count": 139,
   "id": "e7cd4b0b",
   "metadata": {},
   "outputs": [
    {
     "data": {
      "text/plain": [
       "<seaborn.axisgrid.FacetGrid at 0x7fe5838f3520>"
      ]
     },
     "execution_count": 139,
     "metadata": {},
     "output_type": "execute_result"
    },
    {
     "data": {
      "image/png": "[encoded data removed]",
      "text/plain": [
       "<Figure size 421.25x360 with 1 Axes>"
      ]
     },
     "metadata": {
      "needs_background": "light"
     },
     "output_type": "display_data"
    }
   ],
   "source": [
    "sns.displot(data=result_df, x = 'airline_sentiment_confidence', hue='correct', kde=True)"
   ]
  },
  {
   "cell_type": "code",
   "execution_count": 140,
   "id": "9ef44267",
   "metadata": {},
   "outputs": [
    {
     "data": {
      "text/plain": [
       "<seaborn.axisgrid.FacetGrid at 0x7fe56cc12760>"
      ]
     },
     "execution_count": 140,
     "metadata": {},
     "output_type": "execute_result"
    },
    {
     "data": {
      "image/png": "[encoded data removed]",
      "text/plain": [
       "<Figure size 421.25x360 with 1 Axes>"
      ]
     },
     "metadata": {
      "needs_background": "light"
     },
     "output_type": "display_data"
    }
   ],
   "source": [
    "sns.displot(data=result_df[result_df['Y']=='neutral'], x = 'airline_sentiment_confidence', hue='correct', kde=True)"
   ]
  },
  {
   "cell_type": "code",
   "execution_count": 141,
   "id": "9283843c",
   "metadata": {},
   "outputs": [
    {
     "data": {
      "text/plain": [
       "<seaborn.axisgrid.FacetGrid at 0x7fe64eab7310>"
      ]
     },
     "execution_count": 141,
     "metadata": {},
     "output_type": "execute_result"
    },
    {
     "data": {
      "image/png": "[encoded data removed]",
      "text/plain": [
       "<Figure size 421.25x360 with 1 Axes>"
      ]
     },
     "metadata": {
      "needs_background": "light"
     },
     "output_type": "display_data"
    }
   ],
   "source": [
    "sns.displot(data=result_df[result_df['Y']!='neutral'], x = 'airline_sentiment_confidence', hue='correct', kde=True)"
   ]
  },
  {
   "cell_type": "markdown",
   "id": "e5aa3158",
   "metadata": {},
   "source": [
    "The higher *airline_sentiment_confidence*, the better we can identify sentiment. Which means our model correctly identifies strongly positive, negative and neutral tweets, but having trouble identifying tweets with weak sentiment. This trend is stronger for non-neutral tweets."
   ]
  },
  {
   "cell_type": "code",
   "execution_count": 142,
   "id": "6185ff50",
   "metadata": {},
   "outputs": [
    {
     "data": {
      "text/plain": [
       "<AxesSubplot:xlabel='airline', ylabel='count'>"
      ]
     },
     "execution_count": 142,
     "metadata": {},
     "output_type": "execute_result"
    },
    {
     "data": {
      "image/png": "[encoded data removed]",
      "text/plain": [
       "<Figure size 432x288 with 1 Axes>"
      ]
     },
     "metadata": {
      "needs_background": "light"
     },
     "output_type": "display_data"
    }
   ],
   "source": [
    "sns.countplot(data=result_df, x = 'airline', hue='correct')"
   ]
  },
  {
   "cell_type": "markdown",
   "id": "235488b1",
   "metadata": {},
   "source": [
    "Classification accuracy doesn't depend on airline. Looks like customer have no pre-judjements about airlines"
   ]
  },
  {
   "cell_type": "code",
   "execution_count": 143,
   "id": "4385853e",
   "metadata": {},
   "outputs": [
    {
     "data": {
      "text/plain": [
       "<AxesSubplot:xlabel='count', ylabel='negativereason'>"
      ]
     },
     "execution_count": 143,
     "metadata": {},
     "output_type": "execute_result"
    },
    {
     "data": {
      "image/png": "[encoded data removed]",
      "text/plain": [
       "<Figure size 432x288 with 1 Axes>"
      ]
     },
     "metadata": {
      "needs_background": "light"
     },
     "output_type": "display_data"
    }
   ],
   "source": [
    "sns.countplot(data=result_df, y = 'negativereason', hue='correct')"
   ]
  },
  {
   "cell_type": "markdown",
   "id": "30d5b8ef",
   "metadata": {},
   "source": [
    "The model correcly classifies negative tweets about late and cancelled flights and customer service issues. However, it has trouble with classification of tweets related to bad fliht experience, and when the reason for negative tweet is unclear. "
   ]
  },
  {
   "cell_type": "code",
   "execution_count": null,
   "id": "9341bb8b",
   "metadata": {},
   "outputs": [],
   "source": []
  }
 ],
 "metadata": {
  "kernelspec": {
   "display_name": "Python 3",
   "language": "python",
   "name": "python3"
  },
  "language_info": {
   "codemirror_mode": {
    "name": "ipython",
    "version": 3
   },
   "file_extension": ".py",
   "mimetype": "text/x-python",
   "name": "python",
   "nbconvert_exporter": "python",
   "pygments_lexer": "ipython3",
   "version": "3.8.8"
  }
 },
 "nbformat": 4,
 "nbformat_minor": 5
}
