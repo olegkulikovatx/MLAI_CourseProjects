{
  "nbformat": 4,
  "nbformat_minor": 5,
  "metadata": {
    "colab": {
      "name": "twitter_sentimental_analysis.ipynb",
      "provenance": []
    },
    "kernelspec": {
      "display_name": "Python 3",
      "language": "python",
      "name": "python3"
    },
    "language_info": {
      "codemirror_mode": {
        "name": "ipython",
        "version": 3
      },
      "file_extension": ".py",
      "mimetype": "text/x-python",
      "name": "python",
      "nbconvert_exporter": "python",
      "pygments_lexer": "ipython3",
      "version": "3.8.8"
    },
    "accelerator": "GPU"
  },
  "cells": [
    {
      "cell_type": "code",
      "metadata": {
        "colab": {
          "base_uri": "https://localhost:8080/"
        },
        "id": "97YehD0JTZE1",
        "outputId": "ba631a45-998c-4c88-81f0-a188fc836a0f"
      },
      "source": [
        "!pip install contractions"
      ],
      "id": "97YehD0JTZE1",
      "execution_count": 43,
      "outputs": [
        {
          "output_type": "stream",
          "text": [
            "Requirement already satisfied: contractions in /usr/local/lib/python3.7/dist-packages (0.0.52)\n",
            "Requirement already satisfied: textsearch>=0.0.21 in /usr/local/lib/python3.7/dist-packages (from contractions) (0.0.21)\n",
            "Requirement already satisfied: pyahocorasick in /usr/local/lib/python3.7/dist-packages (from textsearch>=0.0.21->contractions) (1.4.2)\n",
            "Requirement already satisfied: anyascii in /usr/local/lib/python3.7/dist-packages (from textsearch>=0.0.21->contractions) (0.2.0)\n"
          ],
          "name": "stdout"
        }
      ]
    },
    {
      "cell_type": "code",
      "metadata": {
        "id": "-V7lWz2UCOMs"
      },
      "source": [
        ""
      ],
      "id": "-V7lWz2UCOMs",
      "execution_count": 43,
      "outputs": []
    },
    {
      "cell_type": "markdown",
      "metadata": {
        "id": "f88df34f"
      },
      "source": [
        "# 1. Import the libraries, load dataset, the print shape of data, data description. \n"
      ],
      "id": "f88df34f"
    },
    {
      "cell_type": "code",
      "metadata": {
        "colab": {
          "base_uri": "https://localhost:8080/"
        },
        "id": "88c4b668",
        "outputId": "2c7a85ee-81b2-4174-e9f9-5174125c6aad"
      },
      "source": [
        "import numpy as np\n",
        "import pandas as pd\n",
        "import seaborn as sns\n",
        "import matplotlib.pyplot as plt\n",
        "%matplotlib inline\n",
        "\n",
        "from bs4 import BeautifulSoup\n",
        "import pandas as pd\n",
        "import numpy as np\n",
        "import re, string, unicodedata\n",
        "import nltk\n",
        "nltk.download('stopwords')\n",
        "\n",
        "import contractions\n",
        "\n",
        "from nltk import word_tokenize, sent_tokenize\n",
        "from nltk.corpus import stopwords, wordnet    # Stopwords, and wordnet corpus\n",
        "from nltk.stem import LancasterStemmer, WordNetLemmatizer\n",
        "\n",
        "from sklearn.feature_extraction.text import CountVectorizer\n",
        "from sklearn.feature_extraction.text import TfidfVectorizer"
      ],
      "id": "88c4b668",
      "execution_count": 44,
      "outputs": [
        {
          "output_type": "stream",
          "text": [
            "[nltk_data] Downloading package stopwords to /root/nltk_data...\n",
            "[nltk_data]   Package stopwords is already up-to-date!\n"
          ],
          "name": "stdout"
        }
      ]
    },
    {
      "cell_type": "code",
      "metadata": {
        "id": "c9kri69XTXnf"
      },
      "source": [
        ""
      ],
      "id": "c9kri69XTXnf",
      "execution_count": 44,
      "outputs": []
    },
    {
      "cell_type": "code",
      "metadata": {
        "colab": {
          "base_uri": "https://localhost:8080/"
        },
        "id": "b5c5408f",
        "outputId": "cb9547c6-10a5-48eb-ba39-7138ede2bd7e"
      },
      "source": [
        "import os\n",
        "path = '/content/drive/MyDrive/data/'\n",
        "#path = os.getcwd() + \"/\"\n",
        "print (path)"
      ],
      "id": "b5c5408f",
      "execution_count": 45,
      "outputs": [
        {
          "output_type": "stream",
          "text": [
            "/content/drive/MyDrive/data/\n"
          ],
          "name": "stdout"
        }
      ]
    },
    {
      "cell_type": "code",
      "metadata": {
        "colab": {
          "base_uri": "https://localhost:8080/"
        },
        "id": "idfZq0xQTkrm",
        "outputId": "71135ea5-1cda-4980-f3f7-6775ebd3bcce"
      },
      "source": [
        "from google.colab import drive\n",
        "drive.mount('/content/drive')"
      ],
      "id": "idfZq0xQTkrm",
      "execution_count": 46,
      "outputs": [
        {
          "output_type": "stream",
          "text": [
            "Drive already mounted at /content/drive; to attempt to forcibly remount, call drive.mount(\"/content/drive\", force_remount=True).\n"
          ],
          "name": "stdout"
        }
      ]
    },
    {
      "cell_type": "code",
      "metadata": {
        "id": "75eb7670"
      },
      "source": [
        "\n",
        "orig_data = pd.read_csv(path+'Tweets.csv')"
      ],
      "id": "75eb7670",
      "execution_count": 47,
      "outputs": []
    },
    {
      "cell_type": "code",
      "metadata": {
        "colab": {
          "base_uri": "https://localhost:8080/",
          "height": 450
        },
        "id": "f1697711",
        "outputId": "f0f70340-6c09-40e7-ad71-a99ca748c10d"
      },
      "source": [
        "orig_data.head(5)"
      ],
      "id": "f1697711",
      "execution_count": 48,
      "outputs": [
        {
          "output_type": "execute_result",
          "data": {
            "text/html": [
              "<div>\n",
              "<style scoped>\n",
              "    .dataframe tbody tr th:only-of-type {\n",
              "        vertical-align: middle;\n",
              "    }\n",
              "\n",
              "    .dataframe tbody tr th {\n",
              "        vertical-align: top;\n",
              "    }\n",
              "\n",
              "    .dataframe thead th {\n",
              "        text-align: right;\n",
              "    }\n",
              "</style>\n",
              "<table border=\"1\" class=\"dataframe\">\n",
              "  <thead>\n",
              "    <tr style=\"text-align: right;\">\n",
              "      <th></th>\n",
              "      <th>tweet_id</th>\n",
              "      <th>airline_sentiment</th>\n",
              "      <th>airline_sentiment_confidence</th>\n",
              "      <th>negativereason</th>\n",
              "      <th>negativereason_confidence</th>\n",
              "      <th>airline</th>\n",
              "      <th>airline_sentiment_gold</th>\n",
              "      <th>name</th>\n",
              "      <th>negativereason_gold</th>\n",
              "      <th>retweet_count</th>\n",
              "      <th>text</th>\n",
              "      <th>tweet_coord</th>\n",
              "      <th>tweet_created</th>\n",
              "      <th>tweet_location</th>\n",
              "      <th>user_timezone</th>\n",
              "    </tr>\n",
              "  </thead>\n",
              "  <tbody>\n",
              "    <tr>\n",
              "      <th>0</th>\n",
              "      <td>570306133677760513</td>\n",
              "      <td>neutral</td>\n",
              "      <td>1.0000</td>\n",
              "      <td>NaN</td>\n",
              "      <td>NaN</td>\n",
              "      <td>Virgin America</td>\n",
              "      <td>NaN</td>\n",
              "      <td>cairdin</td>\n",
              "      <td>NaN</td>\n",
              "      <td>0</td>\n",
              "      <td>@VirginAmerica What @dhepburn said.</td>\n",
              "      <td>NaN</td>\n",
              "      <td>2015-02-24 11:35:52 -0800</td>\n",
              "      <td>NaN</td>\n",
              "      <td>Eastern Time (US &amp; Canada)</td>\n",
              "    </tr>\n",
              "    <tr>\n",
              "      <th>1</th>\n",
              "      <td>570301130888122368</td>\n",
              "      <td>positive</td>\n",
              "      <td>0.3486</td>\n",
              "      <td>NaN</td>\n",
              "      <td>0.0000</td>\n",
              "      <td>Virgin America</td>\n",
              "      <td>NaN</td>\n",
              "      <td>jnardino</td>\n",
              "      <td>NaN</td>\n",
              "      <td>0</td>\n",
              "      <td>@VirginAmerica plus you've added commercials t...</td>\n",
              "      <td>NaN</td>\n",
              "      <td>2015-02-24 11:15:59 -0800</td>\n",
              "      <td>NaN</td>\n",
              "      <td>Pacific Time (US &amp; Canada)</td>\n",
              "    </tr>\n",
              "    <tr>\n",
              "      <th>2</th>\n",
              "      <td>570301083672813571</td>\n",
              "      <td>neutral</td>\n",
              "      <td>0.6837</td>\n",
              "      <td>NaN</td>\n",
              "      <td>NaN</td>\n",
              "      <td>Virgin America</td>\n",
              "      <td>NaN</td>\n",
              "      <td>yvonnalynn</td>\n",
              "      <td>NaN</td>\n",
              "      <td>0</td>\n",
              "      <td>@VirginAmerica I didn't today... Must mean I n...</td>\n",
              "      <td>NaN</td>\n",
              "      <td>2015-02-24 11:15:48 -0800</td>\n",
              "      <td>Lets Play</td>\n",
              "      <td>Central Time (US &amp; Canada)</td>\n",
              "    </tr>\n",
              "    <tr>\n",
              "      <th>3</th>\n",
              "      <td>570301031407624196</td>\n",
              "      <td>negative</td>\n",
              "      <td>1.0000</td>\n",
              "      <td>Bad Flight</td>\n",
              "      <td>0.7033</td>\n",
              "      <td>Virgin America</td>\n",
              "      <td>NaN</td>\n",
              "      <td>jnardino</td>\n",
              "      <td>NaN</td>\n",
              "      <td>0</td>\n",
              "      <td>@VirginAmerica it's really aggressive to blast...</td>\n",
              "      <td>NaN</td>\n",
              "      <td>2015-02-24 11:15:36 -0800</td>\n",
              "      <td>NaN</td>\n",
              "      <td>Pacific Time (US &amp; Canada)</td>\n",
              "    </tr>\n",
              "    <tr>\n",
              "      <th>4</th>\n",
              "      <td>570300817074462722</td>\n",
              "      <td>negative</td>\n",
              "      <td>1.0000</td>\n",
              "      <td>Can't Tell</td>\n",
              "      <td>1.0000</td>\n",
              "      <td>Virgin America</td>\n",
              "      <td>NaN</td>\n",
              "      <td>jnardino</td>\n",
              "      <td>NaN</td>\n",
              "      <td>0</td>\n",
              "      <td>@VirginAmerica and it's a really big bad thing...</td>\n",
              "      <td>NaN</td>\n",
              "      <td>2015-02-24 11:14:45 -0800</td>\n",
              "      <td>NaN</td>\n",
              "      <td>Pacific Time (US &amp; Canada)</td>\n",
              "    </tr>\n",
              "  </tbody>\n",
              "</table>\n",
              "</div>"
            ],
            "text/plain": [
              "             tweet_id  ...               user_timezone\n",
              "0  570306133677760513  ...  Eastern Time (US & Canada)\n",
              "1  570301130888122368  ...  Pacific Time (US & Canada)\n",
              "2  570301083672813571  ...  Central Time (US & Canada)\n",
              "3  570301031407624196  ...  Pacific Time (US & Canada)\n",
              "4  570300817074462722  ...  Pacific Time (US & Canada)\n",
              "\n",
              "[5 rows x 15 columns]"
            ]
          },
          "metadata": {
            "tags": []
          },
          "execution_count": 48
        }
      ]
    },
    {
      "cell_type": "code",
      "metadata": {
        "colab": {
          "base_uri": "https://localhost:8080/"
        },
        "id": "05067f21",
        "outputId": "3c32a34a-9d40-4e27-8d64-384285456148"
      },
      "source": [
        "print(orig_data.shape)"
      ],
      "id": "05067f21",
      "execution_count": 49,
      "outputs": [
        {
          "output_type": "stream",
          "text": [
            "(14640, 15)\n"
          ],
          "name": "stdout"
        }
      ]
    },
    {
      "cell_type": "markdown",
      "metadata": {
        "id": "Qz7A8dZvCZQu"
      },
      "source": [
        "There are 14640 rows and 15 columns in the dataset"
      ],
      "id": "Qz7A8dZvCZQu"
    },
    {
      "cell_type": "code",
      "metadata": {
        "colab": {
          "base_uri": "https://localhost:8080/"
        },
        "id": "832f0db0",
        "outputId": "0f4ae8ec-6d93-451c-a49d-8eea2a3f0805"
      },
      "source": [
        "print(orig_data.describe())"
      ],
      "id": "832f0db0",
      "execution_count": 50,
      "outputs": [
        {
          "output_type": "stream",
          "text": [
            "           tweet_id  ...  retweet_count\n",
            "count  1.464000e+04  ...   14640.000000\n",
            "mean   5.692184e+17  ...       0.082650\n",
            "std    7.791112e+14  ...       0.745778\n",
            "min    5.675883e+17  ...       0.000000\n",
            "25%    5.685592e+17  ...       0.000000\n",
            "50%    5.694779e+17  ...       0.000000\n",
            "75%    5.698905e+17  ...       0.000000\n",
            "max    5.703106e+17  ...      44.000000\n",
            "\n",
            "[8 rows x 4 columns]\n"
          ],
          "name": "stdout"
        }
      ]
    },
    {
      "cell_type": "code",
      "metadata": {
        "colab": {
          "base_uri": "https://localhost:8080/"
        },
        "id": "623b0412",
        "outputId": "7d3d27c5-e082-4149-85cd-ffee236371fa"
      },
      "source": [
        "print(orig_data.isna().sum())"
      ],
      "id": "623b0412",
      "execution_count": 51,
      "outputs": [
        {
          "output_type": "stream",
          "text": [
            "tweet_id                            0\n",
            "airline_sentiment                   0\n",
            "airline_sentiment_confidence        0\n",
            "negativereason                   5462\n",
            "negativereason_confidence        4118\n",
            "airline                             0\n",
            "airline_sentiment_gold          14600\n",
            "name                                0\n",
            "negativereason_gold             14608\n",
            "retweet_count                       0\n",
            "text                                0\n",
            "tweet_coord                     13621\n",
            "tweet_created                       0\n",
            "tweet_location                   4733\n",
            "user_timezone                    4820\n",
            "dtype: int64\n"
          ],
          "name": "stdout"
        }
      ]
    },
    {
      "cell_type": "markdown",
      "metadata": {
        "id": "Us0ja6aACkA0"
      },
      "source": [
        "There are many missing values in differen columns, but we are going to drop those columns, so we can ignore missing values"
      ],
      "id": "Us0ja6aACkA0"
    },
    {
      "cell_type": "code",
      "metadata": {
        "colab": {
          "base_uri": "https://localhost:8080/"
        },
        "id": "33a4bfac",
        "outputId": "e2e0e835-8d59-452e-b70f-10347c122af1"
      },
      "source": [
        "print(orig_data.info())"
      ],
      "id": "33a4bfac",
      "execution_count": 52,
      "outputs": [
        {
          "output_type": "stream",
          "text": [
            "<class 'pandas.core.frame.DataFrame'>\n",
            "RangeIndex: 14640 entries, 0 to 14639\n",
            "Data columns (total 15 columns):\n",
            " #   Column                        Non-Null Count  Dtype  \n",
            "---  ------                        --------------  -----  \n",
            " 0   tweet_id                      14640 non-null  int64  \n",
            " 1   airline_sentiment             14640 non-null  object \n",
            " 2   airline_sentiment_confidence  14640 non-null  float64\n",
            " 3   negativereason                9178 non-null   object \n",
            " 4   negativereason_confidence     10522 non-null  float64\n",
            " 5   airline                       14640 non-null  object \n",
            " 6   airline_sentiment_gold        40 non-null     object \n",
            " 7   name                          14640 non-null  object \n",
            " 8   negativereason_gold           32 non-null     object \n",
            " 9   retweet_count                 14640 non-null  int64  \n",
            " 10  text                          14640 non-null  object \n",
            " 11  tweet_coord                   1019 non-null   object \n",
            " 12  tweet_created                 14640 non-null  object \n",
            " 13  tweet_location                9907 non-null   object \n",
            " 14  user_timezone                 9820 non-null   object \n",
            "dtypes: float64(2), int64(2), object(11)\n",
            "memory usage: 1.7+ MB\n",
            "None\n"
          ],
          "name": "stdout"
        }
      ]
    },
    {
      "cell_type": "code",
      "metadata": {
        "colab": {
          "base_uri": "https://localhost:8080/"
        },
        "id": "Qc0GuDd2C1CL",
        "outputId": "e662873b-63b4-4eca-e0b4-db82e4e4290d"
      },
      "source": [
        "print(orig_data['airline_sentiment'].value_counts())"
      ],
      "id": "Qc0GuDd2C1CL",
      "execution_count": 53,
      "outputs": [
        {
          "output_type": "stream",
          "text": [
            "negative    9178\n",
            "neutral     3099\n",
            "positive    2363\n",
            "Name: airline_sentiment, dtype: int64\n"
          ],
          "name": "stdout"
        }
      ]
    },
    {
      "cell_type": "markdown",
      "metadata": {
        "id": "oPZ3OaCXDGcY"
      },
      "source": [
        "2/3 of the tweets are negative"
      ],
      "id": "oPZ3OaCXDGcY"
    },
    {
      "cell_type": "markdown",
      "metadata": {
        "id": "712bd29f"
      },
      "source": [
        "# 2. Understand of data columns: "
      ],
      "id": "712bd29f"
    },
    {
      "cell_type": "markdown",
      "metadata": {
        "id": "45dafdee"
      },
      "source": [
        "## Create a small data set to test data set transformations"
      ],
      "id": "45dafdee"
    },
    {
      "cell_type": "markdown",
      "metadata": {
        "id": "pd2-SmCMDgkW"
      },
      "source": [
        "Now we are going to create classes for data set pre-processing and combine them into a pipeleine"
      ],
      "id": "pd2-SmCMDgkW"
    },
    {
      "cell_type": "code",
      "metadata": {
        "colab": {
          "base_uri": "https://localhost:8080/",
          "height": 450
        },
        "id": "d7511ce9",
        "outputId": "fb617802-e736-4cf7-d57e-19d74590ef54"
      },
      "source": [
        "first5 = orig_data.head(5)\n",
        "first5"
      ],
      "id": "d7511ce9",
      "execution_count": 54,
      "outputs": [
        {
          "output_type": "execute_result",
          "data": {
            "text/html": [
              "<div>\n",
              "<style scoped>\n",
              "    .dataframe tbody tr th:only-of-type {\n",
              "        vertical-align: middle;\n",
              "    }\n",
              "\n",
              "    .dataframe tbody tr th {\n",
              "        vertical-align: top;\n",
              "    }\n",
              "\n",
              "    .dataframe thead th {\n",
              "        text-align: right;\n",
              "    }\n",
              "</style>\n",
              "<table border=\"1\" class=\"dataframe\">\n",
              "  <thead>\n",
              "    <tr style=\"text-align: right;\">\n",
              "      <th></th>\n",
              "      <th>tweet_id</th>\n",
              "      <th>airline_sentiment</th>\n",
              "      <th>airline_sentiment_confidence</th>\n",
              "      <th>negativereason</th>\n",
              "      <th>negativereason_confidence</th>\n",
              "      <th>airline</th>\n",
              "      <th>airline_sentiment_gold</th>\n",
              "      <th>name</th>\n",
              "      <th>negativereason_gold</th>\n",
              "      <th>retweet_count</th>\n",
              "      <th>text</th>\n",
              "      <th>tweet_coord</th>\n",
              "      <th>tweet_created</th>\n",
              "      <th>tweet_location</th>\n",
              "      <th>user_timezone</th>\n",
              "    </tr>\n",
              "  </thead>\n",
              "  <tbody>\n",
              "    <tr>\n",
              "      <th>0</th>\n",
              "      <td>570306133677760513</td>\n",
              "      <td>neutral</td>\n",
              "      <td>1.0000</td>\n",
              "      <td>NaN</td>\n",
              "      <td>NaN</td>\n",
              "      <td>Virgin America</td>\n",
              "      <td>NaN</td>\n",
              "      <td>cairdin</td>\n",
              "      <td>NaN</td>\n",
              "      <td>0</td>\n",
              "      <td>@VirginAmerica What @dhepburn said.</td>\n",
              "      <td>NaN</td>\n",
              "      <td>2015-02-24 11:35:52 -0800</td>\n",
              "      <td>NaN</td>\n",
              "      <td>Eastern Time (US &amp; Canada)</td>\n",
              "    </tr>\n",
              "    <tr>\n",
              "      <th>1</th>\n",
              "      <td>570301130888122368</td>\n",
              "      <td>positive</td>\n",
              "      <td>0.3486</td>\n",
              "      <td>NaN</td>\n",
              "      <td>0.0000</td>\n",
              "      <td>Virgin America</td>\n",
              "      <td>NaN</td>\n",
              "      <td>jnardino</td>\n",
              "      <td>NaN</td>\n",
              "      <td>0</td>\n",
              "      <td>@VirginAmerica plus you've added commercials t...</td>\n",
              "      <td>NaN</td>\n",
              "      <td>2015-02-24 11:15:59 -0800</td>\n",
              "      <td>NaN</td>\n",
              "      <td>Pacific Time (US &amp; Canada)</td>\n",
              "    </tr>\n",
              "    <tr>\n",
              "      <th>2</th>\n",
              "      <td>570301083672813571</td>\n",
              "      <td>neutral</td>\n",
              "      <td>0.6837</td>\n",
              "      <td>NaN</td>\n",
              "      <td>NaN</td>\n",
              "      <td>Virgin America</td>\n",
              "      <td>NaN</td>\n",
              "      <td>yvonnalynn</td>\n",
              "      <td>NaN</td>\n",
              "      <td>0</td>\n",
              "      <td>@VirginAmerica I didn't today... Must mean I n...</td>\n",
              "      <td>NaN</td>\n",
              "      <td>2015-02-24 11:15:48 -0800</td>\n",
              "      <td>Lets Play</td>\n",
              "      <td>Central Time (US &amp; Canada)</td>\n",
              "    </tr>\n",
              "    <tr>\n",
              "      <th>3</th>\n",
              "      <td>570301031407624196</td>\n",
              "      <td>negative</td>\n",
              "      <td>1.0000</td>\n",
              "      <td>Bad Flight</td>\n",
              "      <td>0.7033</td>\n",
              "      <td>Virgin America</td>\n",
              "      <td>NaN</td>\n",
              "      <td>jnardino</td>\n",
              "      <td>NaN</td>\n",
              "      <td>0</td>\n",
              "      <td>@VirginAmerica it's really aggressive to blast...</td>\n",
              "      <td>NaN</td>\n",
              "      <td>2015-02-24 11:15:36 -0800</td>\n",
              "      <td>NaN</td>\n",
              "      <td>Pacific Time (US &amp; Canada)</td>\n",
              "    </tr>\n",
              "    <tr>\n",
              "      <th>4</th>\n",
              "      <td>570300817074462722</td>\n",
              "      <td>negative</td>\n",
              "      <td>1.0000</td>\n",
              "      <td>Can't Tell</td>\n",
              "      <td>1.0000</td>\n",
              "      <td>Virgin America</td>\n",
              "      <td>NaN</td>\n",
              "      <td>jnardino</td>\n",
              "      <td>NaN</td>\n",
              "      <td>0</td>\n",
              "      <td>@VirginAmerica and it's a really big bad thing...</td>\n",
              "      <td>NaN</td>\n",
              "      <td>2015-02-24 11:14:45 -0800</td>\n",
              "      <td>NaN</td>\n",
              "      <td>Pacific Time (US &amp; Canada)</td>\n",
              "    </tr>\n",
              "  </tbody>\n",
              "</table>\n",
              "</div>"
            ],
            "text/plain": [
              "             tweet_id  ...               user_timezone\n",
              "0  570306133677760513  ...  Eastern Time (US & Canada)\n",
              "1  570301130888122368  ...  Pacific Time (US & Canada)\n",
              "2  570301083672813571  ...  Central Time (US & Canada)\n",
              "3  570301031407624196  ...  Pacific Time (US & Canada)\n",
              "4  570300817074462722  ...  Pacific Time (US & Canada)\n",
              "\n",
              "[5 rows x 15 columns]"
            ]
          },
          "metadata": {
            "tags": []
          },
          "execution_count": 54
        }
      ]
    },
    {
      "cell_type": "markdown",
      "metadata": {
        "id": "cc2479ed"
      },
      "source": [
        "## a. Drop all other columns except “text” and “airline_sentiment”."
      ],
      "id": "cc2479ed"
    },
    {
      "cell_type": "code",
      "metadata": {
        "id": "7269655a"
      },
      "source": [
        "from sklearn.base import BaseEstimator, TransformerMixin"
      ],
      "id": "7269655a",
      "execution_count": 55,
      "outputs": []
    },
    {
      "cell_type": "code",
      "metadata": {
        "id": "14166839"
      },
      "source": [
        "def my_print(a):\n",
        "    \"\"\"\n",
        "    Function my_print prints out parameter a if global \n",
        "    variable debug is True. Otherwise does nothing\\\n",
        "    \"\"\"\n",
        "    global debug\n",
        "    try: debug\n",
        "    except NameError: debug=False\n",
        "    if debug:\n",
        "        print(a)\n",
        "\n",
        "## disable debugging info print out\n",
        "debug=True"
      ],
      "id": "14166839",
      "execution_count": 56,
      "outputs": []
    },
    {
      "cell_type": "code",
      "metadata": {
        "id": "1e7e6bcc"
      },
      "source": [
        "class ColumnDropper(BaseEstimator, TransformerMixin):\n",
        "    \"\"\"\n",
        "    class ColumnDropper(columns) drops columns in the dataframe.\n",
        "    columns - list of columns to be droppped\n",
        "    \"\"\"    \n",
        "    def __init__(self, columns):\n",
        "        self.columns = columns\n",
        "        return\n",
        "    def fit(self, X, y=None, **fit_params):\n",
        "        my_print (\"-- ColumnDropper::fit() --\")\n",
        "        # Do nothing\n",
        "        return self\n",
        "    def transform(self, X):\n",
        "        my_print (\"-- ColumnDropper::transform() --\")    \n",
        "        new_X = X.drop(columns=self.columns)\n",
        "        return new_X"
      ],
      "id": "1e7e6bcc",
      "execution_count": 57,
      "outputs": []
    },
    {
      "cell_type": "code",
      "metadata": {
        "colab": {
          "base_uri": "https://localhost:8080/"
        },
        "id": "b2e9326b",
        "outputId": "123e4fdf-063d-4718-ec72-7fc3e60cd00f"
      },
      "source": [
        "columns_to_drop = first5.columns\n",
        "print (columns_to_drop)"
      ],
      "id": "b2e9326b",
      "execution_count": 58,
      "outputs": [
        {
          "output_type": "stream",
          "text": [
            "Index(['tweet_id', 'airline_sentiment', 'airline_sentiment_confidence',\n",
            "       'negativereason', 'negativereason_confidence', 'airline',\n",
            "       'airline_sentiment_gold', 'name', 'negativereason_gold',\n",
            "       'retweet_count', 'text', 'tweet_coord', 'tweet_created',\n",
            "       'tweet_location', 'user_timezone'],\n",
            "      dtype='object')\n"
          ],
          "name": "stdout"
        }
      ]
    },
    {
      "cell_type": "code",
      "metadata": {
        "colab": {
          "base_uri": "https://localhost:8080/"
        },
        "id": "9fe72ce2",
        "outputId": "2ffd7f89-bccf-44c0-bc1a-e306f02a4b3b"
      },
      "source": [
        "columns_to_drop = columns_to_drop.delete(1)\n",
        "columns_to_drop = columns_to_drop.delete(-5)\n",
        "print(columns_to_drop)"
      ],
      "id": "9fe72ce2",
      "execution_count": 59,
      "outputs": [
        {
          "output_type": "stream",
          "text": [
            "Index(['tweet_id', 'airline_sentiment_confidence', 'negativereason',\n",
            "       'negativereason_confidence', 'airline', 'airline_sentiment_gold',\n",
            "       'name', 'negativereason_gold', 'retweet_count', 'tweet_coord',\n",
            "       'tweet_created', 'tweet_location', 'user_timezone'],\n",
            "      dtype='object')\n"
          ],
          "name": "stdout"
        }
      ]
    },
    {
      "cell_type": "code",
      "metadata": {
        "id": "c4293f5d"
      },
      "source": [
        "dropper = ColumnDropper(columns_to_drop)"
      ],
      "id": "c4293f5d",
      "execution_count": 60,
      "outputs": []
    },
    {
      "cell_type": "code",
      "metadata": {
        "colab": {
          "base_uri": "https://localhost:8080/"
        },
        "id": "6ea7b83b",
        "outputId": "4bd67e86-dfc7-48d3-aa2e-60d2dae0d183"
      },
      "source": [
        "dropper.fit(first5)\n",
        "first5 = dropper.transform(first5)"
      ],
      "id": "6ea7b83b",
      "execution_count": 61,
      "outputs": [
        {
          "output_type": "stream",
          "text": [
            "-- ColumnDropper::fit() --\n",
            "-- ColumnDropper::transform() --\n"
          ],
          "name": "stdout"
        }
      ]
    },
    {
      "cell_type": "markdown",
      "metadata": {
        "id": "706517ed"
      },
      "source": [
        "## b. Check the shape of the data."
      ],
      "id": "706517ed"
    },
    {
      "cell_type": "code",
      "metadata": {
        "colab": {
          "base_uri": "https://localhost:8080/"
        },
        "id": "9c442e29",
        "outputId": "9027c800-063f-4aaf-8236-8284adb45f1a"
      },
      "source": [
        "print(first5.shape)"
      ],
      "id": "9c442e29",
      "execution_count": 62,
      "outputs": [
        {
          "output_type": "stream",
          "text": [
            "(5, 2)\n"
          ],
          "name": "stdout"
        }
      ]
    },
    {
      "cell_type": "markdown",
      "metadata": {
        "id": "9aa00eaf"
      },
      "source": [
        "## c. Print the first 5 rows of data."
      ],
      "id": "9aa00eaf"
    },
    {
      "cell_type": "code",
      "metadata": {
        "colab": {
          "base_uri": "https://localhost:8080/",
          "height": 0
        },
        "id": "ee553681",
        "outputId": "ed60028e-c6b2-4de9-b719-1f76a592055f"
      },
      "source": [
        "first5"
      ],
      "id": "ee553681",
      "execution_count": 63,
      "outputs": [
        {
          "output_type": "execute_result",
          "data": {
            "text/html": [
              "<div>\n",
              "<style scoped>\n",
              "    .dataframe tbody tr th:only-of-type {\n",
              "        vertical-align: middle;\n",
              "    }\n",
              "\n",
              "    .dataframe tbody tr th {\n",
              "        vertical-align: top;\n",
              "    }\n",
              "\n",
              "    .dataframe thead th {\n",
              "        text-align: right;\n",
              "    }\n",
              "</style>\n",
              "<table border=\"1\" class=\"dataframe\">\n",
              "  <thead>\n",
              "    <tr style=\"text-align: right;\">\n",
              "      <th></th>\n",
              "      <th>airline_sentiment</th>\n",
              "      <th>text</th>\n",
              "    </tr>\n",
              "  </thead>\n",
              "  <tbody>\n",
              "    <tr>\n",
              "      <th>0</th>\n",
              "      <td>neutral</td>\n",
              "      <td>@VirginAmerica What @dhepburn said.</td>\n",
              "    </tr>\n",
              "    <tr>\n",
              "      <th>1</th>\n",
              "      <td>positive</td>\n",
              "      <td>@VirginAmerica plus you've added commercials t...</td>\n",
              "    </tr>\n",
              "    <tr>\n",
              "      <th>2</th>\n",
              "      <td>neutral</td>\n",
              "      <td>@VirginAmerica I didn't today... Must mean I n...</td>\n",
              "    </tr>\n",
              "    <tr>\n",
              "      <th>3</th>\n",
              "      <td>negative</td>\n",
              "      <td>@VirginAmerica it's really aggressive to blast...</td>\n",
              "    </tr>\n",
              "    <tr>\n",
              "      <th>4</th>\n",
              "      <td>negative</td>\n",
              "      <td>@VirginAmerica and it's a really big bad thing...</td>\n",
              "    </tr>\n",
              "  </tbody>\n",
              "</table>\n",
              "</div>"
            ],
            "text/plain": [
              "  airline_sentiment                                               text\n",
              "0           neutral                @VirginAmerica What @dhepburn said.\n",
              "1          positive  @VirginAmerica plus you've added commercials t...\n",
              "2           neutral  @VirginAmerica I didn't today... Must mean I n...\n",
              "3          negative  @VirginAmerica it's really aggressive to blast...\n",
              "4          negative  @VirginAmerica and it's a really big bad thing..."
            ]
          },
          "metadata": {
            "tags": []
          },
          "execution_count": 63
        }
      ]
    },
    {
      "cell_type": "markdown",
      "metadata": {
        "id": "660047b8"
      },
      "source": [
        "# 3. Text pre-processing: Data preparation. \n",
        "## a. Html tag removal.\n",
        "## b. Tokenization.\n",
        "## c. Remove the numbers.\n",
        "## d. Removal of Special Characters and Punctuations.\n",
        "## e. Removal of stopwords\n",
        "## f. Conversion to lowercase.\n",
        "## g. Lemmatize or stemming.\n",
        "## h. Join the words in the list to convert back to text string in the data frame. (So that each row contains the data in text format.)\n",
        "## i. Print the first 5 rows of data after pre-processing.\n"
      ],
      "id": "660047b8"
    },
    {
      "cell_type": "code",
      "metadata": {
        "colab": {
          "base_uri": "https://localhost:8080/"
        },
        "id": "afa9a319",
        "outputId": "de07efc9-be4a-4be0-8ebf-72a732d653ad"
      },
      "source": [
        "import spacy\n",
        "nlp = spacy.load('en', parse=True, tag=True, entity=True)\n",
        "nltk.download('punkt')"
      ],
      "id": "afa9a319",
      "execution_count": 64,
      "outputs": [
        {
          "output_type": "stream",
          "text": [
            "[nltk_data] Downloading package punkt to /root/nltk_data...\n",
            "[nltk_data]   Package punkt is already up-to-date!\n"
          ],
          "name": "stdout"
        },
        {
          "output_type": "execute_result",
          "data": {
            "text/plain": [
              "True"
            ]
          },
          "metadata": {
            "tags": []
          },
          "execution_count": 64
        }
      ]
    },
    {
      "cell_type": "code",
      "metadata": {
        "id": "5a009c4c"
      },
      "source": [
        "class TextPreprocessor(BaseEstimator, TransformerMixin):\n",
        "    \"\"\"\n",
        "    class TextPreprocessor(type, nlp) preprocesses the text in column 'text'.\n",
        "    Preprocessing includes:\n",
        "     a. Html tag removal.\n",
        "     b. Tokenization.\n",
        "     c. Removat of the numbers.\n",
        "     d. Removal of Special Characters and Punctuations.\n",
        "     e. Removal of stopwords\n",
        "     f. Conversion to lowercase.\n",
        "     g. Lemmatization or stemming.\n",
        "    Parameters:\n",
        "    type - tells TextPreprocessor whether lemmatize or stem the text\n",
        "           Values: 'lemma' or 'stem'\n",
        "    nlp  - language model for lemmatization\n",
        "    \"\"\"    \n",
        "    def __init__(self, my_type, nlp):\n",
        "        self.type_ = my_type\n",
        "        self.nlp_ = nlp\n",
        "        self.stemmer_ = nltk.porter.PorterStemmer()\n",
        "        return\n",
        "    \n",
        "    def remove_html(self, text):\n",
        "        soup = BeautifulSoup(text, \"html.parser\")\n",
        "        text_no_html = soup.get_text()\n",
        "        return text_no_html\n",
        "    \n",
        "    ## If particular airline receives mostly positive/negative reviews\n",
        "    ## Airline name itself may become a positive/negative marker\n",
        "    ## revove airline names from the tweets\n",
        "    def remove_airline_reference(self, text):\n",
        "        pattern = r'@[a-zA-Z0-9]+[\\t\\s]+' \n",
        "        new_text = re.sub(pattern, '', text)\n",
        "        return new_text\n",
        "    \n",
        "    def remove_contractions(self, text):\n",
        "        expanded_words = []    \n",
        "        for word in text.split():\n",
        "          # using contractions.fix to expand the shotened words\n",
        "          expanded_words.append(contractions.fix(word)) \n",
        "        return \" \".join(expanded_words)         \n",
        "    \n",
        "    def tokenize(self, text):\n",
        "        tokens = word_tokenize(text)\n",
        "        return tokens\n",
        "        \n",
        "    \n",
        "    def remove_non_ascii(self, words):\n",
        "        new_words = []\n",
        "        for w in words:\n",
        "            w = unicodedata.normalize('NFKD', w).encode('ascii', 'ignore').decode('utf-8','ignore')\n",
        "            new_words.append(w)\n",
        "        return new_words\n",
        "\n",
        "    def to_lower(self, words):\n",
        "        new_words = []\n",
        "        for w in words:\n",
        "            w = w.lower()\n",
        "            new_words.append(w)\n",
        "        return new_words\n",
        "\n",
        "\n",
        "    def remove_punctuations(self, words):\n",
        "        pattern = r'[^a-zA-Z0-9\\s]' \n",
        "        new_words = []\n",
        "        for w in words:\n",
        "            w = re.sub(pattern, '', w)\n",
        "            if len(w) > 0:\n",
        "                new_words.append(w)        \n",
        "        return new_words\n",
        "\n",
        "    def remove_digits(self, words):\n",
        "        pattern = r'[0-9]' \n",
        "        new_words = []\n",
        "        for w in words:\n",
        "            w = re.sub(pattern, '', w)\n",
        "            if len(w) > 0:\n",
        "                new_words.append(w)        \n",
        "        return new_words\n",
        "\n",
        "    def remove_stopwords(self, words):\n",
        "        stopword_list = stopwords.words('english')\n",
        "        stopword_list.remove('not')\n",
        "        new_words = []\n",
        "        for w in words:\n",
        "            if w not in stopword_list:\n",
        "                new_words.append(w)\n",
        "        return new_words\n",
        "\n",
        "\n",
        "    def convert_to_stem(self, words):\n",
        "        new_words = []\n",
        "        ps = nltk.porter.PorterStemmer()\n",
        "        for w in words:\n",
        "            w = ps.stem(w)\n",
        "            new_words.append(w)        \n",
        "        return new_words\n",
        "\n",
        "\n",
        "    def lemmatize(self, words):\n",
        "        global nlp\n",
        "        new_words = []\n",
        "        twit = \" \".join(words)\n",
        "        text = nlp(twit)\n",
        "        for w in words:\n",
        "            #text = nlp(w)\n",
        "            w = ' '.join([word.lemma_ if word.lemma_ != '-PRON-' else word.text for word in text])\n",
        "            new_words.append(w)\n",
        "        return new_words\n",
        "\n",
        "\n",
        "    def preprocess_text(self, text):\n",
        "        new_text  = self.remove_html(text)\n",
        "        #new_text  = self.remove_airline_reference(new_text)\n",
        "        new_text  = self.remove_contractions(new_text)      \n",
        "        words     = self.tokenize(new_text)\n",
        "        words     = self.remove_non_ascii(words)\n",
        "        words     = self.to_lower(words)\n",
        "        words     = self.remove_punctuations(words)\n",
        "        words     = self.remove_digits(words)\n",
        "        words     = self.remove_stopwords(words)\n",
        "        if (self.type_ == 'stem'):\n",
        "            words     = self.convert_to_stem(words)\n",
        "        else:\n",
        "            words     = self.lemmatize(words)\n",
        "        ## if tweet consists of stopwords\n",
        "        ## add something neutral\n",
        "        if len(words) == 0:\n",
        "            words.append(\"ok\")\n",
        "        new_text  = \" \".join(words)\n",
        "        return new_text\n",
        "\n",
        "    def fit(self, X, y=None, **fit_params):\n",
        "        my_print (\"-- TextPreprocessor::fit() -- type: {}\".format(self.type_))\n",
        "        ## do nothing\n",
        "        return self\n",
        "    \n",
        "    def transform(self, X):\n",
        "        my_print (\"-- TextPreprocessor::transform() --\")    \n",
        "        new_X = X.copy()\n",
        "        #self.preprocess_text('abc')\n",
        "        new_X['text'] = new_X['text'].apply(self.preprocess_text)\n",
        "        return new_X\n",
        "\n",
        "    def get_params(self, deep=True):\n",
        "        return {\"my_type\": self.type_,\n",
        "               \"nlp\": self.nlp_}\n",
        "\n",
        "    def set_params(self, **parameters):\n",
        "        for parameter, value in parameters.items():\n",
        "            p = parameter\n",
        "            if parameter == \"my_type\":\n",
        "                p = \"type_\"\n",
        "                self.type_ = value\n",
        "            elif parameter == \"nlp\":\n",
        "                p = \"nlp_\"\n",
        "                self.nlp_ = value\n",
        "            my_print(\"TextPreprocessor setattr {} = {}\".format(p, value))\n",
        "            #setattr(self, p, value)\n",
        "        return self\n",
        "\n",
        "    "
      ],
      "id": "5a009c4c",
      "execution_count": 65,
      "outputs": []
    },
    {
      "cell_type": "code",
      "metadata": {
        "colab": {
          "base_uri": "https://localhost:8080/",
          "height": 240
        },
        "id": "022e88a3",
        "outputId": "13ba7891-b312-4094-ecd4-65b7e500d022"
      },
      "source": [
        "text_prepocessor = TextPreprocessor('stem',nlp)\n",
        "text_prepocessor.fit(first5)\n",
        "first5_stem = text_prepocessor.transform(first5)\n",
        "first5_stem"
      ],
      "id": "022e88a3",
      "execution_count": 66,
      "outputs": [
        {
          "output_type": "stream",
          "text": [
            "-- TextPreprocessor::fit() -- type: stem\n",
            "-- TextPreprocessor::transform() --\n"
          ],
          "name": "stdout"
        },
        {
          "output_type": "execute_result",
          "data": {
            "text/html": [
              "<div>\n",
              "<style scoped>\n",
              "    .dataframe tbody tr th:only-of-type {\n",
              "        vertical-align: middle;\n",
              "    }\n",
              "\n",
              "    .dataframe tbody tr th {\n",
              "        vertical-align: top;\n",
              "    }\n",
              "\n",
              "    .dataframe thead th {\n",
              "        text-align: right;\n",
              "    }\n",
              "</style>\n",
              "<table border=\"1\" class=\"dataframe\">\n",
              "  <thead>\n",
              "    <tr style=\"text-align: right;\">\n",
              "      <th></th>\n",
              "      <th>airline_sentiment</th>\n",
              "      <th>text</th>\n",
              "    </tr>\n",
              "  </thead>\n",
              "  <tbody>\n",
              "    <tr>\n",
              "      <th>0</th>\n",
              "      <td>neutral</td>\n",
              "      <td>virginamerica dhepburn said</td>\n",
              "    </tr>\n",
              "    <tr>\n",
              "      <th>1</th>\n",
              "      <td>positive</td>\n",
              "      <td>virginamerica plu ad commerci experi tacki</td>\n",
              "    </tr>\n",
              "    <tr>\n",
              "      <th>2</th>\n",
              "      <td>neutral</td>\n",
              "      <td>virginamerica not today must mean need take an...</td>\n",
              "    </tr>\n",
              "    <tr>\n",
              "      <th>3</th>\n",
              "      <td>negative</td>\n",
              "      <td>virginamerica realli aggress blast obnoxi ente...</td>\n",
              "    </tr>\n",
              "    <tr>\n",
              "      <th>4</th>\n",
              "      <td>negative</td>\n",
              "      <td>virginamerica realli big bad thing</td>\n",
              "    </tr>\n",
              "  </tbody>\n",
              "</table>\n",
              "</div>"
            ],
            "text/plain": [
              "  airline_sentiment                                               text\n",
              "0           neutral                        virginamerica dhepburn said\n",
              "1          positive         virginamerica plu ad commerci experi tacki\n",
              "2           neutral  virginamerica not today must mean need take an...\n",
              "3          negative  virginamerica realli aggress blast obnoxi ente...\n",
              "4          negative                 virginamerica realli big bad thing"
            ]
          },
          "metadata": {
            "tags": []
          },
          "execution_count": 66
        }
      ]
    },
    {
      "cell_type": "code",
      "metadata": {
        "colab": {
          "base_uri": "https://localhost:8080/",
          "height": 240
        },
        "id": "90aff238",
        "outputId": "bf06b275-046d-4424-ebc3-812cd80ce07b"
      },
      "source": [
        "text_prepocessor = TextPreprocessor('lemma',nlp)\n",
        "text_prepocessor.fit(first5)\n",
        "first5_lemma = text_prepocessor.transform(first5)\n",
        "first5_lemma"
      ],
      "id": "90aff238",
      "execution_count": 67,
      "outputs": [
        {
          "output_type": "stream",
          "text": [
            "-- TextPreprocessor::fit() -- type: lemma\n",
            "-- TextPreprocessor::transform() --\n"
          ],
          "name": "stdout"
        },
        {
          "output_type": "execute_result",
          "data": {
            "text/html": [
              "<div>\n",
              "<style scoped>\n",
              "    .dataframe tbody tr th:only-of-type {\n",
              "        vertical-align: middle;\n",
              "    }\n",
              "\n",
              "    .dataframe tbody tr th {\n",
              "        vertical-align: top;\n",
              "    }\n",
              "\n",
              "    .dataframe thead th {\n",
              "        text-align: right;\n",
              "    }\n",
              "</style>\n",
              "<table border=\"1\" class=\"dataframe\">\n",
              "  <thead>\n",
              "    <tr style=\"text-align: right;\">\n",
              "      <th></th>\n",
              "      <th>airline_sentiment</th>\n",
              "      <th>text</th>\n",
              "    </tr>\n",
              "  </thead>\n",
              "  <tbody>\n",
              "    <tr>\n",
              "      <th>0</th>\n",
              "      <td>neutral</td>\n",
              "      <td>virginamerica dhepburn say virginamerica dhepb...</td>\n",
              "    </tr>\n",
              "    <tr>\n",
              "      <th>1</th>\n",
              "      <td>positive</td>\n",
              "      <td>virginamerica plus add commercial experience t...</td>\n",
              "    </tr>\n",
              "    <tr>\n",
              "      <th>2</th>\n",
              "      <td>neutral</td>\n",
              "      <td>virginamerica not today must mean nee take ano...</td>\n",
              "    </tr>\n",
              "    <tr>\n",
              "      <th>3</th>\n",
              "      <td>negative</td>\n",
              "      <td>virginamerica really aggressive blast obnoxiou...</td>\n",
              "    </tr>\n",
              "    <tr>\n",
              "      <th>4</th>\n",
              "      <td>negative</td>\n",
              "      <td>virginamerica really big bad thing virginameri...</td>\n",
              "    </tr>\n",
              "  </tbody>\n",
              "</table>\n",
              "</div>"
            ],
            "text/plain": [
              "  airline_sentiment                                               text\n",
              "0           neutral  virginamerica dhepburn say virginamerica dhepb...\n",
              "1          positive  virginamerica plus add commercial experience t...\n",
              "2           neutral  virginamerica not today must mean nee take ano...\n",
              "3          negative  virginamerica really aggressive blast obnoxiou...\n",
              "4          negative  virginamerica really big bad thing virginameri..."
            ]
          },
          "metadata": {
            "tags": []
          },
          "execution_count": 67
        }
      ]
    },
    {
      "cell_type": "markdown",
      "metadata": {
        "id": "71eeb426"
      },
      "source": [
        "# 4. Vectorization: \n",
        "## a. Use CountVectorizer.\n",
        "## b. Use TfidfVectorizer."
      ],
      "id": "71eeb426"
    },
    {
      "cell_type": "code",
      "metadata": {
        "id": "52370d55"
      },
      "source": [
        "class TextVectorzer(BaseEstimator, TransformerMixin):\n",
        "    \"\"\"\n",
        "    class TextVectorzer(type) Vectorizes the text in column 'text'.\n",
        "    Parameters:\n",
        "    type - tells TextVectorzer whether to use Count or TF/IDF vectorization\n",
        "           Values: 'count' or 'tfidf'\n",
        "    max_features - maximun number of features\n",
        "    ngram_range  - ngram range\n",
        "    \"\"\"    \n",
        "    vectorizer_ = None\n",
        "    def __init__(self, my_type, max_features, ngram_range):\n",
        "        self.type_ = my_type\n",
        "        self.max_features_ = max_features\n",
        "        self.ngram_range_ = ngram_range\n",
        "        return\n",
        "    \n",
        "\n",
        "    def fit(self, X, y=None, **fit_params):\n",
        "        my_print (\"-- TextVectorzer::fit() -- type: {}, max_features: {}, ngram_range: {}\".format( \n",
        "                  self.type_, self.max_features_, self.ngram_range_))\n",
        "        if (self.type_ == \"count\"):\n",
        "            self.vectorizer_ = CountVectorizer(max_features=self.max_features_, ngram_range=self.ngram_range_)\n",
        "        else:\n",
        "            self.vectorizer_ = TfidfVectorizer(max_features=self.max_features_, ngram_range=self.ngram_range_)\n",
        "        self.vectorizer_.fit(X.text)\n",
        "        return self\n",
        "    \n",
        "    def transform(self, X):\n",
        "        my_print (\"-- TextVectorzer::transform() --\")\n",
        "        features = self.vectorizer_.transform(X['text'])\n",
        "        feature_df = pd.DataFrame(features.toarray(), columns=self.vectorizer_.get_feature_names())\n",
        "        new_X = feature_df.copy()\n",
        "        if 'airline_sentiment' in X.columns:\n",
        "            new_X['airline_sentiment'] = X['airline_sentiment'].to_numpy()\n",
        "        new_X['text'] = X['text'].to_numpy()        \n",
        "        return new_X\n",
        "    \n",
        "    def get_params(self, deep=True):\n",
        "        return {\"my_type\": self.type_,\n",
        "               \"max_features\": self.max_features_,\n",
        "               \"ngram_range\": self.ngram_range_}\n",
        "\n",
        "    def set_params(self, **parameters):\n",
        "        for parameter, value in parameters.items():\n",
        "            if parameter == \"my_type\":\n",
        "                p = \"type_\"\n",
        "                self.type_ = value\n",
        "            elif parameter == \"max_features\":\n",
        "                p = \"max_features_\"\n",
        "                self.max_features_ = value\n",
        "            elif parameter == \"ngram_range\":\n",
        "                p = \"ngram_range_\"\n",
        "                self.ngram_range_ = value\n",
        "            my_print(\"TextVectorzer setattr {} = {}\".format(p, value))    \n",
        "            #setattr(self, parameter, value)\n",
        "        return self\n",
        "    "
      ],
      "id": "52370d55",
      "execution_count": 68,
      "outputs": []
    },
    {
      "cell_type": "code",
      "metadata": {
        "colab": {
          "base_uri": "https://localhost:8080/"
        },
        "id": "9ea0692f",
        "outputId": "2c8b0655-f00a-4562-bb56-0862ebc909a2"
      },
      "source": [
        "vectorizer = TextVectorzer('count', 10, (1,1))\n",
        "vectorizer.fit(first5_lemma)\n",
        "first5_count = vectorizer.transform(first5_lemma)\n",
        "print(first5_count)"
      ],
      "id": "9ea0692f",
      "execution_count": 69,
      "outputs": [
        {
          "output_type": "stream",
          "text": [
            "-- TextVectorzer::fit() -- type: count, max_features: 10, ngram_range: (1, 1)\n",
            "-- TextVectorzer::transform() --\n",
            "   aggressive  ...                                               text\n",
            "0           0  ...  virginamerica dhepburn say virginamerica dhepb...\n",
            "1           0  ...  virginamerica plus add commercial experience t...\n",
            "2           0  ...  virginamerica not today must mean nee take ano...\n",
            "3          10  ...  virginamerica really aggressive blast obnoxiou...\n",
            "4           0  ...  virginamerica really big bad thing virginameri...\n",
            "\n",
            "[5 rows x 12 columns]\n"
          ],
          "name": "stdout"
        }
      ]
    },
    {
      "cell_type": "code",
      "metadata": {
        "colab": {
          "base_uri": "https://localhost:8080/"
        },
        "id": "c1f5eed5",
        "outputId": "5b4c63da-d022-4a62-d2f4-90de9fd977cb"
      },
      "source": [
        "vectorizer = TextVectorzer('tfidf', 10, (1,1))\n",
        "vectorizer.fit(first5_lemma)\n",
        "first5_count = vectorizer.transform(first5_lemma)\n",
        "print(first5_count)"
      ],
      "id": "c1f5eed5",
      "execution_count": 70,
      "outputs": [
        {
          "output_type": "stream",
          "text": [
            "-- TextVectorzer::fit() -- type: tfidf, max_features: 10, ngram_range: (1, 1)\n",
            "-- TextVectorzer::transform() --\n",
            "   aggressive  ...                                               text\n",
            "0    0.000000  ...  virginamerica dhepburn say virginamerica dhepb...\n",
            "1    0.000000  ...  virginamerica plus add commercial experience t...\n",
            "2    0.000000  ...  virginamerica not today must mean nee take ano...\n",
            "3    0.335616  ...  virginamerica really aggressive blast obnoxiou...\n",
            "4    0.000000  ...  virginamerica really big bad thing virginameri...\n",
            "\n",
            "[5 rows x 12 columns]\n"
          ],
          "name": "stdout"
        }
      ]
    },
    {
      "cell_type": "markdown",
      "metadata": {
        "id": "e0f96273"
      },
      "source": [
        "## Test classes in a pipeline"
      ],
      "id": "e0f96273"
    },
    {
      "cell_type": "code",
      "metadata": {
        "id": "8e64b26b"
      },
      "source": [
        "from sklearn.pipeline import Pipeline\n",
        "from sklearn.pipeline import make_pipeline\n",
        "from sklearn.model_selection import train_test_split"
      ],
      "id": "8e64b26b",
      "execution_count": 71,
      "outputs": []
    },
    {
      "cell_type": "code",
      "metadata": {
        "colab": {
          "base_uri": "https://localhost:8080/"
        },
        "id": "9816a9d5",
        "outputId": "3b242754-9e81-435a-9d10-e60fdb3a02e1"
      },
      "source": [
        "dropper = ColumnDropper(columns_to_drop)\n",
        "text_prepocessor = TextPreprocessor(my_type='lemma', nlp='nlp')\n",
        "vectorizer = TextVectorzer('tfidf', 8, (1,1))\n",
        "dropper2 = ColumnDropper(['text'])\n",
        "pipeline = make_pipeline(dropper, text_prepocessor, vectorizer, dropper2)\n",
        "sample_data = orig_data.sample(5).drop(columns='airline_sentiment')\n",
        "pipeline.fit(sample_data)\n",
        "transformed_sample_data = pipeline.transform(sample_data)\n",
        "print(transformed_sample_data)"
      ],
      "id": "9816a9d5",
      "execution_count": 72,
      "outputs": [
        {
          "output_type": "stream",
          "text": [
            "-- ColumnDropper::fit() --\n",
            "-- ColumnDropper::transform() --\n",
            "-- TextPreprocessor::fit() -- type: lemma\n",
            "-- TextPreprocessor::transform() --\n",
            "-- TextVectorzer::fit() -- type: tfidf, max_features: 8, ngram_range: (1, 1)\n",
            "-- TextVectorzer::transform() --\n",
            "-- ColumnDropper::fit() --\n",
            "-- ColumnDropper::transform() --\n",
            "-- TextPreprocessor::transform() --\n",
            "-- TextVectorzer::transform() --\n",
            "-- ColumnDropper::transform() --\n",
            "        bag    flight        go    happen   instead  miss      next   orlando\n",
            "0  0.707107  0.707107  0.000000  0.000000  0.000000   0.0  0.000000  0.000000\n",
            "1  0.500000  0.500000  0.500000  0.000000  0.000000   0.5  0.000000  0.000000\n",
            "2  0.000000  0.000000  0.374105  0.463693  0.463693   0.0  0.463693  0.463693\n",
            "3  0.000000  0.000000  0.000000  0.000000  0.000000   0.0  0.000000  0.000000\n",
            "4  0.000000  0.000000  0.000000  0.000000  0.000000   1.0  0.000000  0.000000\n"
          ],
          "name": "stdout"
        }
      ]
    },
    {
      "cell_type": "markdown",
      "metadata": {
        "id": "4d08d0e2"
      },
      "source": [
        "## Count words and find an optimal number of features"
      ],
      "id": "4d08d0e2"
    },
    {
      "cell_type": "code",
      "metadata": {
        "colab": {
          "base_uri": "https://localhost:8080/"
        },
        "id": "m0EUUGyQ01Tm",
        "outputId": "dc0d1ae5-cc4e-40fb-f6d9-c1f9ea4443df"
      },
      "source": [
        "dropper_x1 = ColumnDropper(columns_to_drop)\n",
        "dropper_x2 = ColumnDropper('airline_sentiment')\n",
        "dropper_x1.fit(orig_data)\n",
        "transformed_data = dropper_x1.transform(orig_data)\n",
        "dropper_x2.fit(orig_data)\n",
        "transformed_data = dropper_x2.transform(transformed_data)"
      ],
      "id": "m0EUUGyQ01Tm",
      "execution_count": 73,
      "outputs": [
        {
          "output_type": "stream",
          "text": [
            "-- ColumnDropper::fit() --\n",
            "-- ColumnDropper::transform() --\n",
            "-- ColumnDropper::fit() --\n",
            "-- ColumnDropper::transform() --\n"
          ],
          "name": "stdout"
        }
      ]
    },
    {
      "cell_type": "code",
      "metadata": {
        "colab": {
          "base_uri": "https://localhost:8080/"
        },
        "id": "eWACCXFr2IQt",
        "outputId": "0ae42133-0599-43f9-958e-ff00b99eecc3"
      },
      "source": [
        "preprocessor_x1 = TextPreprocessor('stem', nlp)\n",
        "preprocessor_x1.fit(transformed_data)\n",
        "transformed_data = preprocessor_x1.transform(transformed_data)"
      ],
      "id": "eWACCXFr2IQt",
      "execution_count": 74,
      "outputs": [
        {
          "output_type": "stream",
          "text": [
            "-- TextPreprocessor::fit() -- type: stem\n",
            "-- TextPreprocessor::transform() --\n"
          ],
          "name": "stdout"
        }
      ]
    },
    {
      "cell_type": "code",
      "metadata": {
        "colab": {
          "base_uri": "https://localhost:8080/"
        },
        "id": "tO1Amyg_2-M2",
        "outputId": "ab941187-79d7-431b-8f28-6e9556b5779b"
      },
      "source": [
        "vectorizer_x1 = TextVectorzer('count', None, (1,1))\n",
        "vectorizer_x1.fit(transformed_data)\n",
        "transformed_data = vectorizer_x1.transform(transformed_data)"
      ],
      "id": "tO1Amyg_2-M2",
      "execution_count": 75,
      "outputs": [
        {
          "output_type": "stream",
          "text": [
            "-- TextVectorzer::fit() -- type: count, max_features: None, ngram_range: (1, 1)\n",
            "-- TextVectorzer::transform() --\n"
          ],
          "name": "stdout"
        }
      ]
    },
    {
      "cell_type": "code",
      "metadata": {
        "colab": {
          "base_uri": "https://localhost:8080/",
          "height": 411
        },
        "id": "y6MxYdYe23Nv",
        "outputId": "26f46966-e1c2-43a7-b919-f373ad1ad95e"
      },
      "source": [
        "transformed_data.head(10)"
      ],
      "id": "y6MxYdYe23Nv",
      "execution_count": 76,
      "outputs": [
        {
          "output_type": "execute_result",
          "data": {
            "text/html": [
              "<div>\n",
              "<style scoped>\n",
              "    .dataframe tbody tr th:only-of-type {\n",
              "        vertical-align: middle;\n",
              "    }\n",
              "\n",
              "    .dataframe tbody tr th {\n",
              "        vertical-align: top;\n",
              "    }\n",
              "\n",
              "    .dataframe thead th {\n",
              "        text-align: right;\n",
              "    }\n",
              "</style>\n",
              "<table border=\"1\" class=\"dataframe\">\n",
              "  <thead>\n",
              "    <tr style=\"text-align: right;\">\n",
              "      <th></th>\n",
              "      <th>aa</th>\n",
              "      <th>aaaand</th>\n",
              "      <th>aaadvantag</th>\n",
              "      <th>aaalwaysl</th>\n",
              "      <th>aaba</th>\n",
              "      <th>aacom</th>\n",
              "      <th>aacustomerservic</th>\n",
              "      <th>aadavantag</th>\n",
              "      <th>aadelay</th>\n",
              "      <th>aadfw</th>\n",
              "      <th>aadv</th>\n",
              "      <th>aadvantag</th>\n",
              "      <th>aafail</th>\n",
              "      <th>aal</th>\n",
              "      <th>aano</th>\n",
              "      <th>aaron</th>\n",
              "      <th>aarp</th>\n",
              "      <th>aaso</th>\n",
              "      <th>aateam</th>\n",
              "      <th>aau</th>\n",
              "      <th>ab</th>\n",
              "      <th>aback</th>\n",
              "      <th>abandon</th>\n",
              "      <th>abassinet</th>\n",
              "      <th>abbrev</th>\n",
              "      <th>abc</th>\n",
              "      <th>abcdef</th>\n",
              "      <th>abcletjetbluestreamfe</th>\n",
              "      <th>abcnetwork</th>\n",
              "      <th>abcnew</th>\n",
              "      <th>abcnewsbayarea</th>\n",
              "      <th>abcwtvd</th>\n",
              "      <th>abduct</th>\n",
              "      <th>abi</th>\n",
              "      <th>abidfw</th>\n",
              "      <th>abigailedg</th>\n",
              "      <th>abil</th>\n",
              "      <th>abl</th>\n",
              "      <th>aboard</th>\n",
              "      <th>aboout</th>\n",
              "      <th>...</th>\n",
              "      <th>yr</th>\n",
              "      <th>yrold</th>\n",
              "      <th>yroldtwin</th>\n",
              "      <th>ystday</th>\n",
              "      <th>ystrdi</th>\n",
              "      <th>yuck</th>\n",
              "      <th>yucki</th>\n",
              "      <th>yulord</th>\n",
              "      <th>yuma</th>\n",
              "      <th>yummi</th>\n",
              "      <th>yup</th>\n",
              "      <th>yvonn</th>\n",
              "      <th>yvonneokaka</th>\n",
              "      <th>yvr</th>\n",
              "      <th>yxe</th>\n",
              "      <th>yxu</th>\n",
              "      <th>yyc</th>\n",
              "      <th>yyj</th>\n",
              "      <th>yyz</th>\n",
              "      <th>yyzua</th>\n",
              "      <th>zabsonr</th>\n",
              "      <th>zackscom</th>\n",
              "      <th>zakkohan</th>\n",
              "      <th>zambia</th>\n",
              "      <th>zccu</th>\n",
              "      <th>zero</th>\n",
              "      <th>zfv</th>\n",
              "      <th>zigzag</th>\n",
              "      <th>zip</th>\n",
              "      <th>zipper</th>\n",
              "      <th>zj</th>\n",
              "      <th>zkatcher</th>\n",
              "      <th>zombi</th>\n",
              "      <th>zone</th>\n",
              "      <th>zoom</th>\n",
              "      <th>zrh</th>\n",
              "      <th>zrhairport</th>\n",
              "      <th>zuke</th>\n",
              "      <th>zurich</th>\n",
              "      <th>zurichnew</th>\n",
              "    </tr>\n",
              "  </thead>\n",
              "  <tbody>\n",
              "    <tr>\n",
              "      <th>0</th>\n",
              "      <td>0</td>\n",
              "      <td>0</td>\n",
              "      <td>0</td>\n",
              "      <td>0</td>\n",
              "      <td>0</td>\n",
              "      <td>0</td>\n",
              "      <td>0</td>\n",
              "      <td>0</td>\n",
              "      <td>0</td>\n",
              "      <td>0</td>\n",
              "      <td>0</td>\n",
              "      <td>0</td>\n",
              "      <td>0</td>\n",
              "      <td>0</td>\n",
              "      <td>0</td>\n",
              "      <td>0</td>\n",
              "      <td>0</td>\n",
              "      <td>0</td>\n",
              "      <td>0</td>\n",
              "      <td>0</td>\n",
              "      <td>0</td>\n",
              "      <td>0</td>\n",
              "      <td>0</td>\n",
              "      <td>0</td>\n",
              "      <td>0</td>\n",
              "      <td>0</td>\n",
              "      <td>0</td>\n",
              "      <td>0</td>\n",
              "      <td>0</td>\n",
              "      <td>0</td>\n",
              "      <td>0</td>\n",
              "      <td>0</td>\n",
              "      <td>0</td>\n",
              "      <td>0</td>\n",
              "      <td>0</td>\n",
              "      <td>0</td>\n",
              "      <td>0</td>\n",
              "      <td>0</td>\n",
              "      <td>0</td>\n",
              "      <td>0</td>\n",
              "      <td>...</td>\n",
              "      <td>0</td>\n",
              "      <td>0</td>\n",
              "      <td>0</td>\n",
              "      <td>0</td>\n",
              "      <td>0</td>\n",
              "      <td>0</td>\n",
              "      <td>0</td>\n",
              "      <td>0</td>\n",
              "      <td>0</td>\n",
              "      <td>0</td>\n",
              "      <td>0</td>\n",
              "      <td>0</td>\n",
              "      <td>0</td>\n",
              "      <td>0</td>\n",
              "      <td>0</td>\n",
              "      <td>0</td>\n",
              "      <td>0</td>\n",
              "      <td>0</td>\n",
              "      <td>0</td>\n",
              "      <td>0</td>\n",
              "      <td>0</td>\n",
              "      <td>0</td>\n",
              "      <td>0</td>\n",
              "      <td>0</td>\n",
              "      <td>0</td>\n",
              "      <td>0</td>\n",
              "      <td>0</td>\n",
              "      <td>0</td>\n",
              "      <td>0</td>\n",
              "      <td>0</td>\n",
              "      <td>0</td>\n",
              "      <td>0</td>\n",
              "      <td>0</td>\n",
              "      <td>0</td>\n",
              "      <td>0</td>\n",
              "      <td>0</td>\n",
              "      <td>0</td>\n",
              "      <td>0</td>\n",
              "      <td>0</td>\n",
              "      <td>0</td>\n",
              "    </tr>\n",
              "    <tr>\n",
              "      <th>1</th>\n",
              "      <td>0</td>\n",
              "      <td>0</td>\n",
              "      <td>0</td>\n",
              "      <td>0</td>\n",
              "      <td>0</td>\n",
              "      <td>0</td>\n",
              "      <td>0</td>\n",
              "      <td>0</td>\n",
              "      <td>0</td>\n",
              "      <td>0</td>\n",
              "      <td>0</td>\n",
              "      <td>0</td>\n",
              "      <td>0</td>\n",
              "      <td>0</td>\n",
              "      <td>0</td>\n",
              "      <td>0</td>\n",
              "      <td>0</td>\n",
              "      <td>0</td>\n",
              "      <td>0</td>\n",
              "      <td>0</td>\n",
              "      <td>0</td>\n",
              "      <td>0</td>\n",
              "      <td>0</td>\n",
              "      <td>0</td>\n",
              "      <td>0</td>\n",
              "      <td>0</td>\n",
              "      <td>0</td>\n",
              "      <td>0</td>\n",
              "      <td>0</td>\n",
              "      <td>0</td>\n",
              "      <td>0</td>\n",
              "      <td>0</td>\n",
              "      <td>0</td>\n",
              "      <td>0</td>\n",
              "      <td>0</td>\n",
              "      <td>0</td>\n",
              "      <td>0</td>\n",
              "      <td>0</td>\n",
              "      <td>0</td>\n",
              "      <td>0</td>\n",
              "      <td>...</td>\n",
              "      <td>0</td>\n",
              "      <td>0</td>\n",
              "      <td>0</td>\n",
              "      <td>0</td>\n",
              "      <td>0</td>\n",
              "      <td>0</td>\n",
              "      <td>0</td>\n",
              "      <td>0</td>\n",
              "      <td>0</td>\n",
              "      <td>0</td>\n",
              "      <td>0</td>\n",
              "      <td>0</td>\n",
              "      <td>0</td>\n",
              "      <td>0</td>\n",
              "      <td>0</td>\n",
              "      <td>0</td>\n",
              "      <td>0</td>\n",
              "      <td>0</td>\n",
              "      <td>0</td>\n",
              "      <td>0</td>\n",
              "      <td>0</td>\n",
              "      <td>0</td>\n",
              "      <td>0</td>\n",
              "      <td>0</td>\n",
              "      <td>0</td>\n",
              "      <td>0</td>\n",
              "      <td>0</td>\n",
              "      <td>0</td>\n",
              "      <td>0</td>\n",
              "      <td>0</td>\n",
              "      <td>0</td>\n",
              "      <td>0</td>\n",
              "      <td>0</td>\n",
              "      <td>0</td>\n",
              "      <td>0</td>\n",
              "      <td>0</td>\n",
              "      <td>0</td>\n",
              "      <td>0</td>\n",
              "      <td>0</td>\n",
              "      <td>0</td>\n",
              "    </tr>\n",
              "    <tr>\n",
              "      <th>2</th>\n",
              "      <td>0</td>\n",
              "      <td>0</td>\n",
              "      <td>0</td>\n",
              "      <td>0</td>\n",
              "      <td>0</td>\n",
              "      <td>0</td>\n",
              "      <td>0</td>\n",
              "      <td>0</td>\n",
              "      <td>0</td>\n",
              "      <td>0</td>\n",
              "      <td>0</td>\n",
              "      <td>0</td>\n",
              "      <td>0</td>\n",
              "      <td>0</td>\n",
              "      <td>0</td>\n",
              "      <td>0</td>\n",
              "      <td>0</td>\n",
              "      <td>0</td>\n",
              "      <td>0</td>\n",
              "      <td>0</td>\n",
              "      <td>0</td>\n",
              "      <td>0</td>\n",
              "      <td>0</td>\n",
              "      <td>0</td>\n",
              "      <td>0</td>\n",
              "      <td>0</td>\n",
              "      <td>0</td>\n",
              "      <td>0</td>\n",
              "      <td>0</td>\n",
              "      <td>0</td>\n",
              "      <td>0</td>\n",
              "      <td>0</td>\n",
              "      <td>0</td>\n",
              "      <td>0</td>\n",
              "      <td>0</td>\n",
              "      <td>0</td>\n",
              "      <td>0</td>\n",
              "      <td>0</td>\n",
              "      <td>0</td>\n",
              "      <td>0</td>\n",
              "      <td>...</td>\n",
              "      <td>0</td>\n",
              "      <td>0</td>\n",
              "      <td>0</td>\n",
              "      <td>0</td>\n",
              "      <td>0</td>\n",
              "      <td>0</td>\n",
              "      <td>0</td>\n",
              "      <td>0</td>\n",
              "      <td>0</td>\n",
              "      <td>0</td>\n",
              "      <td>0</td>\n",
              "      <td>0</td>\n",
              "      <td>0</td>\n",
              "      <td>0</td>\n",
              "      <td>0</td>\n",
              "      <td>0</td>\n",
              "      <td>0</td>\n",
              "      <td>0</td>\n",
              "      <td>0</td>\n",
              "      <td>0</td>\n",
              "      <td>0</td>\n",
              "      <td>0</td>\n",
              "      <td>0</td>\n",
              "      <td>0</td>\n",
              "      <td>0</td>\n",
              "      <td>0</td>\n",
              "      <td>0</td>\n",
              "      <td>0</td>\n",
              "      <td>0</td>\n",
              "      <td>0</td>\n",
              "      <td>0</td>\n",
              "      <td>0</td>\n",
              "      <td>0</td>\n",
              "      <td>0</td>\n",
              "      <td>0</td>\n",
              "      <td>0</td>\n",
              "      <td>0</td>\n",
              "      <td>0</td>\n",
              "      <td>0</td>\n",
              "      <td>0</td>\n",
              "    </tr>\n",
              "    <tr>\n",
              "      <th>3</th>\n",
              "      <td>0</td>\n",
              "      <td>0</td>\n",
              "      <td>0</td>\n",
              "      <td>0</td>\n",
              "      <td>0</td>\n",
              "      <td>0</td>\n",
              "      <td>0</td>\n",
              "      <td>0</td>\n",
              "      <td>0</td>\n",
              "      <td>0</td>\n",
              "      <td>0</td>\n",
              "      <td>0</td>\n",
              "      <td>0</td>\n",
              "      <td>0</td>\n",
              "      <td>0</td>\n",
              "      <td>0</td>\n",
              "      <td>0</td>\n",
              "      <td>0</td>\n",
              "      <td>0</td>\n",
              "      <td>0</td>\n",
              "      <td>0</td>\n",
              "      <td>0</td>\n",
              "      <td>0</td>\n",
              "      <td>0</td>\n",
              "      <td>0</td>\n",
              "      <td>0</td>\n",
              "      <td>0</td>\n",
              "      <td>0</td>\n",
              "      <td>0</td>\n",
              "      <td>0</td>\n",
              "      <td>0</td>\n",
              "      <td>0</td>\n",
              "      <td>0</td>\n",
              "      <td>0</td>\n",
              "      <td>0</td>\n",
              "      <td>0</td>\n",
              "      <td>0</td>\n",
              "      <td>0</td>\n",
              "      <td>0</td>\n",
              "      <td>0</td>\n",
              "      <td>...</td>\n",
              "      <td>0</td>\n",
              "      <td>0</td>\n",
              "      <td>0</td>\n",
              "      <td>0</td>\n",
              "      <td>0</td>\n",
              "      <td>0</td>\n",
              "      <td>0</td>\n",
              "      <td>0</td>\n",
              "      <td>0</td>\n",
              "      <td>0</td>\n",
              "      <td>0</td>\n",
              "      <td>0</td>\n",
              "      <td>0</td>\n",
              "      <td>0</td>\n",
              "      <td>0</td>\n",
              "      <td>0</td>\n",
              "      <td>0</td>\n",
              "      <td>0</td>\n",
              "      <td>0</td>\n",
              "      <td>0</td>\n",
              "      <td>0</td>\n",
              "      <td>0</td>\n",
              "      <td>0</td>\n",
              "      <td>0</td>\n",
              "      <td>0</td>\n",
              "      <td>0</td>\n",
              "      <td>0</td>\n",
              "      <td>0</td>\n",
              "      <td>0</td>\n",
              "      <td>0</td>\n",
              "      <td>0</td>\n",
              "      <td>0</td>\n",
              "      <td>0</td>\n",
              "      <td>0</td>\n",
              "      <td>0</td>\n",
              "      <td>0</td>\n",
              "      <td>0</td>\n",
              "      <td>0</td>\n",
              "      <td>0</td>\n",
              "      <td>0</td>\n",
              "    </tr>\n",
              "    <tr>\n",
              "      <th>4</th>\n",
              "      <td>0</td>\n",
              "      <td>0</td>\n",
              "      <td>0</td>\n",
              "      <td>0</td>\n",
              "      <td>0</td>\n",
              "      <td>0</td>\n",
              "      <td>0</td>\n",
              "      <td>0</td>\n",
              "      <td>0</td>\n",
              "      <td>0</td>\n",
              "      <td>0</td>\n",
              "      <td>0</td>\n",
              "      <td>0</td>\n",
              "      <td>0</td>\n",
              "      <td>0</td>\n",
              "      <td>0</td>\n",
              "      <td>0</td>\n",
              "      <td>0</td>\n",
              "      <td>0</td>\n",
              "      <td>0</td>\n",
              "      <td>0</td>\n",
              "      <td>0</td>\n",
              "      <td>0</td>\n",
              "      <td>0</td>\n",
              "      <td>0</td>\n",
              "      <td>0</td>\n",
              "      <td>0</td>\n",
              "      <td>0</td>\n",
              "      <td>0</td>\n",
              "      <td>0</td>\n",
              "      <td>0</td>\n",
              "      <td>0</td>\n",
              "      <td>0</td>\n",
              "      <td>0</td>\n",
              "      <td>0</td>\n",
              "      <td>0</td>\n",
              "      <td>0</td>\n",
              "      <td>0</td>\n",
              "      <td>0</td>\n",
              "      <td>0</td>\n",
              "      <td>...</td>\n",
              "      <td>0</td>\n",
              "      <td>0</td>\n",
              "      <td>0</td>\n",
              "      <td>0</td>\n",
              "      <td>0</td>\n",
              "      <td>0</td>\n",
              "      <td>0</td>\n",
              "      <td>0</td>\n",
              "      <td>0</td>\n",
              "      <td>0</td>\n",
              "      <td>0</td>\n",
              "      <td>0</td>\n",
              "      <td>0</td>\n",
              "      <td>0</td>\n",
              "      <td>0</td>\n",
              "      <td>0</td>\n",
              "      <td>0</td>\n",
              "      <td>0</td>\n",
              "      <td>0</td>\n",
              "      <td>0</td>\n",
              "      <td>0</td>\n",
              "      <td>0</td>\n",
              "      <td>0</td>\n",
              "      <td>0</td>\n",
              "      <td>0</td>\n",
              "      <td>0</td>\n",
              "      <td>0</td>\n",
              "      <td>0</td>\n",
              "      <td>0</td>\n",
              "      <td>0</td>\n",
              "      <td>0</td>\n",
              "      <td>0</td>\n",
              "      <td>0</td>\n",
              "      <td>0</td>\n",
              "      <td>0</td>\n",
              "      <td>0</td>\n",
              "      <td>0</td>\n",
              "      <td>0</td>\n",
              "      <td>0</td>\n",
              "      <td>0</td>\n",
              "    </tr>\n",
              "    <tr>\n",
              "      <th>5</th>\n",
              "      <td>0</td>\n",
              "      <td>0</td>\n",
              "      <td>0</td>\n",
              "      <td>0</td>\n",
              "      <td>0</td>\n",
              "      <td>0</td>\n",
              "      <td>0</td>\n",
              "      <td>0</td>\n",
              "      <td>0</td>\n",
              "      <td>0</td>\n",
              "      <td>0</td>\n",
              "      <td>0</td>\n",
              "      <td>0</td>\n",
              "      <td>0</td>\n",
              "      <td>0</td>\n",
              "      <td>0</td>\n",
              "      <td>0</td>\n",
              "      <td>0</td>\n",
              "      <td>0</td>\n",
              "      <td>0</td>\n",
              "      <td>0</td>\n",
              "      <td>0</td>\n",
              "      <td>0</td>\n",
              "      <td>0</td>\n",
              "      <td>0</td>\n",
              "      <td>0</td>\n",
              "      <td>0</td>\n",
              "      <td>0</td>\n",
              "      <td>0</td>\n",
              "      <td>0</td>\n",
              "      <td>0</td>\n",
              "      <td>0</td>\n",
              "      <td>0</td>\n",
              "      <td>0</td>\n",
              "      <td>0</td>\n",
              "      <td>0</td>\n",
              "      <td>0</td>\n",
              "      <td>0</td>\n",
              "      <td>0</td>\n",
              "      <td>0</td>\n",
              "      <td>...</td>\n",
              "      <td>0</td>\n",
              "      <td>0</td>\n",
              "      <td>0</td>\n",
              "      <td>0</td>\n",
              "      <td>0</td>\n",
              "      <td>0</td>\n",
              "      <td>0</td>\n",
              "      <td>0</td>\n",
              "      <td>0</td>\n",
              "      <td>0</td>\n",
              "      <td>0</td>\n",
              "      <td>0</td>\n",
              "      <td>0</td>\n",
              "      <td>0</td>\n",
              "      <td>0</td>\n",
              "      <td>0</td>\n",
              "      <td>0</td>\n",
              "      <td>0</td>\n",
              "      <td>0</td>\n",
              "      <td>0</td>\n",
              "      <td>0</td>\n",
              "      <td>0</td>\n",
              "      <td>0</td>\n",
              "      <td>0</td>\n",
              "      <td>0</td>\n",
              "      <td>0</td>\n",
              "      <td>0</td>\n",
              "      <td>0</td>\n",
              "      <td>0</td>\n",
              "      <td>0</td>\n",
              "      <td>0</td>\n",
              "      <td>0</td>\n",
              "      <td>0</td>\n",
              "      <td>0</td>\n",
              "      <td>0</td>\n",
              "      <td>0</td>\n",
              "      <td>0</td>\n",
              "      <td>0</td>\n",
              "      <td>0</td>\n",
              "      <td>0</td>\n",
              "    </tr>\n",
              "    <tr>\n",
              "      <th>6</th>\n",
              "      <td>0</td>\n",
              "      <td>0</td>\n",
              "      <td>0</td>\n",
              "      <td>0</td>\n",
              "      <td>0</td>\n",
              "      <td>0</td>\n",
              "      <td>0</td>\n",
              "      <td>0</td>\n",
              "      <td>0</td>\n",
              "      <td>0</td>\n",
              "      <td>0</td>\n",
              "      <td>0</td>\n",
              "      <td>0</td>\n",
              "      <td>0</td>\n",
              "      <td>0</td>\n",
              "      <td>0</td>\n",
              "      <td>0</td>\n",
              "      <td>0</td>\n",
              "      <td>0</td>\n",
              "      <td>0</td>\n",
              "      <td>0</td>\n",
              "      <td>0</td>\n",
              "      <td>0</td>\n",
              "      <td>0</td>\n",
              "      <td>0</td>\n",
              "      <td>0</td>\n",
              "      <td>0</td>\n",
              "      <td>0</td>\n",
              "      <td>0</td>\n",
              "      <td>0</td>\n",
              "      <td>0</td>\n",
              "      <td>0</td>\n",
              "      <td>0</td>\n",
              "      <td>0</td>\n",
              "      <td>0</td>\n",
              "      <td>0</td>\n",
              "      <td>0</td>\n",
              "      <td>0</td>\n",
              "      <td>0</td>\n",
              "      <td>0</td>\n",
              "      <td>...</td>\n",
              "      <td>0</td>\n",
              "      <td>0</td>\n",
              "      <td>0</td>\n",
              "      <td>0</td>\n",
              "      <td>0</td>\n",
              "      <td>0</td>\n",
              "      <td>0</td>\n",
              "      <td>0</td>\n",
              "      <td>0</td>\n",
              "      <td>0</td>\n",
              "      <td>0</td>\n",
              "      <td>0</td>\n",
              "      <td>0</td>\n",
              "      <td>0</td>\n",
              "      <td>0</td>\n",
              "      <td>0</td>\n",
              "      <td>0</td>\n",
              "      <td>0</td>\n",
              "      <td>0</td>\n",
              "      <td>0</td>\n",
              "      <td>0</td>\n",
              "      <td>0</td>\n",
              "      <td>0</td>\n",
              "      <td>0</td>\n",
              "      <td>0</td>\n",
              "      <td>0</td>\n",
              "      <td>0</td>\n",
              "      <td>0</td>\n",
              "      <td>0</td>\n",
              "      <td>0</td>\n",
              "      <td>0</td>\n",
              "      <td>0</td>\n",
              "      <td>0</td>\n",
              "      <td>0</td>\n",
              "      <td>0</td>\n",
              "      <td>0</td>\n",
              "      <td>0</td>\n",
              "      <td>0</td>\n",
              "      <td>0</td>\n",
              "      <td>0</td>\n",
              "    </tr>\n",
              "    <tr>\n",
              "      <th>7</th>\n",
              "      <td>0</td>\n",
              "      <td>0</td>\n",
              "      <td>0</td>\n",
              "      <td>0</td>\n",
              "      <td>0</td>\n",
              "      <td>0</td>\n",
              "      <td>0</td>\n",
              "      <td>0</td>\n",
              "      <td>0</td>\n",
              "      <td>0</td>\n",
              "      <td>0</td>\n",
              "      <td>0</td>\n",
              "      <td>0</td>\n",
              "      <td>0</td>\n",
              "      <td>0</td>\n",
              "      <td>0</td>\n",
              "      <td>0</td>\n",
              "      <td>0</td>\n",
              "      <td>0</td>\n",
              "      <td>0</td>\n",
              "      <td>0</td>\n",
              "      <td>0</td>\n",
              "      <td>0</td>\n",
              "      <td>0</td>\n",
              "      <td>0</td>\n",
              "      <td>0</td>\n",
              "      <td>0</td>\n",
              "      <td>0</td>\n",
              "      <td>0</td>\n",
              "      <td>0</td>\n",
              "      <td>0</td>\n",
              "      <td>0</td>\n",
              "      <td>0</td>\n",
              "      <td>0</td>\n",
              "      <td>0</td>\n",
              "      <td>0</td>\n",
              "      <td>0</td>\n",
              "      <td>0</td>\n",
              "      <td>0</td>\n",
              "      <td>0</td>\n",
              "      <td>...</td>\n",
              "      <td>0</td>\n",
              "      <td>0</td>\n",
              "      <td>0</td>\n",
              "      <td>0</td>\n",
              "      <td>0</td>\n",
              "      <td>0</td>\n",
              "      <td>0</td>\n",
              "      <td>0</td>\n",
              "      <td>0</td>\n",
              "      <td>0</td>\n",
              "      <td>0</td>\n",
              "      <td>0</td>\n",
              "      <td>0</td>\n",
              "      <td>0</td>\n",
              "      <td>0</td>\n",
              "      <td>0</td>\n",
              "      <td>0</td>\n",
              "      <td>0</td>\n",
              "      <td>0</td>\n",
              "      <td>0</td>\n",
              "      <td>0</td>\n",
              "      <td>0</td>\n",
              "      <td>0</td>\n",
              "      <td>0</td>\n",
              "      <td>0</td>\n",
              "      <td>0</td>\n",
              "      <td>0</td>\n",
              "      <td>0</td>\n",
              "      <td>0</td>\n",
              "      <td>0</td>\n",
              "      <td>0</td>\n",
              "      <td>0</td>\n",
              "      <td>0</td>\n",
              "      <td>0</td>\n",
              "      <td>0</td>\n",
              "      <td>0</td>\n",
              "      <td>0</td>\n",
              "      <td>0</td>\n",
              "      <td>0</td>\n",
              "      <td>0</td>\n",
              "    </tr>\n",
              "    <tr>\n",
              "      <th>8</th>\n",
              "      <td>0</td>\n",
              "      <td>0</td>\n",
              "      <td>0</td>\n",
              "      <td>0</td>\n",
              "      <td>0</td>\n",
              "      <td>0</td>\n",
              "      <td>0</td>\n",
              "      <td>0</td>\n",
              "      <td>0</td>\n",
              "      <td>0</td>\n",
              "      <td>0</td>\n",
              "      <td>0</td>\n",
              "      <td>0</td>\n",
              "      <td>0</td>\n",
              "      <td>0</td>\n",
              "      <td>0</td>\n",
              "      <td>0</td>\n",
              "      <td>0</td>\n",
              "      <td>0</td>\n",
              "      <td>0</td>\n",
              "      <td>0</td>\n",
              "      <td>0</td>\n",
              "      <td>0</td>\n",
              "      <td>0</td>\n",
              "      <td>0</td>\n",
              "      <td>0</td>\n",
              "      <td>0</td>\n",
              "      <td>0</td>\n",
              "      <td>0</td>\n",
              "      <td>0</td>\n",
              "      <td>0</td>\n",
              "      <td>0</td>\n",
              "      <td>0</td>\n",
              "      <td>0</td>\n",
              "      <td>0</td>\n",
              "      <td>0</td>\n",
              "      <td>0</td>\n",
              "      <td>0</td>\n",
              "      <td>0</td>\n",
              "      <td>0</td>\n",
              "      <td>...</td>\n",
              "      <td>0</td>\n",
              "      <td>0</td>\n",
              "      <td>0</td>\n",
              "      <td>0</td>\n",
              "      <td>0</td>\n",
              "      <td>0</td>\n",
              "      <td>0</td>\n",
              "      <td>0</td>\n",
              "      <td>0</td>\n",
              "      <td>0</td>\n",
              "      <td>0</td>\n",
              "      <td>0</td>\n",
              "      <td>0</td>\n",
              "      <td>0</td>\n",
              "      <td>0</td>\n",
              "      <td>0</td>\n",
              "      <td>0</td>\n",
              "      <td>0</td>\n",
              "      <td>0</td>\n",
              "      <td>0</td>\n",
              "      <td>0</td>\n",
              "      <td>0</td>\n",
              "      <td>0</td>\n",
              "      <td>0</td>\n",
              "      <td>0</td>\n",
              "      <td>0</td>\n",
              "      <td>0</td>\n",
              "      <td>0</td>\n",
              "      <td>0</td>\n",
              "      <td>0</td>\n",
              "      <td>0</td>\n",
              "      <td>0</td>\n",
              "      <td>0</td>\n",
              "      <td>0</td>\n",
              "      <td>0</td>\n",
              "      <td>0</td>\n",
              "      <td>0</td>\n",
              "      <td>0</td>\n",
              "      <td>0</td>\n",
              "      <td>0</td>\n",
              "    </tr>\n",
              "    <tr>\n",
              "      <th>9</th>\n",
              "      <td>0</td>\n",
              "      <td>0</td>\n",
              "      <td>0</td>\n",
              "      <td>0</td>\n",
              "      <td>0</td>\n",
              "      <td>0</td>\n",
              "      <td>0</td>\n",
              "      <td>0</td>\n",
              "      <td>0</td>\n",
              "      <td>0</td>\n",
              "      <td>0</td>\n",
              "      <td>0</td>\n",
              "      <td>0</td>\n",
              "      <td>0</td>\n",
              "      <td>0</td>\n",
              "      <td>0</td>\n",
              "      <td>0</td>\n",
              "      <td>0</td>\n",
              "      <td>0</td>\n",
              "      <td>0</td>\n",
              "      <td>0</td>\n",
              "      <td>0</td>\n",
              "      <td>0</td>\n",
              "      <td>0</td>\n",
              "      <td>0</td>\n",
              "      <td>0</td>\n",
              "      <td>0</td>\n",
              "      <td>0</td>\n",
              "      <td>0</td>\n",
              "      <td>0</td>\n",
              "      <td>0</td>\n",
              "      <td>0</td>\n",
              "      <td>0</td>\n",
              "      <td>0</td>\n",
              "      <td>0</td>\n",
              "      <td>0</td>\n",
              "      <td>0</td>\n",
              "      <td>0</td>\n",
              "      <td>0</td>\n",
              "      <td>0</td>\n",
              "      <td>...</td>\n",
              "      <td>0</td>\n",
              "      <td>0</td>\n",
              "      <td>0</td>\n",
              "      <td>0</td>\n",
              "      <td>0</td>\n",
              "      <td>0</td>\n",
              "      <td>0</td>\n",
              "      <td>0</td>\n",
              "      <td>0</td>\n",
              "      <td>0</td>\n",
              "      <td>0</td>\n",
              "      <td>0</td>\n",
              "      <td>0</td>\n",
              "      <td>0</td>\n",
              "      <td>0</td>\n",
              "      <td>0</td>\n",
              "      <td>0</td>\n",
              "      <td>0</td>\n",
              "      <td>0</td>\n",
              "      <td>0</td>\n",
              "      <td>0</td>\n",
              "      <td>0</td>\n",
              "      <td>0</td>\n",
              "      <td>0</td>\n",
              "      <td>0</td>\n",
              "      <td>0</td>\n",
              "      <td>0</td>\n",
              "      <td>0</td>\n",
              "      <td>0</td>\n",
              "      <td>0</td>\n",
              "      <td>0</td>\n",
              "      <td>0</td>\n",
              "      <td>0</td>\n",
              "      <td>0</td>\n",
              "      <td>0</td>\n",
              "      <td>0</td>\n",
              "      <td>0</td>\n",
              "      <td>0</td>\n",
              "      <td>0</td>\n",
              "      <td>0</td>\n",
              "    </tr>\n",
              "  </tbody>\n",
              "</table>\n",
              "<p>10 rows × 11111 columns</p>\n",
              "</div>"
            ],
            "text/plain": [
              "   aa  aaaand  aaadvantag  aaalwaysl  ...  zrhairport  zuke  zurich  zurichnew\n",
              "0   0       0           0          0  ...           0     0       0          0\n",
              "1   0       0           0          0  ...           0     0       0          0\n",
              "2   0       0           0          0  ...           0     0       0          0\n",
              "3   0       0           0          0  ...           0     0       0          0\n",
              "4   0       0           0          0  ...           0     0       0          0\n",
              "5   0       0           0          0  ...           0     0       0          0\n",
              "6   0       0           0          0  ...           0     0       0          0\n",
              "7   0       0           0          0  ...           0     0       0          0\n",
              "8   0       0           0          0  ...           0     0       0          0\n",
              "9   0       0           0          0  ...           0     0       0          0\n",
              "\n",
              "[10 rows x 11111 columns]"
            ]
          },
          "metadata": {
            "tags": []
          },
          "execution_count": 76
        }
      ]
    },
    {
      "cell_type": "code",
      "metadata": {
        "colab": {
          "base_uri": "https://localhost:8080/"
        },
        "id": "UqxWKyAI28d3",
        "outputId": "17cc2c9d-0ba8-4e3c-a5b9-f25edf35e5b6"
      },
      "source": [
        "transformed_data.shape"
      ],
      "id": "UqxWKyAI28d3",
      "execution_count": 77,
      "outputs": [
        {
          "output_type": "execute_result",
          "data": {
            "text/plain": [
              "(14640, 11111)"
            ]
          },
          "metadata": {
            "tags": []
          },
          "execution_count": 77
        }
      ]
    },
    {
      "cell_type": "markdown",
      "metadata": {
        "id": "11Xzvx0wpN-5"
      },
      "source": [
        "There are 11111 words in 14640 documents"
      ],
      "id": "11Xzvx0wpN-5"
    },
    {
      "cell_type": "code",
      "metadata": {
        "id": "cnApC8WHpLzU"
      },
      "source": [
        "df = transformed_data.sum()"
      ],
      "id": "cnApC8WHpLzU",
      "execution_count": 78,
      "outputs": []
    },
    {
      "cell_type": "code",
      "metadata": {
        "id": "UEkTiUaKLP9W"
      },
      "source": [
        "l = df.to_list()\n",
        "f = []\n",
        "for e in l:\n",
        "  if isinstance(e, np.int64):\n",
        "    f.append(e)\n",
        "\n",
        "f= sorted(f, reverse=True)"
      ],
      "id": "UEkTiUaKLP9W",
      "execution_count": 79,
      "outputs": []
    },
    {
      "cell_type": "code",
      "metadata": {
        "id": "MNiBe-lfMYb3"
      },
      "source": [
        "from pandas.core.frame import DataFrame\n",
        "df = DataFrame({\"F\": np.array(f)})"
      ],
      "id": "MNiBe-lfMYb3",
      "execution_count": 80,
      "outputs": []
    },
    {
      "cell_type": "code",
      "metadata": {
        "id": "4-YekRG03slt"
      },
      "source": [
        "df = df.sort_values(\"F\", ascending=False)"
      ],
      "id": "4-YekRG03slt",
      "execution_count": 81,
      "outputs": []
    },
    {
      "cell_type": "code",
      "metadata": {
        "colab": {
          "base_uri": "https://localhost:8080/",
          "height": 673
        },
        "id": "9qOUijdHv5UE",
        "outputId": "656f703c-9a58-4557-eb47-1c7a67d201a6"
      },
      "source": [
        "sns.set(rc={'figure.figsize':(11.7,8.27)})\n",
        "\n",
        "y_ticks = [0.5, 0.6, 0.7, 0.75, 0.8, 0.85, 0.9, 0.95, 0.99]\n",
        "y_ticklabels = [f'{t} %' for t in y_ticks]\n",
        "\n",
        "ax = sns.ecdfplot(x=df.F)\n",
        "\n",
        "ax.yaxis.set_ticks(y_ticks)\n",
        "ax.yaxis.set_ticklabels(y_ticklabels)"
      ],
      "id": "9qOUijdHv5UE",
      "execution_count": 82,
      "outputs": [
        {
          "output_type": "execute_result",
          "data": {
            "text/plain": [
              "[Text(0, 0, '0.5 %'),\n",
              " Text(0, 0, '0.6 %'),\n",
              " Text(0, 0, '0.7 %'),\n",
              " Text(0, 0, '0.75 %'),\n",
              " Text(0, 0, '0.8 %'),\n",
              " Text(0, 0, '0.85 %'),\n",
              " Text(0, 0, '0.9 %'),\n",
              " Text(0, 0, '0.95 %'),\n",
              " Text(0, 0, '0.99 %')]"
            ]
          },
          "metadata": {
            "tags": []
          },
          "execution_count": 82
        },
        {
          "output_type": "display_data",
          "data": {
            "image/png": "[encoded data removed]",
            "text/plain": [
              "<Figure size 842.4x595.44 with 1 Axes>"
            ]
          },
          "metadata": {
            "tags": []
          }
        }
      ]
    },
    {
      "cell_type": "markdown",
      "metadata": {
        "id": "f7jAHvTOSojL"
      },
      "source": [
        "more then 99% of text consist of 500 most popular words"
      ],
      "id": "f7jAHvTOSojL"
    },
    {
      "cell_type": "markdown",
      "metadata": {
        "id": "56ee69b4"
      },
      "source": [
        "# 5. Fit and evaluate the model using both types of vectorization. \n"
      ],
      "id": "56ee69b4"
    },
    {
      "cell_type": "markdown",
      "metadata": {
        "id": "a3b9ca27"
      },
      "source": [
        "## Split data into training and test sets"
      ],
      "id": "a3b9ca27"
    },
    {
      "cell_type": "code",
      "metadata": {
        "id": "60683209"
      },
      "source": [
        "X = orig_data.drop(columns='airline_sentiment')\n",
        "y = orig_data['airline_sentiment']\n",
        "\n",
        "X_train, X_test, y_train, y_test = train_test_split(X, y, random_state=1, test_size=0.2, stratify=y)"
      ],
      "id": "60683209",
      "execution_count": 83,
      "outputs": []
    },
    {
      "cell_type": "code",
      "metadata": {
        "id": "0780ca88"
      },
      "source": [
        "from sklearn import metrics as metrics"
      ],
      "id": "0780ca88",
      "execution_count": 84,
      "outputs": []
    },
    {
      "cell_type": "code",
      "metadata": {
        "id": "3fc910ec"
      },
      "source": [
        "def get_metrics_score(model, X_train, y_train, pred_train, X_test, y_test, pred_test, flag=True):\n",
        "    '''\n",
        "    model : classifier to predict values of X\n",
        "\n",
        "    '''\n",
        "    # defining an empty list to store train and test results\n",
        "    score_list=[] \n",
        "    average = 'macro'\n",
        "    \n",
        "    #Predicting on train and tests\n",
        "    #pred_train = model.predict(X_train)\n",
        "    #pred_test = model.predict(X_test)\n",
        "    \n",
        "    #Accuracy of the model\n",
        "    train_acc = metrics.accuracy_score(y_train, pred_train)\n",
        "    test_acc  = metrics.accuracy_score(y_test,  pred_test)\n",
        "    \n",
        "    #Recall of the model\n",
        "    train_recall = metrics.recall_score(y_train,pred_train,average=average)\n",
        "    test_recall = metrics.recall_score(y_test,pred_test,average=average)\n",
        "    \n",
        "    #Precision of the model\n",
        "    train_precision = metrics.precision_score(y_train,pred_train,average=average)\n",
        "    test_precision = metrics.precision_score(y_test,pred_test,average=average)\n",
        "    \n",
        "    train_f1 = metrics.f1_score(y_train,pred_train,average=average)\n",
        "    test_f1 = metrics.f1_score(y_test,pred_test,average=average)\n",
        "    \n",
        "    train_cm = metrics.confusion_matrix(y_train, pred_train)\n",
        "    test_cm  = metrics.confusion_matrix(y_test, pred_test)\n",
        "    \n",
        "    score_list.extend((train_acc,test_acc,train_recall,test_recall,train_precision,\\\n",
        "                       test_precision, train_f1, test_f1, train_cm, test_cm))\n",
        "        \n",
        "    # If the flag is set to True then only the following print statements will be dispayed. The default value is set to True.\n",
        "    if flag == True: \n",
        "        print(\"Accuracy on training set : \",train_acc)\n",
        "        print(\"Accuracy on test set : \",test_acc)\n",
        "        print(\"Recall on training set : \",train_recall)\n",
        "        print(\"Recall on test set : \",test_recall)\n",
        "        print(\"Precision on training set : \",train_precision)\n",
        "        print(\"Precision on test set : \",test_precision)\n",
        "        print(\"F1 on training set : \",train_f1)\n",
        "        print(\"F1 on test set : \",test_f1)\n",
        "        print(\"Confusion matrix on train set:\\n\", train_cm)\n",
        "        print(\"Confusion matrix on test set:\\n\", test_cm)\n",
        "        print(\"Classification report on Test set:\\n\", metrics.classification_report(y_test, pred_test, \\\n",
        "                target_names=['negative', 'neutral', 'positive']))\n",
        "    \n",
        "    return score_list # returning the list with train and test scores"
      ],
      "id": "3fc910ec",
      "execution_count": 85,
      "outputs": []
    },
    {
      "cell_type": "code",
      "metadata": {
        "id": "e99c6d34"
      },
      "source": [
        "def make_confusion_matrix(cm,labels=['negative', 'neutral', 'positive']):\n",
        "    '''\n",
        "    model : classifier to predict values of X\n",
        "    y_actual : ground truth  \n",
        "    \n",
        "    '''\n",
        "    df_cm = pd.DataFrame(cm, index = [i for i in [\"Actual - Negative\",\"Actual - Neutral\", \"Actual - Positive\"]],\n",
        "                  columns = [i for i in [\"Predicted - Negative\",\"Predicted - Neutral\", \"Predicted - Positive\"]])\n",
        "    group_counts = [\"{0:0.0f}\".format(value) for value in\n",
        "                cm.flatten()]\n",
        "    group_percentages = [\"{0:.2%}\".format(value) for value in\n",
        "                         cm.flatten()/np.sum(cm)]\n",
        "    labels = [f\"{v1}\\n{v2}\" for v1, v2 in\n",
        "              zip(group_counts,group_percentages)]\n",
        "    labels = np.asarray(labels).reshape(3,3)\n",
        "    plt.figure(figsize = (10,7))\n",
        "    sns.heatmap(df_cm, annot=labels,fmt='')\n",
        "    plt.ylabel('Actual label')\n",
        "    plt.xlabel('Predicted label')\n",
        "    plt.show()"
      ],
      "id": "e99c6d34",
      "execution_count": 86,
      "outputs": []
    },
    {
      "cell_type": "markdown",
      "metadata": {
        "id": "c9d4b9df"
      },
      "source": [
        "## Build random forest model"
      ],
      "id": "c9d4b9df"
    },
    {
      "cell_type": "code",
      "metadata": {
        "id": "c6aa1bb8"
      },
      "source": [
        "from sklearn.ensemble import RandomForestClassifier\n"
      ],
      "id": "c6aa1bb8",
      "execution_count": 87,
      "outputs": []
    },
    {
      "cell_type": "code",
      "metadata": {
        "id": "592fafed"
      },
      "source": [
        "import time"
      ],
      "id": "592fafed",
      "execution_count": 88,
      "outputs": []
    },
    {
      "cell_type": "code",
      "metadata": {
        "id": "504cb737"
      },
      "source": [
        "debug = False"
      ],
      "id": "504cb737",
      "execution_count": 89,
      "outputs": []
    },
    {
      "cell_type": "markdown",
      "metadata": {
        "id": "1364d86c"
      },
      "source": [
        "Creayin a base model. Wil use stemming for text preprocessing and bag of words as a vectorizer. Limit number of features by 500 and will use single words and bigrams as features"
      ],
      "id": "1364d86c"
    },
    {
      "cell_type": "code",
      "metadata": {
        "id": "0e07934d"
      },
      "source": [
        "dropper = ColumnDropper(columns_to_drop)\n",
        "text_prepocessor = TextPreprocessor('stem', nlp)\n",
        "vectorizer = TextVectorzer('count', 500, (1,2))\n",
        "dropper2 = ColumnDropper(['text'])\n",
        "forest = RandomForestClassifier(n_estimators = 200,n_jobs=16, class_weight='balanced', random_state=1) \n",
        "model = make_pipeline(dropper, text_prepocessor, vectorizer, dropper2, forest)"
      ],
      "id": "0e07934d",
      "execution_count": 90,
      "outputs": []
    },
    {
      "cell_type": "code",
      "metadata": {
        "colab": {
          "base_uri": "https://localhost:8080/"
        },
        "id": "0323857c",
        "outputId": "f09cccdc-a054-4d5d-b39f-77a21e14162f"
      },
      "source": [
        "start = time.time()\n",
        "\n",
        "model.fit(X_train, y_train)\n",
        "\n",
        "pred_train = model.predict(X_train)\n",
        "pred_test = model.predict(X_test)\n",
        "\n",
        "rf_score = get_metrics_score(model, X_train, y_train, pred_train, X_test,y_test, pred_test)\n",
        "finish = time.time()\n",
        "print (\"Elapsed time {} seconds\".format(int(finish-start)))"
      ],
      "id": "0323857c",
      "execution_count": 91,
      "outputs": [
        {
          "output_type": "stream",
          "text": [
            "Accuracy on training set :  0.9834357923497268\n",
            "Accuracy on test set :  0.7585382513661202\n",
            "Recall on training set :  0.9806153166328119\n",
            "Recall on test set :  0.6685410911828433\n",
            "Precision on training set :  0.9732227806219234\n",
            "Precision on test set :  0.6884142779216694\n",
            "F1 on training set :  0.9767297077123365\n",
            "F1 on test set :  0.6771187590739721\n",
            "Confusion matrix on train set:\n",
            " [[7240   95    7]\n",
            " [   1 2444   34]\n",
            " [   1   56 1834]]\n",
            "Confusion matrix on test set:\n",
            " [[1617  145   74]\n",
            " [ 233  306   81]\n",
            " [  93   81  298]]\n",
            "Classification report on Test set:\n",
            "               precision    recall  f1-score   support\n",
            "\n",
            "    negative       0.83      0.88      0.86      1836\n",
            "     neutral       0.58      0.49      0.53       620\n",
            "    positive       0.66      0.63      0.64       472\n",
            "\n",
            "    accuracy                           0.76      2928\n",
            "   macro avg       0.69      0.67      0.68      2928\n",
            "weighted avg       0.75      0.76      0.75      2928\n",
            "\n",
            "Elapsed time 33 seconds\n"
          ],
          "name": "stdout"
        }
      ]
    },
    {
      "cell_type": "code",
      "metadata": {
        "colab": {
          "base_uri": "https://localhost:8080/",
          "height": 448
        },
        "id": "2762ef47",
        "outputId": "66d845fb-4022-4263-aca1-48824f045697"
      },
      "source": [
        "make_confusion_matrix(rf_score[-1])"
      ],
      "id": "2762ef47",
      "execution_count": 92,
      "outputs": [
        {
          "output_type": "display_data",
          "data": {
            "image/png": "[encoded data removed]",
            "text/plain": [
              "<Figure size 720x504 with 2 Axes>"
            ]
          },
          "metadata": {
            "tags": []
          }
        }
      ]
    },
    {
      "cell_type": "markdown",
      "metadata": {
        "id": "f00187a4"
      },
      "source": [
        "Negative reviews are detected pretty well, but there are many mistakes in neutral and positive reviews.\n",
        "Next let's try to use lemmatizatiaon for text pre-processing and TFIDF for vectoriztaion"
      ],
      "id": "f00187a4"
    },
    {
      "cell_type": "code",
      "metadata": {
        "id": "42b73336"
      },
      "source": [
        "dropper = ColumnDropper(columns_to_drop)\n",
        "text_prepocessor = TextPreprocessor('lemma', nlp)\n",
        "vectorizer = TextVectorzer('tfidf', 500, (1,2))\n",
        "dropper2 = ColumnDropper(['text'])\n",
        "forest = RandomForestClassifier(n_estimators = 200,n_jobs=16, class_weight='balanced', random_state=1) \n",
        "model2 = make_pipeline(dropper, text_prepocessor, vectorizer, dropper2, forest)"
      ],
      "id": "42b73336",
      "execution_count": 93,
      "outputs": []
    },
    {
      "cell_type": "code",
      "metadata": {
        "colab": {
          "base_uri": "https://localhost:8080/"
        },
        "id": "2054c8c4",
        "outputId": "03cf25af-4480-4db1-ec01-8ad299f34559"
      },
      "source": [
        "start = time.time()\n",
        "\n",
        "model2.fit(X_train, y_train)\n",
        "\n",
        "pred_train2 = model2.predict(X_train)\n",
        "pred_test2 = model2.predict(X_test)\n",
        "\n",
        "rf_score2 = get_metrics_score(model2, X_train, y_train, pred_train2, X_test,y_test, pred_test2)\n",
        "\n",
        "finish = time.time()\n",
        "print (\"Elapsed time {} seconds\".format(int(finish-start)))\n"
      ],
      "id": "2054c8c4",
      "execution_count": 94,
      "outputs": [
        {
          "output_type": "stream",
          "text": [
            "Accuracy on training set :  0.9808743169398907\n",
            "Accuracy on test set :  0.7646857923497268\n",
            "Recall on training set :  0.9775447919846579\n",
            "Recall on test set :  0.6605469334727796\n",
            "Precision on training set :  0.9682293252879298\n",
            "Precision on test set :  0.7044666553032818\n",
            "F1 on training set :  0.972784359089073\n",
            "F1 on test set :  0.678329683065957\n",
            "Confusion matrix on train set:\n",
            " [[7232   91   19]\n",
            " [   6 2416   57]\n",
            " [   3   48 1840]]\n",
            "Confusion matrix on test set:\n",
            " [[1660  122   54]\n",
            " [ 255  295   70]\n",
            " [ 112   76  284]]\n",
            "Classification report on Test set:\n",
            "               precision    recall  f1-score   support\n",
            "\n",
            "    negative       0.82      0.90      0.86      1836\n",
            "     neutral       0.60      0.48      0.53       620\n",
            "    positive       0.70      0.60      0.65       472\n",
            "\n",
            "    accuracy                           0.76      2928\n",
            "   macro avg       0.70      0.66      0.68      2928\n",
            "weighted avg       0.75      0.76      0.76      2928\n",
            "\n",
            "Elapsed time 219 seconds\n"
          ],
          "name": "stdout"
        }
      ]
    },
    {
      "cell_type": "code",
      "metadata": {
        "colab": {
          "base_uri": "https://localhost:8080/",
          "height": 448
        },
        "id": "c2a7f8d5",
        "outputId": "03765f70-4b2d-48db-d9de-eb9da308413d"
      },
      "source": [
        "make_confusion_matrix(rf_score2[-1])"
      ],
      "id": "c2a7f8d5",
      "execution_count": 95,
      "outputs": [
        {
          "output_type": "display_data",
          "data": {
            "image/png": "[encoded data removed]",
            "text/plain": [
              "<Figure size 720x504 with 2 Axes>"
            ]
          },
          "metadata": {
            "tags": []
          }
        }
      ]
    },
    {
      "cell_type": "markdown",
      "metadata": {
        "id": "cb38f4a1"
      },
      "source": [
        "Results are pretty similar to the base model"
      ],
      "id": "cb38f4a1"
    },
    {
      "cell_type": "markdown",
      "metadata": {
        "id": "0dbfde5b"
      },
      "source": [
        "## Random search on Random forest models"
      ],
      "id": "0dbfde5b"
    },
    {
      "cell_type": "code",
      "metadata": {
        "id": "f8e44563"
      },
      "source": [
        "from sklearn.model_selection import RandomizedSearchCV\n",
        "import scipy.stats as stats"
      ],
      "id": "f8e44563",
      "execution_count": 96,
      "outputs": []
    },
    {
      "cell_type": "code",
      "metadata": {
        "id": "deaad8c4"
      },
      "source": [
        "n_iter = 100\n",
        "n_jobs = 1"
      ],
      "id": "deaad8c4",
      "execution_count": 97,
      "outputs": []
    },
    {
      "cell_type": "markdown",
      "metadata": {
        "id": "48edbde5"
      },
      "source": [
        "Let's try hyperparameter tuning to improve recall on neutral and positive tweets.\n",
        "Besides random forest parameters we will tune text preprocessing and vectorization parameters:\n",
        "- using stemming or lemmatizations\n",
        "- using bag of words or TFIDF\n",
        "- number of features\n",
        "- ngram range"
      ],
      "id": "48edbde5"
    },
    {
      "cell_type": "code",
      "metadata": {
        "id": "3693962a"
      },
      "source": [
        "#my_type, max_features, ngram_range\n",
        "rf_param_grid = {\\\n",
        "                 'textpreprocessor__my_type' : ['stem','lemma'], \n",
        "                 'textpreprocessor__nlp' : [nlp],\n",
        "                 'textvectorzer__my_type' : ['count', 'tfidf'],\n",
        "                 'textvectorzer__max_features' : stats.randint(200,2000),\n",
        "                 'textvectorzer__ngram_range' : [(1,2), (1,3), (2,3), (2,2)],                   \n",
        "                 'randomforestclassifier__class_weight':['balanced', None],\n",
        "                 'randomforestclassifier__n_estimators': stats.randint(50,200),\n",
        "                 'randomforestclassifier__max_features' : stats.uniform(0.6,0.4),\n",
        "                 'randomforestclassifier__max_samples' : stats.uniform(0.6,0.4),\n",
        "                 'randomforestclassifier__max_depth' : stats.randint(5,15),\n",
        "                 'randomforestclassifier__n_jobs' : [16],               \n",
        "                }\n"
      ],
      "id": "3693962a",
      "execution_count": 98,
      "outputs": []
    },
    {
      "cell_type": "code",
      "metadata": {
        "id": "68eab1a0"
      },
      "source": [
        "from sklearn.metrics import make_scorer\n",
        "\n",
        "scorer = make_scorer(metrics.recall_score, average='macro')\n",
        "\n",
        "#grid = RandomizedSearchCV(model , param_distributions=rf_param_grid, cv = 4, n_jobs=n_jobs, n_iter=n_iter,\\\n",
        "#                    scoring=scorer, random_state=1)\n",
        "\n",
        "start = time.time()\n",
        "#result= grid.fit( X_train, y_train) \n",
        "\n",
        "#rf_rand_model = grid.best_estimator_"
      ],
      "id": "68eab1a0",
      "execution_count": 99,
      "outputs": []
    },
    {
      "cell_type": "markdown",
      "metadata": {
        "id": "185e66e6"
      },
      "source": [
        "Randomized search take about 7-10 hours to complete. So we commented out the search process and reuse pre-calculated result in the cell below:"
      ],
      "id": "185e66e6"
    },
    {
      "cell_type": "code",
      "metadata": {
        "id": "4353f41f",
        "colab": {
          "base_uri": "https://localhost:8080/"
        },
        "outputId": "9bcf5ef7-6a5c-409f-d9c4-3986849adab9"
      },
      "source": [
        "#Results of random search:\n",
        "\n",
        "rf = RandomForestClassifier(class_weight='balanced', max_depth=14,\n",
        "                       max_features=0.6268128200343545,\n",
        "                       max_samples=0.9247086058339146, n_estimators=66,\n",
        "                       n_jobs=16, random_state=1) \n",
        "tv = TextVectorzer(max_features=1893, my_type='tfidf', ngram_range=(1, 3)) \n",
        "tp = TextPreprocessor(my_type='lemma',\n",
        "                 nlp=nlp)\n",
        "rf_rand_model = make_pipeline(dropper, tp, tv, dropper2, rf)\n",
        "\n",
        "rf_rand_model.fit(X_train, y_train)"
      ],
      "id": "4353f41f",
      "execution_count": 100,
      "outputs": [
        {
          "output_type": "execute_result",
          "data": {
            "text/plain": [
              "Pipeline(memory=None,\n",
              "         steps=[('columndropper-1',\n",
              "                 ColumnDropper(columns=Index(['tweet_id', 'airline_sentiment_confidence', 'negativereason',\n",
              "       'negativereason_confidence', 'airline', 'airline_sentiment_gold',\n",
              "       'name', 'negativereason_gold', 'retweet_count', 'tweet_coord',\n",
              "       'tweet_created', 'tweet_location', 'user_timezone'],\n",
              "      dtype='object'))),\n",
              "                ('textpreprocessor',\n",
              "                 TextP...\n",
              "                                        class_weight='balanced',\n",
              "                                        criterion='gini', max_depth=14,\n",
              "                                        max_features=0.6268128200343545,\n",
              "                                        max_leaf_nodes=None,\n",
              "                                        max_samples=0.9247086058339146,\n",
              "                                        min_impurity_decrease=0.0,\n",
              "                                        min_impurity_split=None,\n",
              "                                        min_samples_leaf=1, min_samples_split=2,\n",
              "                                        min_weight_fraction_leaf=0.0,\n",
              "                                        n_estimators=66, n_jobs=16,\n",
              "                                        oob_score=False, random_state=1,\n",
              "                                        verbose=0, warm_start=False))],\n",
              "         verbose=False)"
            ]
          },
          "metadata": {
            "tags": []
          },
          "execution_count": 100
        }
      ]
    },
    {
      "cell_type": "code",
      "metadata": {
        "id": "0bf577d3",
        "colab": {
          "base_uri": "https://localhost:8080/"
        },
        "outputId": "25618d2f-97b9-4c7a-a4cb-8ba894167227"
      },
      "source": [
        "\n",
        "pred_train_rand_rf = rf_rand_model.predict(X_train)\n",
        "pred_test_rand_rf = rf_rand_model.predict(X_test)\n",
        "\n",
        "rf_rand_score = get_metrics_score(rf_rand_model, X_train, y_train, pred_train_rand_rf, X_test,y_test, pred_test_rand_rf)\n",
        "\n",
        "finish = time.time()\n",
        "print (\"Elapsed time {} seconds\".format(int(finish-start)))"
      ],
      "id": "0bf577d3",
      "execution_count": 101,
      "outputs": [
        {
          "output_type": "stream",
          "text": [
            "Accuracy on training set :  0.6906591530054644\n",
            "Accuracy on test set :  0.6577868852459017\n",
            "Recall on training set :  0.7016210549166959\n",
            "Recall on test set :  0.6535906617066364\n",
            "Precision on training set :  0.6920411353335224\n",
            "Precision on test set :  0.6411932159723984\n",
            "F1 on training set :  0.6699919945190557\n",
            "F1 on test set :  0.6267237701792162\n",
            "Confusion matrix on train set:\n",
            " [[4905 2173  264]\n",
            " [ 361 1969  149]\n",
            " [ 120  556 1215]]\n",
            "Confusion matrix on test set:\n",
            " [[1206  542   88]\n",
            " [ 124  438   58]\n",
            " [  51  139  282]]\n",
            "Classification report on Test set:\n",
            "               precision    recall  f1-score   support\n",
            "\n",
            "    negative       0.87      0.66      0.75      1836\n",
            "     neutral       0.39      0.71      0.50       620\n",
            "    positive       0.66      0.60      0.63       472\n",
            "\n",
            "    accuracy                           0.66      2928\n",
            "   macro avg       0.64      0.65      0.63      2928\n",
            "weighted avg       0.74      0.66      0.68      2928\n",
            "\n",
            "Elapsed time 237 seconds\n"
          ],
          "name": "stdout"
        }
      ]
    },
    {
      "cell_type": "code",
      "metadata": {
        "id": "43014771",
        "colab": {
          "base_uri": "https://localhost:8080/"
        },
        "outputId": "4766a1a9-33af-455b-f6da-6b48b0c919c8"
      },
      "source": [
        "print(rf_rand_model[-1], \"\\n\", rf_rand_model[-3], \"\\n\", rf_rand_model[-4])"
      ],
      "id": "43014771",
      "execution_count": 102,
      "outputs": [
        {
          "output_type": "stream",
          "text": [
            "RandomForestClassifier(bootstrap=True, ccp_alpha=0.0, class_weight='balanced',\n",
            "                       criterion='gini', max_depth=14,\n",
            "                       max_features=0.6268128200343545, max_leaf_nodes=None,\n",
            "                       max_samples=0.9247086058339146,\n",
            "                       min_impurity_decrease=0.0, min_impurity_split=None,\n",
            "                       min_samples_leaf=1, min_samples_split=2,\n",
            "                       min_weight_fraction_leaf=0.0, n_estimators=66, n_jobs=16,\n",
            "                       oob_score=False, random_state=1, verbose=0,\n",
            "                       warm_start=False) \n",
            " TextVectorzer(max_features=1893, my_type='tfidf', ngram_range=(1, 3)) \n",
            " TextPreprocessor(my_type='lemma',\n",
            "                 nlp=<spacy.lang.en.English object at 0x7f4751990650>)\n"
          ],
          "name": "stdout"
        }
      ]
    },
    {
      "cell_type": "code",
      "metadata": {
        "id": "ed34f3a8",
        "colab": {
          "base_uri": "https://localhost:8080/",
          "height": 450
        },
        "outputId": "5f017f07-9bf8-4899-9919-6274613add19"
      },
      "source": [
        "make_confusion_matrix(rf_rand_score[-1])"
      ],
      "id": "ed34f3a8",
      "execution_count": 103,
      "outputs": [
        {
          "output_type": "display_data",
          "data": {
            "image/png": "[encoded data removed]",
            "text/plain": [
              "<Figure size 720x504 with 2 Axes>"
            ]
          },
          "metadata": {
            "tags": []
          }
        }
      ]
    },
    {
      "cell_type": "markdown",
      "metadata": {
        "id": "2c46bf79"
      },
      "source": [
        "Recall improved for neutral tweets, degraded for negative tweets and didn't change for positive tweets\n",
        "We assume that negative tweets are most important for the airlines, so we will keep base model as a production model"
      ],
      "id": "2c46bf79"
    },
    {
      "cell_type": "code",
      "metadata": {
        "id": "T3f2rPeKRPO5"
      },
      "source": [
        ""
      ],
      "id": "T3f2rPeKRPO5",
      "execution_count": 103,
      "outputs": []
    },
    {
      "cell_type": "markdown",
      "metadata": {
        "id": "XrocPf0WRU7H"
      },
      "source": [
        "## RNN"
      ],
      "id": "XrocPf0WRU7H"
    },
    {
      "cell_type": "markdown",
      "metadata": {
        "id": "sMBsKBaNRyvx"
      },
      "source": [
        "Let's try to build reinforcement neural network model"
      ],
      "id": "sMBsKBaNRyvx"
    },
    {
      "cell_type": "code",
      "metadata": {
        "id": "lqkqIb8pRU7H"
      },
      "source": [
        "from keras.preprocessing.text import Tokenizer\n",
        "from keras.preprocessing.sequence import pad_sequences\n",
        "from keras.models import Sequential\n",
        "from keras.layers import Dense, Embedding, LSTM, SpatialDropout1D, BatchNormalization\n",
        "from keras.optimizers import Adam\n",
        "from sklearn.preprocessing import OneHotEncoder"
      ],
      "id": "lqkqIb8pRU7H",
      "execution_count": 104,
      "outputs": []
    },
    {
      "cell_type": "markdown",
      "metadata": {
        "id": "hOMHh0YMRU7I"
      },
      "source": [
        "Preprocess the text"
      ],
      "id": "hOMHh0YMRU7I"
    },
    {
      "cell_type": "code",
      "metadata": {
        "id": "cIaFbLSjRU7I"
      },
      "source": [
        "class TextPreprocessorRnn(BaseEstimator, TransformerMixin):\n",
        "    \"\"\"\n",
        "    class TextPreprocessorRnn(nlp) preprocesses the text in column 'text'\n",
        "    for RNN\n",
        "    Preprocessing includes:\n",
        "     a. Html tag removal.\n",
        "     b. Tokenization.\n",
        "     c. Removat of the numbers.\n",
        "     d. Removal of Special Characters and Punctuations.\n",
        "     e. Conversion to lowercase.\n",
        "    Parameters:\n",
        "    None\n",
        "    \"\"\"    \n",
        "    def __init__(self):\n",
        "        return\n",
        "    \n",
        "    def remove_html(self, text):\n",
        "        soup = BeautifulSoup(text, \"html.parser\")\n",
        "        text_no_html = soup.get_text()\n",
        "        return text_no_html\n",
        "    \n",
        "    def remove_contractions(self, text):\n",
        "        expanded_words = []    \n",
        "        for word in text.split():\n",
        "          # using contractions.fix to expand the shotened words\n",
        "          expanded_words.append(contractions.fix(word)) \n",
        "        return \" \".join(expanded_words)         \n",
        "    \n",
        "    def tokenize(self, text):\n",
        "        tokens = word_tokenize(text)\n",
        "        return tokens\n",
        "        \n",
        "    \n",
        "    def remove_non_ascii(self, words):\n",
        "        new_words = []\n",
        "        for w in words:\n",
        "            w = unicodedata.normalize('NFKD', w).encode('ascii', 'ignore').decode('utf-8','ignore')\n",
        "            new_words.append(w)\n",
        "        return new_words\n",
        "\n",
        "    def to_lower(self, words):\n",
        "        new_words = []\n",
        "        for w in words:\n",
        "            w = w.lower()\n",
        "            new_words.append(w)\n",
        "        return new_words\n",
        "\n",
        "\n",
        "    def remove_punctuations(self, words):\n",
        "        pattern = r'[^a-zA-Z0-9\\s]' \n",
        "        new_words = []\n",
        "        for w in words:\n",
        "            w = re.sub(pattern, '', w)\n",
        "            if len(w) > 0:\n",
        "                new_words.append(w)        \n",
        "        return new_words\n",
        "\n",
        "    def remove_digits(self, words):\n",
        "        pattern = r'[0-9]' \n",
        "        new_words = []\n",
        "        for w in words:\n",
        "            w = re.sub(pattern, '', w)\n",
        "            if len(w) > 0:\n",
        "                new_words.append(w)        \n",
        "        return new_words\n",
        "\n",
        "    def preprocess_text(self, text):\n",
        "        new_text  = self.remove_html(text)\n",
        "        #new_text  = self.remove_airline_reference(new_text)\n",
        "        new_text  = self.remove_contractions(new_text)      \n",
        "        words     = self.tokenize(new_text)\n",
        "        words     = self.remove_non_ascii(words)\n",
        "        words     = self.to_lower(words)\n",
        "        words     = self.remove_punctuations(words)\n",
        "        words     = self.remove_digits(words)\n",
        "        ## if tweet consists of stopwords\n",
        "        ## add something neutral\n",
        "        if len(words) == 0:\n",
        "            words.append(\"ok\")\n",
        "        new_text  = \" \".join(words)\n",
        "        return new_text\n",
        "\n",
        "    def fit(self, X, y=None, **fit_params):\n",
        "        my_print (\"-- TextPreprocessorRnn::fit() -- \")\n",
        "        ## do nothing\n",
        "        return self\n",
        "    \n",
        "    def transform(self, X):\n",
        "        my_print (\"-- TextPreprocessorRnn::transform() --\")    \n",
        "        new_X = X.copy()\n",
        "        new_X['text'] = new_X['text'].apply(self.preprocess_text)\n",
        "        return new_X\n",
        "\n",
        "    "
      ],
      "id": "cIaFbLSjRU7I",
      "execution_count": 105,
      "outputs": []
    },
    {
      "cell_type": "code",
      "metadata": {
        "colab": {
          "base_uri": "https://localhost:8080/",
          "height": 205
        },
        "id": "Xhmx-PO-RU7I",
        "outputId": "caf96fd5-9c90-4e27-9592-7b7c90a889ed"
      },
      "source": [
        "text_prepocessor_rnn = TextPreprocessorRnn()\n",
        "text_prepocessor_rnn.fit(first5)\n",
        "first5_rnn = text_prepocessor_rnn.transform(first5)\n",
        "first5_rnn"
      ],
      "id": "Xhmx-PO-RU7I",
      "execution_count": 106,
      "outputs": [
        {
          "output_type": "execute_result",
          "data": {
            "text/html": [
              "<div>\n",
              "<style scoped>\n",
              "    .dataframe tbody tr th:only-of-type {\n",
              "        vertical-align: middle;\n",
              "    }\n",
              "\n",
              "    .dataframe tbody tr th {\n",
              "        vertical-align: top;\n",
              "    }\n",
              "\n",
              "    .dataframe thead th {\n",
              "        text-align: right;\n",
              "    }\n",
              "</style>\n",
              "<table border=\"1\" class=\"dataframe\">\n",
              "  <thead>\n",
              "    <tr style=\"text-align: right;\">\n",
              "      <th></th>\n",
              "      <th>airline_sentiment</th>\n",
              "      <th>text</th>\n",
              "    </tr>\n",
              "  </thead>\n",
              "  <tbody>\n",
              "    <tr>\n",
              "      <th>0</th>\n",
              "      <td>neutral</td>\n",
              "      <td>virginamerica what dhepburn said</td>\n",
              "    </tr>\n",
              "    <tr>\n",
              "      <th>1</th>\n",
              "      <td>positive</td>\n",
              "      <td>virginamerica plus you have added commercials ...</td>\n",
              "    </tr>\n",
              "    <tr>\n",
              "      <th>2</th>\n",
              "      <td>neutral</td>\n",
              "      <td>virginamerica i did not today must mean i need...</td>\n",
              "    </tr>\n",
              "    <tr>\n",
              "      <th>3</th>\n",
              "      <td>negative</td>\n",
              "      <td>virginamerica it is really aggressive to blast...</td>\n",
              "    </tr>\n",
              "    <tr>\n",
              "      <th>4</th>\n",
              "      <td>negative</td>\n",
              "      <td>virginamerica and it is a really big bad thing...</td>\n",
              "    </tr>\n",
              "  </tbody>\n",
              "</table>\n",
              "</div>"
            ],
            "text/plain": [
              "  airline_sentiment                                               text\n",
              "0           neutral                   virginamerica what dhepburn said\n",
              "1          positive  virginamerica plus you have added commercials ...\n",
              "2           neutral  virginamerica i did not today must mean i need...\n",
              "3          negative  virginamerica it is really aggressive to blast...\n",
              "4          negative  virginamerica and it is a really big bad thing..."
            ]
          },
          "metadata": {
            "tags": []
          },
          "execution_count": 106
        }
      ]
    },
    {
      "cell_type": "markdown",
      "metadata": {
        "id": "aaDngTLbRU7I"
      },
      "source": [
        "Text vectorization"
      ],
      "id": "aaDngTLbRU7I"
    },
    {
      "cell_type": "code",
      "metadata": {
        "id": "fQeiW7NSRU7I"
      },
      "source": [
        "class TextVectorzerRnn(BaseEstimator, TransformerMixin):\n",
        "    \"\"\"\n",
        "    class TextVectorzerRnn(type) Vectorizes the text in column 'text'.\n",
        "    Parameters:\n",
        "      max_features - maximun number of features\n",
        "    \"\"\"    \n",
        "    tokenizer_ = None\n",
        "    def __init__(self, max_features):\n",
        "        self.max_features_ = max_features       \n",
        "        return\n",
        "    \n",
        "\n",
        "    def fit(self, X, y=None, **fit_params):\n",
        "        my_print (\"-- TextVectorzer::fit() -- max_features: {}\".format(\n",
        "             self.max_features_))\n",
        "        self.tokenizer_ = Tokenizer(num_words=self.max_features_, split=' ')\n",
        "        self.tokenizer_.fit_on_texts(X['text'].values)\n",
        "        return self\n",
        "    \n",
        "    def transform(self, X):\n",
        "        my_print (\"-- TextVectorzer::transform() --\")\n",
        "        new_X = self.tokenizer_.texts_to_sequences(X['text'].values)\n",
        "        new_X = pad_sequences(new_X, maxlen=30) \n",
        "        return new_X\n"
      ],
      "id": "fQeiW7NSRU7I",
      "execution_count": 107,
      "outputs": []
    },
    {
      "cell_type": "code",
      "metadata": {
        "colab": {
          "base_uri": "https://localhost:8080/"
        },
        "id": "tktWCKj0RU7I",
        "outputId": "f94383d5-318a-4da0-8597-11ae51c8d9eb"
      },
      "source": [
        "text_vectorizer_rnn = TextVectorzerRnn(max_features=5)\n",
        "text_vectorizer_rnn.fit(first5_rnn)\n",
        "first5_rnn_vectorized = text_vectorizer_rnn.transform(first5_rnn)\n",
        "first5_rnn_vectorized"
      ],
      "id": "tktWCKj0RU7I",
      "execution_count": 108,
      "outputs": [
        {
          "output_type": "execute_result",
          "data": {
            "text/plain": [
              "array([[0, 0, 0, 0, 0, 0, 0, 0, 0, 0, 0, 0, 0, 0, 0, 0, 0, 0, 0, 0, 0, 0,\n",
              "        0, 0, 0, 0, 0, 0, 0, 1],\n",
              "       [0, 0, 0, 0, 0, 0, 0, 0, 0, 0, 0, 0, 0, 0, 0, 0, 0, 0, 0, 0, 0, 0,\n",
              "        0, 0, 0, 0, 0, 1, 4, 2],\n",
              "       [0, 0, 0, 0, 0, 0, 0, 0, 0, 0, 0, 0, 0, 0, 0, 0, 0, 0, 0, 0, 0, 0,\n",
              "        0, 0, 0, 0, 0, 0, 1, 2],\n",
              "       [0, 0, 0, 0, 0, 0, 0, 0, 0, 0, 0, 0, 0, 0, 0, 0, 0, 0, 0, 0, 0, 0,\n",
              "        0, 0, 0, 0, 1, 3, 2, 4],\n",
              "       [0, 0, 0, 0, 0, 0, 0, 0, 0, 0, 0, 0, 0, 0, 0, 0, 0, 0, 0, 0, 0, 0,\n",
              "        0, 0, 0, 0, 0, 1, 3, 3]], dtype=int32)"
            ]
          },
          "metadata": {
            "tags": []
          },
          "execution_count": 108
        }
      ]
    },
    {
      "cell_type": "markdown",
      "metadata": {
        "id": "KcY2onsNRU7I"
      },
      "source": [
        "Test text preprocessing and vectorization in a pipeline"
      ],
      "id": "KcY2onsNRU7I"
    },
    {
      "cell_type": "code",
      "metadata": {
        "colab": {
          "base_uri": "https://localhost:8080/"
        },
        "id": "25WWcXM8RU7I",
        "outputId": "81bd2090-f896-4b0c-92a2-93ec8635c2a5"
      },
      "source": [
        "dropper = ColumnDropper(columns_to_drop)\n",
        "text_prepocessor_rnn = TextPreprocessorRnn()\n",
        "text_vectorizer_rnn = TextVectorzerRnn(max_features = 8)\n",
        "pipeline = make_pipeline(dropper, text_prepocessor_rnn, text_vectorizer_rnn)\n",
        "sample_data = orig_data.sample(5).drop(columns='airline_sentiment')\n",
        "pipeline.fit(sample_data)\n",
        "transformed_sample_data = pipeline.transform(sample_data)\n",
        "print(transformed_sample_data)"
      ],
      "id": "25WWcXM8RU7I",
      "execution_count": 109,
      "outputs": [
        {
          "output_type": "stream",
          "text": [
            "[[0 0 0 0 0 0 0 0 0 0 0 0 0 0 0 0 0 0 0 0 0 2 6 3 7 4 1 3 7 4]\n",
            " [0 0 0 0 0 0 0 0 0 0 0 0 0 0 0 0 0 0 0 0 0 0 0 0 0 0 0 0 0 2]\n",
            " [0 0 0 0 0 0 0 0 0 0 0 0 0 0 0 0 0 0 0 0 0 0 0 0 0 0 0 6 3 1]\n",
            " [0 0 0 0 0 0 0 0 0 0 0 0 0 0 0 0 0 0 0 0 0 0 0 0 0 0 0 5 5 5]\n",
            " [0 0 0 0 0 0 0 0 0 0 0 0 0 0 0 0 0 0 0 0 0 0 0 0 0 0 2 1 4 1]]\n"
          ],
          "name": "stdout"
        }
      ]
    },
    {
      "cell_type": "markdown",
      "metadata": {
        "id": "bkidG9KvRU7I"
      },
      "source": [
        "Encode y_train and y_test"
      ],
      "id": "bkidG9KvRU7I"
    },
    {
      "cell_type": "code",
      "metadata": {
        "id": "3HM1muvfRU7I"
      },
      "source": [
        "y_train_encoded = pd.get_dummies(y_train, sparse=False)\n"
      ],
      "id": "3HM1muvfRU7I",
      "execution_count": 110,
      "outputs": []
    },
    {
      "cell_type": "code",
      "metadata": {
        "id": "j7l2ACsoRU7J"
      },
      "source": [
        "y_test_encoded = pd.get_dummies(y_test, sparse=False)\n"
      ],
      "id": "j7l2ACsoRU7J",
      "execution_count": 111,
      "outputs": []
    },
    {
      "cell_type": "code",
      "metadata": {
        "colab": {
          "base_uri": "https://localhost:8080/"
        },
        "id": "iOG8nMObRU7J",
        "outputId": "f216fa6c-1029-4a40-8630-1df07532416e"
      },
      "source": [
        "print(y_train_encoded)"
      ],
      "id": "iOG8nMObRU7J",
      "execution_count": 112,
      "outputs": [
        {
          "output_type": "stream",
          "text": [
            "       negative  neutral  positive\n",
            "1741          1        0         0\n",
            "4117          0        1         0\n",
            "14358         1        0         0\n",
            "537           1        0         0\n",
            "4154          0        1         0\n",
            "...         ...      ...       ...\n",
            "6232          0        1         0\n",
            "8414          0        1         0\n",
            "12156         0        0         1\n",
            "5383          1        0         0\n",
            "7679          1        0         0\n",
            "\n",
            "[11712 rows x 3 columns]\n"
          ],
          "name": "stdout"
        }
      ]
    },
    {
      "cell_type": "code",
      "metadata": {
        "colab": {
          "base_uri": "https://localhost:8080/"
        },
        "id": "lMA4J3GbRU7J",
        "outputId": "ac24c42a-6c29-403c-dcee-7694447fd1f9"
      },
      "source": [
        "print(y_test_encoded)"
      ],
      "id": "lMA4J3GbRU7J",
      "execution_count": 113,
      "outputs": [
        {
          "output_type": "stream",
          "text": [
            "       negative  neutral  positive\n",
            "1258          1        0         0\n",
            "10945         1        0         0\n",
            "1411          0        0         1\n",
            "3768          1        0         0\n",
            "5996          0        0         1\n",
            "...         ...      ...       ...\n",
            "3238          1        0         0\n",
            "6721          0        1         0\n",
            "13561         1        0         0\n",
            "6749          1        0         0\n",
            "9641          1        0         0\n",
            "\n",
            "[2928 rows x 3 columns]\n"
          ],
          "name": "stdout"
        }
      ]
    },
    {
      "cell_type": "markdown",
      "metadata": {
        "id": "ND6UV0qYRU7J"
      },
      "source": [
        "Build Sequential model"
      ],
      "id": "ND6UV0qYRU7J"
    },
    {
      "cell_type": "code",
      "metadata": {
        "id": "wp-5kZvURU7J"
      },
      "source": [
        "from keras.layers.core import Dropout\n",
        "\n",
        "def build_model(max_fatures, embed_dim, lstm_out):\n",
        "  model = Sequential()\n",
        "  model.add(Embedding(max_fatures, embed_dim,input_length = 30))\n",
        "  model.add(SpatialDropout1D(0.4))\n",
        "  model.add(LSTM(lstm_out, dropout=0.2, recurrent_dropout=0.2))\n",
        "  model.add(BatchNormalization())\n",
        "  model.add(Dense(512, activation='relu'))\n",
        "  model.add(Dropout(0.15))\n",
        "  model.add(Dense(256, activation='relu'))\n",
        "  model.add(Dropout(0.25))\n",
        "  model.add(Dense(128, activation='relu'))\n",
        "  model.add(Dropout(0.35))\n",
        "  model.add(Dense(64, activation='relu'))\n",
        "  model.add(Dropout(0.45))\n",
        "  model.add(Dense(32, activation='relu'))\n",
        "  model.add(Dense(3,activation='softmax'))\n",
        "  #default lr=0.001\n",
        "  model.compile(loss = 'categorical_crossentropy', optimizer=Adam(learning_rate=0.0002),\n",
        "                metrics = ['accuracy'])\n",
        "  return model\n"
      ],
      "id": "wp-5kZvURU7J",
      "execution_count": 114,
      "outputs": []
    },
    {
      "cell_type": "code",
      "metadata": {
        "colab": {
          "base_uri": "https://localhost:8080/"
        },
        "id": "QY6db9z-RU7J",
        "outputId": "16e97077-f99f-41f9-c6db-a5c17e27c86a"
      },
      "source": [
        "embed_dim = 128\n",
        "lstm_out = 128\n",
        "max_features = 1000\n",
        "\n",
        "rnn = build_model(max_fatures=max_features, lstm_out=lstm_out, embed_dim=embed_dim)\n",
        "        \n",
        "print(rnn.summary())"
      ],
      "id": "QY6db9z-RU7J",
      "execution_count": 115,
      "outputs": [
        {
          "output_type": "stream",
          "text": [
            "WARNING:tensorflow:Layer lstm will not use cuDNN kernels since it doesn't meet the criteria. It will use a generic GPU kernel as fallback when running on GPU.\n",
            "Model: \"sequential\"\n",
            "_________________________________________________________________\n",
            "Layer (type)                 Output Shape              Param #   \n",
            "=================================================================\n",
            "embedding (Embedding)        (None, 30, 128)           128000    \n",
            "_________________________________________________________________\n",
            "spatial_dropout1d (SpatialDr (None, 30, 128)           0         \n",
            "_________________________________________________________________\n",
            "lstm (LSTM)                  (None, 128)               131584    \n",
            "_________________________________________________________________\n",
            "batch_normalization (BatchNo (None, 128)               512       \n",
            "_________________________________________________________________\n",
            "dense (Dense)                (None, 512)               66048     \n",
            "_________________________________________________________________\n",
            "dropout (Dropout)            (None, 512)               0         \n",
            "_________________________________________________________________\n",
            "dense_1 (Dense)              (None, 256)               131328    \n",
            "_________________________________________________________________\n",
            "dropout_1 (Dropout)          (None, 256)               0         \n",
            "_________________________________________________________________\n",
            "dense_2 (Dense)              (None, 128)               32896     \n",
            "_________________________________________________________________\n",
            "dropout_2 (Dropout)          (None, 128)               0         \n",
            "_________________________________________________________________\n",
            "dense_3 (Dense)              (None, 64)                8256      \n",
            "_________________________________________________________________\n",
            "dropout_3 (Dropout)          (None, 64)                0         \n",
            "_________________________________________________________________\n",
            "dense_4 (Dense)              (None, 32)                2080      \n",
            "_________________________________________________________________\n",
            "dense_5 (Dense)              (None, 3)                 99        \n",
            "=================================================================\n",
            "Total params: 500,803\n",
            "Trainable params: 500,547\n",
            "Non-trainable params: 256\n",
            "_________________________________________________________________\n",
            "None\n"
          ],
          "name": "stdout"
        }
      ]
    },
    {
      "cell_type": "code",
      "metadata": {
        "id": "Vd85YeVTRU7J"
      },
      "source": [
        "dropper = ColumnDropper(columns_to_drop)\n",
        "text_prepocessor_rnn = TextPreprocessorRnn()\n",
        "text_vectorizer_rnn = TextVectorzerRnn(max_features = max_features)\n",
        "pipeline = make_pipeline(dropper, text_prepocessor_rnn, text_vectorizer_rnn)\n",
        "pipeline.fit(X_train)\n",
        "X_train_transformed = pipeline.transform(X_train)\n"
      ],
      "id": "Vd85YeVTRU7J",
      "execution_count": 116,
      "outputs": []
    },
    {
      "cell_type": "code",
      "metadata": {
        "colab": {
          "base_uri": "https://localhost:8080/"
        },
        "id": "MgMnx8IyRU7J",
        "outputId": "513097a3-de96-414f-e618-2a67b1871d0e"
      },
      "source": [
        "print(X_train_transformed.shape, y_train_encoded.shape)"
      ],
      "id": "MgMnx8IyRU7J",
      "execution_count": 117,
      "outputs": [
        {
          "output_type": "stream",
          "text": [
            "(11712, 30) (11712, 3)\n"
          ],
          "name": "stdout"
        }
      ]
    },
    {
      "cell_type": "code",
      "metadata": {
        "colab": {
          "base_uri": "https://localhost:8080/"
        },
        "id": "o3g2NpvPRU7J",
        "outputId": "9387dca5-c40b-48bc-d133-fcfa3142a261"
      },
      "source": [
        "X_test_transformed = pipeline.transform(X_test)\n",
        "print(X_test_transformed.shape, y_test_encoded.shape)\n"
      ],
      "id": "o3g2NpvPRU7J",
      "execution_count": 118,
      "outputs": [
        {
          "output_type": "stream",
          "text": [
            "(2928, 30) (2928, 3)\n"
          ],
          "name": "stdout"
        }
      ]
    },
    {
      "cell_type": "code",
      "metadata": {
        "colab": {
          "base_uri": "https://localhost:8080/"
        },
        "id": "E-CIOutDRU7J",
        "outputId": "a108d1eb-c40c-4cb5-b4eb-a70af2d5b1b7"
      },
      "source": [
        "print(X_test_transformed)"
      ],
      "id": "E-CIOutDRU7J",
      "execution_count": 119,
      "outputs": [
        {
          "output_type": "stream",
          "text": [
            "[[  0   0   0 ...  38   3   9]\n",
            " [  0  14   7 ... 159  56 132]\n",
            " [  0   0   0 ... 198  97 784]\n",
            " ...\n",
            " [  0   0   0 ... 110  37 186]\n",
            " [  0   0   0 ... 718  46  56]\n",
            " [  0   0   0 ...  24   4  49]]\n"
          ],
          "name": "stdout"
        }
      ]
    },
    {
      "cell_type": "code",
      "metadata": {
        "colab": {
          "base_uri": "https://localhost:8080/"
        },
        "id": "TDpQ3gdYRU7J",
        "outputId": "68bc7da5-d48a-4aca-c1fe-504fcb94e604"
      },
      "source": [
        "history = rnn.fit(x= X_train_transformed, y=y_train_encoded, validation_split=0.2, epochs=25, batch_size=256)"
      ],
      "id": "TDpQ3gdYRU7J",
      "execution_count": 120,
      "outputs": [
        {
          "output_type": "stream",
          "text": [
            "Epoch 1/25\n",
            "37/37 [==============================] - 33s 186ms/step - loss: 0.9749 - accuracy: 0.5997 - val_loss: 1.0521 - val_accuracy: 0.6270\n",
            "Epoch 2/25\n",
            "37/37 [==============================] - 6s 156ms/step - loss: 0.8359 - accuracy: 0.6333 - val_loss: 1.0396 - val_accuracy: 0.6270\n",
            "Epoch 3/25\n",
            "37/37 [==============================] - 6s 156ms/step - loss: 0.7833 - accuracy: 0.6482 - val_loss: 0.9972 - val_accuracy: 0.6351\n",
            "Epoch 4/25\n",
            "37/37 [==============================] - 6s 158ms/step - loss: 0.7390 - accuracy: 0.6633 - val_loss: 0.9609 - val_accuracy: 0.6837\n",
            "Epoch 5/25\n",
            "37/37 [==============================] - 6s 154ms/step - loss: 0.7054 - accuracy: 0.6848 - val_loss: 0.9161 - val_accuracy: 0.7025\n",
            "Epoch 6/25\n",
            "37/37 [==============================] - 6s 165ms/step - loss: 0.6789 - accuracy: 0.6977 - val_loss: 0.8826 - val_accuracy: 0.7008\n",
            "Epoch 7/25\n",
            "37/37 [==============================] - 6s 164ms/step - loss: 0.6502 - accuracy: 0.7102 - val_loss: 0.8617 - val_accuracy: 0.7234\n",
            "Epoch 8/25\n",
            "37/37 [==============================] - 6s 172ms/step - loss: 0.6484 - accuracy: 0.7161 - val_loss: 0.8605 - val_accuracy: 0.7473\n",
            "Epoch 9/25\n",
            "37/37 [==============================] - 6s 168ms/step - loss: 0.6202 - accuracy: 0.7321 - val_loss: 0.8346 - val_accuracy: 0.7593\n",
            "Epoch 10/25\n",
            "37/37 [==============================] - 6s 162ms/step - loss: 0.5952 - accuracy: 0.7521 - val_loss: 0.7479 - val_accuracy: 0.7482\n",
            "Epoch 11/25\n",
            "37/37 [==============================] - 6s 160ms/step - loss: 0.5644 - accuracy: 0.7648 - val_loss: 0.7336 - val_accuracy: 0.7742\n",
            "Epoch 12/25\n",
            "37/37 [==============================] - 6s 156ms/step - loss: 0.5670 - accuracy: 0.7678 - val_loss: 0.6943 - val_accuracy: 0.7721\n",
            "Epoch 13/25\n",
            "37/37 [==============================] - 6s 164ms/step - loss: 0.5375 - accuracy: 0.7816 - val_loss: 0.7040 - val_accuracy: 0.7593\n",
            "Epoch 14/25\n",
            "37/37 [==============================] - 6s 156ms/step - loss: 0.5194 - accuracy: 0.7950 - val_loss: 0.6406 - val_accuracy: 0.7751\n",
            "Epoch 15/25\n",
            "37/37 [==============================] - 6s 160ms/step - loss: 0.5249 - accuracy: 0.7881 - val_loss: 0.5964 - val_accuracy: 0.7776\n",
            "Epoch 16/25\n",
            "37/37 [==============================] - 6s 160ms/step - loss: 0.5039 - accuracy: 0.8034 - val_loss: 0.5693 - val_accuracy: 0.7853\n",
            "Epoch 17/25\n",
            "37/37 [==============================] - 6s 173ms/step - loss: 0.4791 - accuracy: 0.8087 - val_loss: 0.5700 - val_accuracy: 0.7768\n",
            "Epoch 18/25\n",
            "37/37 [==============================] - 6s 170ms/step - loss: 0.4847 - accuracy: 0.8166 - val_loss: 0.5452 - val_accuracy: 0.7785\n",
            "Epoch 19/25\n",
            "37/37 [==============================] - 6s 167ms/step - loss: 0.4642 - accuracy: 0.8226 - val_loss: 0.5366 - val_accuracy: 0.7832\n",
            "Epoch 20/25\n",
            "37/37 [==============================] - 6s 167ms/step - loss: 0.4513 - accuracy: 0.8223 - val_loss: 0.5550 - val_accuracy: 0.7725\n",
            "Epoch 21/25\n",
            "37/37 [==============================] - 6s 167ms/step - loss: 0.4595 - accuracy: 0.8244 - val_loss: 0.5339 - val_accuracy: 0.7819\n",
            "Epoch 22/25\n",
            "37/37 [==============================] - 6s 155ms/step - loss: 0.4500 - accuracy: 0.8257 - val_loss: 0.5519 - val_accuracy: 0.7725\n",
            "Epoch 23/25\n",
            "37/37 [==============================] - 6s 160ms/step - loss: 0.4484 - accuracy: 0.8275 - val_loss: 0.5362 - val_accuracy: 0.7879\n",
            "Epoch 24/25\n",
            "37/37 [==============================] - 6s 159ms/step - loss: 0.4133 - accuracy: 0.8392 - val_loss: 0.5483 - val_accuracy: 0.7870\n",
            "Epoch 25/25\n",
            "37/37 [==============================] - 6s 158ms/step - loss: 0.4127 - accuracy: 0.8384 - val_loss: 0.5692 - val_accuracy: 0.7653\n"
          ],
          "name": "stdout"
        }
      ]
    },
    {
      "cell_type": "code",
      "metadata": {
        "id": "-fYw8RfIRU7J"
      },
      "source": [
        "hist  = pd.DataFrame(history.history)\n",
        "hist['epoch'] = history.epoch"
      ],
      "id": "-fYw8RfIRU7J",
      "execution_count": 121,
      "outputs": []
    },
    {
      "cell_type": "code",
      "metadata": {
        "colab": {
          "base_uri": "https://localhost:8080/",
          "height": 517
        },
        "id": "-B0Ev6cvRU7J",
        "outputId": "9ec921c7-88c0-4b6e-90ce-a6aa2ce76fc7"
      },
      "source": [
        "import matplotlib.pyplot as plt\n",
        "\n",
        "plt.plot(hist['loss'])\n",
        "plt.plot(hist['val_loss'])\n",
        "plt.legend((\"train\" , \"valid\") , loc =0)\n"
      ],
      "id": "-B0Ev6cvRU7J",
      "execution_count": 122,
      "outputs": [
        {
          "output_type": "execute_result",
          "data": {
            "text/plain": [
              "<matplotlib.legend.Legend at 0x7f46ca1a8cd0>"
            ]
          },
          "metadata": {
            "tags": []
          },
          "execution_count": 122
        },
        {
          "output_type": "display_data",
          "data": {
            "image/png": "[encoded data removed]",
            "text/plain": [
              "<Figure size 842.4x595.44 with 1 Axes>"
            ]
          },
          "metadata": {
            "tags": []
          }
        }
      ]
    },
    {
      "cell_type": "code",
      "metadata": {
        "id": "bwXz-mzxRU7K"
      },
      "source": [
        "\n",
        "pred_test_rnn = rnn.predict(X_test_transformed)\n",
        "pred_test_rnn = np.argmax(pred_test_rnn, axis=1)\n",
        "\n",
        "pred_test_rnn = np.where(pred_test_rnn == 0, 'negative', pred_test_rnn)\n",
        "pred_test_rnn = np.where(pred_test_rnn == '1', 'neutral', pred_test_rnn)\n",
        "pred_test_rnn = np.where(pred_test_rnn == '2', 'positive', pred_test_rnn)"
      ],
      "id": "bwXz-mzxRU7K",
      "execution_count": 123,
      "outputs": []
    },
    {
      "cell_type": "code",
      "metadata": {
        "id": "WnXy3dB1RU7K"
      },
      "source": [
        "pred_train_rnn = rnn.predict(X_train_transformed)\n",
        "pred_train_rnn = np.argmax(pred_train_rnn, axis=1)\n",
        "\n",
        "pred_train_rnn = np.where(pred_train_rnn == 0, 'negative', pred_train_rnn)\n",
        "pred_train_rnn = np.where(pred_train_rnn == '1', 'neutral', pred_train_rnn)\n",
        "pred_train_rnn = np.where(pred_train_rnn == '2', 'positive', pred_train_rnn)"
      ],
      "id": "WnXy3dB1RU7K",
      "execution_count": 124,
      "outputs": []
    },
    {
      "cell_type": "code",
      "metadata": {
        "colab": {
          "base_uri": "https://localhost:8080/"
        },
        "id": "O8h2rfrdRU7K",
        "outputId": "a36e41b7-d752-497a-e145-faf4cd78e47b"
      },
      "source": [
        "rnn_score = get_metrics_score(rnn, X_train, y_train, pred_train_rnn, X_test,y_test, pred_test_rnn)"
      ],
      "id": "O8h2rfrdRU7K",
      "execution_count": 125,
      "outputs": [
        {
          "output_type": "stream",
          "text": [
            "Accuracy on training set :  0.8351263661202186\n",
            "Accuracy on test set :  0.7636612021857924\n",
            "Recall on training set :  0.8186186853819793\n",
            "Recall on test set :  0.7350389194820953\n",
            "Precision on training set :  0.7908475201860498\n",
            "Precision on test set :  0.7106726371399543\n",
            "F1 on training set :  0.7989912084496534\n",
            "F1 on test set :  0.7163452484797052\n",
            "Confusion matrix on train set:\n",
            " [[6259  892  191]\n",
            " [ 228 2066  185]\n",
            " [ 104  331 1456]]\n",
            "Confusion matrix on test set:\n",
            " [[1460  286   90]\n",
            " [ 105  463   52]\n",
            " [  56  103  313]]\n",
            "Classification report on Test set:\n",
            "               precision    recall  f1-score   support\n",
            "\n",
            "    negative       0.90      0.80      0.84      1836\n",
            "     neutral       0.54      0.75      0.63       620\n",
            "    positive       0.69      0.66      0.68       472\n",
            "\n",
            "    accuracy                           0.76      2928\n",
            "   macro avg       0.71      0.74      0.72      2928\n",
            "weighted avg       0.79      0.76      0.77      2928\n",
            "\n"
          ],
          "name": "stdout"
        }
      ]
    },
    {
      "cell_type": "code",
      "metadata": {
        "colab": {
          "base_uri": "https://localhost:8080/",
          "height": 448
        },
        "id": "zXxxFE7gRU7K",
        "outputId": "6d46405e-0b29-4d93-8f2c-b19723cfe017"
      },
      "source": [
        "make_confusion_matrix(rnn_score[-1])"
      ],
      "id": "zXxxFE7gRU7K",
      "execution_count": 126,
      "outputs": [
        {
          "output_type": "display_data",
          "data": {
            "image/png": "[encoded data removed]",
            "text/plain": [
              "<Figure size 720x504 with 2 Axes>"
            ]
          },
          "metadata": {
            "tags": []
          }
        }
      ]
    },
    {
      "cell_type": "markdown",
      "metadata": {
        "id": "SHtYHwrcRdMy"
      },
      "source": [
        "Using RNN we achieved better precision and recall on test data compared to base model"
      ],
      "id": "SHtYHwrcRdMy"
    },
    {
      "cell_type": "markdown",
      "metadata": {
        "id": "f5917364"
      },
      "source": [
        "## Base model result pros-processing and analysis\n"
      ],
      "id": "f5917364"
    },
    {
      "cell_type": "markdown",
      "metadata": {
        "id": "8f27425e"
      },
      "source": [
        "Let's try to take a closer look at the base model results and try to figure out why it might misclassify some tweets"
      ],
      "id": "8f27425e"
    },
    {
      "cell_type": "code",
      "metadata": {
        "id": "51e609bb"
      },
      "source": [
        "result_df = X_test.copy()"
      ],
      "id": "51e609bb",
      "execution_count": 127,
      "outputs": []
    },
    {
      "cell_type": "code",
      "metadata": {
        "id": "cb83de99"
      },
      "source": [
        "result_df['Y'] = y_test\n",
        "result_df['predicted_rf'] = pred_test\n",
        "result_df['correct'] = (result_df['Y'] == result_df['predicted_rf'])"
      ],
      "id": "cb83de99",
      "execution_count": 128,
      "outputs": []
    },
    {
      "cell_type": "code",
      "metadata": {
        "id": "e8ace680",
        "colab": {
          "base_uri": "https://localhost:8080/"
        },
        "outputId": "ecdd006a-fa25-469c-ecff-9c7f1cead685"
      },
      "source": [
        "result_df.isna().sum()"
      ],
      "id": "e8ace680",
      "execution_count": 129,
      "outputs": [
        {
          "output_type": "execute_result",
          "data": {
            "text/plain": [
              "tweet_id                           0\n",
              "airline_sentiment_confidence       0\n",
              "negativereason                  1092\n",
              "negativereason_confidence        810\n",
              "airline                            0\n",
              "airline_sentiment_gold          2924\n",
              "name                               0\n",
              "negativereason_gold             2925\n",
              "retweet_count                      0\n",
              "text                               0\n",
              "tweet_coord                     2728\n",
              "tweet_created                      0\n",
              "tweet_location                   932\n",
              "user_timezone                    938\n",
              "Y                                  0\n",
              "predicted_rf                       0\n",
              "correct                            0\n",
              "dtype: int64"
            ]
          },
          "metadata": {
            "tags": []
          },
          "execution_count": 129
        }
      ]
    },
    {
      "cell_type": "markdown",
      "metadata": {
        "id": "3534880b"
      },
      "source": [
        "First check how model accuracy depends on sentiment confidence"
      ],
      "id": "3534880b"
    },
    {
      "cell_type": "markdown",
      "metadata": {
        "id": "teUoHzYJSuqg"
      },
      "source": [
        "All tweets"
      ],
      "id": "teUoHzYJSuqg"
    },
    {
      "cell_type": "code",
      "metadata": {
        "id": "e7cd4b0b",
        "colab": {
          "base_uri": "https://localhost:8080/",
          "height": 0
        },
        "outputId": "b1c737b7-c7c1-4701-d081-66f5e7149c7d"
      },
      "source": [
        "sns.displot(data=result_df, x = 'airline_sentiment_confidence', hue='correct', kde=True)"
      ],
      "id": "e7cd4b0b",
      "execution_count": 130,
      "outputs": [
        {
          "output_type": "execute_result",
          "data": {
            "text/plain": [
              "<seaborn.axisgrid.FacetGrid at 0x7f46ca497ad0>"
            ]
          },
          "metadata": {
            "tags": []
          },
          "execution_count": 130
        },
        {
          "output_type": "display_data",
          "data": {
            "image/png": "[encoded data removed]",
            "text/plain": [
              "<Figure size 427.475x360 with 1 Axes>"
            ]
          },
          "metadata": {
            "tags": []
          }
        }
      ]
    },
    {
      "cell_type": "markdown",
      "metadata": {
        "id": "PA6Vnk7oSxiP"
      },
      "source": [
        "Neutral tweets"
      ],
      "id": "PA6Vnk7oSxiP"
    },
    {
      "cell_type": "code",
      "metadata": {
        "id": "9ef44267",
        "colab": {
          "base_uri": "https://localhost:8080/",
          "height": 0
        },
        "outputId": "91b51a4a-d373-49d3-b86a-68361e54c6ab"
      },
      "source": [
        "sns.displot(data=result_df[result_df['Y']=='neutral'], x = 'airline_sentiment_confidence', hue='correct', kde=True)"
      ],
      "id": "9ef44267",
      "execution_count": 131,
      "outputs": [
        {
          "output_type": "execute_result",
          "data": {
            "text/plain": [
              "<seaborn.axisgrid.FacetGrid at 0x7f46ca487e90>"
            ]
          },
          "metadata": {
            "tags": []
          },
          "execution_count": 131
        },
        {
          "output_type": "display_data",
          "data": {
            "image/png": "[encoded data removed]",
            "text/plain": [
              "<Figure size 427.475x360 with 1 Axes>"
            ]
          },
          "metadata": {
            "tags": []
          }
        }
      ]
    },
    {
      "cell_type": "markdown",
      "metadata": {
        "id": "BDth9LJUS0fE"
      },
      "source": [
        "Positive and negative tweets"
      ],
      "id": "BDth9LJUS0fE"
    },
    {
      "cell_type": "code",
      "metadata": {
        "id": "9283843c",
        "colab": {
          "base_uri": "https://localhost:8080/",
          "height": 0
        },
        "outputId": "fd4cb91d-478a-4cc7-e0c7-7f034d2f4d2f"
      },
      "source": [
        "sns.displot(data=result_df[result_df['Y']!='neutral'], x = 'airline_sentiment_confidence', hue='correct', kde=True)"
      ],
      "id": "9283843c",
      "execution_count": 132,
      "outputs": [
        {
          "output_type": "execute_result",
          "data": {
            "text/plain": [
              "<seaborn.axisgrid.FacetGrid at 0x7f46ca3bbe90>"
            ]
          },
          "metadata": {
            "tags": []
          },
          "execution_count": 132
        },
        {
          "output_type": "display_data",
          "data": {
            "image/png": "[encoded data removed]",
            "text/plain": [
              "<Figure size 427.475x360 with 1 Axes>"
            ]
          },
          "metadata": {
            "tags": []
          }
        }
      ]
    },
    {
      "cell_type": "markdown",
      "metadata": {
        "id": "e5aa3158"
      },
      "source": [
        "The higher *airline_sentiment_confidence*, the better we can identify sentiment. Which means our model correctly identifies strongly positive, negative and neutral tweets, but having trouble identifying tweets with weak sentiment. This trend is stronger for non-neutral tweets."
      ],
      "id": "e5aa3158"
    },
    {
      "cell_type": "markdown",
      "metadata": {
        "id": "6b017d6e"
      },
      "source": [
        "Now let's check if model behaviour depends on the reason of negative tweet"
      ],
      "id": "6b017d6e"
    },
    {
      "cell_type": "code",
      "metadata": {
        "id": "4385853e",
        "colab": {
          "base_uri": "https://localhost:8080/",
          "height": 0
        },
        "outputId": "383be25a-2922-4b95-96f8-3c17a0521f6e"
      },
      "source": [
        "sns.countplot(data=result_df, y = 'negativereason', hue='correct')"
      ],
      "id": "4385853e",
      "execution_count": 133,
      "outputs": [
        {
          "output_type": "execute_result",
          "data": {
            "text/plain": [
              "<matplotlib.axes._subplots.AxesSubplot at 0x7f46ca238fd0>"
            ]
          },
          "metadata": {
            "tags": []
          },
          "execution_count": 133
        },
        {
          "output_type": "display_data",
          "data": {
            "image/png": "[encoded data removed]",
            "text/plain": [
              "<Figure size 842.4x595.44 with 1 Axes>"
            ]
          },
          "metadata": {
            "tags": []
          }
        }
      ]
    },
    {
      "cell_type": "markdown",
      "metadata": {
        "id": "30d5b8ef"
      },
      "source": [
        "The model correcly classifies negative tweets about late and cancelled flights and customer service issues. However, it has trouble with classification of tweets related to bad flight experience, booking issues and in case if the reason for negative tweet is unclear. "
      ],
      "id": "30d5b8ef"
    },
    {
      "cell_type": "markdown",
      "metadata": {
        "id": "EhKpvSjopLok"
      },
      "source": [
        "Now let's take a look at a few random negaive tweets misclassified as positive"
      ],
      "id": "EhKpvSjopLok"
    },
    {
      "cell_type": "code",
      "metadata": {
        "colab": {
          "base_uri": "https://localhost:8080/"
        },
        "id": "rIv0YTihdt3a",
        "outputId": "fa5260cd-58c1-4c15-fd20-78941047dfa7"
      },
      "source": [
        "sample_df = result_df[(result_df['Y']=='negative')][result_df['predicted_rf']=='positive'][['text']].head(10)"
      ],
      "id": "rIv0YTihdt3a",
      "execution_count": 134,
      "outputs": [
        {
          "output_type": "stream",
          "text": [
            "/usr/local/lib/python3.7/dist-packages/ipykernel_launcher.py:1: UserWarning: Boolean Series key will be reindexed to match DataFrame index.\n",
            "  \"\"\"Entry point for launching an IPython kernel.\n"
          ],
          "name": "stderr"
        }
      ]
    },
    {
      "cell_type": "code",
      "metadata": {
        "colab": {
          "base_uri": "https://localhost:8080/"
        },
        "id": "kYo888I5kqOr",
        "outputId": "9c9dea0e-d41d-48fa-c700-6eed749a57fb"
      },
      "source": [
        "pd.set_option('display.max_colwidth', 1000)\n",
        "print(sample_df)\n",
        "pd.set_option('display.max_colwidth', 100)"
      ],
      "id": "kYo888I5kqOr",
      "execution_count": 135,
      "outputs": [
        {
          "output_type": "stream",
          "text": [
            "                                                                                                                                                text\n",
            "7692      @JetBlue  thanks for response! Crew has been VERY patient with us, but they are also frustrated. Wouldn't be so bad but airport is closed!\n",
            "2122    @united I hope your corporate office is ready to deal with the rage created by your shitty service and bullshit pilots. #UnitedAirlinesSucks\n",
            "5020      @SouthwestAir Thanks for the terrible service! Stranded in MDW for 2 days, &amp; now can't find confirmation for rebooked flight from MKE.\n",
            "5629                                 @SouthwestAir again another ride SW employee that printed out boarding passes. Deficiency in training obviously\n",
            "13307  @AmericanAir thanks for the DM rescheduling. Unfortunately your operations process at LAX is chaos &amp; the reps refused to print the ticket\n",
            "807                                                 @United I have no way of making phones calls... Need to handle via Twitter/email/web. Thank you!\n",
            "11180    @usairways if you could change your name to @southwestair and do what they do...that'd be awesome. Also this plane smells like onion rings.\n",
            "7182                        @JetBlue great job getting flight 28 in 10 minutes early. Too bad we're at 50 minutes and counting waiting for our bags.\n",
            "12742                      @AmericanAir thanks, but I had to hire a car in Chicago and drive to MKE. Does that mean I have to go to the airport?????\n",
            "2720                     @united Your \"Loyalty Team\" basically flipped me off via phone, but thanks. Maybe Google \"loyalty\" and get back to me? ^LOL\n"
          ],
          "name": "stdout"
        }
      ]
    },
    {
      "cell_type": "markdown",
      "metadata": {
        "id": "dmNHz7uPmfK9"
      },
      "source": [
        "We can see a few sarcastic tweets that our model misclassified as positive. For example:\n",
        "\n",
        "*@SouthwestAir Thanks for the terrible service! Stranded in MDW for 2 days, &amp; now can't find confirmation for rebooked flight from MKE.*\n",
        "\n",
        "*@united Your \"Loyalty Team\" basically flipped me off via phone, but thanks. Maybe Google \"loyalty\" and get back to me? ^LOL*\n",
        "\n",
        "Our model was probably confuced by words \"Thank you\", \"Loyalty\" and \"Great job\" in the tweets\n",
        "\n",
        "Other misclassified tweets contain polite phrases which mean nothing in cotext of the problem description, but could confuce the model:\n",
        "\n",
        "*@JetBlue  thanks for response! Crew has been VERY patient with us, but they are also frustrated. Wouldn't be so bad but airport is closed!*\n",
        "\n",
        "*@United I have no way of making phones calls... Need to handle via Twitter/email/web. Thank you!*\n"
      ],
      "id": "dmNHz7uPmfK9"
    },
    {
      "cell_type": "markdown",
      "metadata": {
        "id": "1iQuBhyTYDBD"
      },
      "source": [
        "# 6. Summarize your understanding of the application of Various Pre-processing and Vectorization and performance of your model on this dataset. "
      ],
      "id": "1iQuBhyTYDBD"
    },
    {
      "cell_type": "markdown",
      "metadata": {
        "id": "AAurVfEsCcMJ"
      },
      "source": [
        "## Summary:\n",
        "\n",
        "- We used 14640 tweets about user's experience with airlines. The goal was to build a model for text classification, i.e. to classify tweeets as positive, negative or neutral.\n",
        "- We pre-processed the data. Data pre-procesiisng includes:\n",
        "1. Html tag removal.\n",
        "1. Removal of the numbers.\n",
        "2. Removal of Special Characters and Punctuations.\n",
        "3. Removal of stopwords\n",
        "4. Conversion to lowercase.\n",
        "5. Lemmatization or stemming\n",
        "\n",
        "- The pre-precessed data is converted to numbers using bag of words or TDIDF.\n",
        "- We used Random forest model for classification.\n",
        "- We used randomied search to try different pre processing techniques with different random forest hyperparameters.\n",
        "- We also trained reinforcement neural network to build the model. This model turned to be better the random forst model\n",
        "- Base model can classify positive and negative tweets better then neutral\n",
        "- Base model can classify strongly positive and strongly negative tweets better then weakly positive/negative\n",
        "- Model accuracy for negative tweets depends on the reason for the negative opinion.\n",
        "- Model is having trouble classifying sarcastic negative tweets and negative tweets containing polite phrases like \"Thank you\" and \"It would be nice to...\" etc.\n"
      ],
      "id": "AAurVfEsCcMJ"
    },
    {
      "cell_type": "code",
      "metadata": {
        "id": "K-UG8TTqSeLe"
      },
      "source": [
        ""
      ],
      "id": "K-UG8TTqSeLe",
      "execution_count": 135,
      "outputs": []
    }
  ]
}